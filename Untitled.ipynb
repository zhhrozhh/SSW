{
 "cells": [
  {
   "cell_type": "code",
   "execution_count": 1,
   "metadata": {
    "collapsed": true
   },
   "outputs": [],
   "source": [
    "import matplotlib.pyplot as plt\n",
    "import pandas as pd\n",
    "import numpy as np\n",
    "import IND\n",
    "import ALGS\n",
    "from importlib import reload\n",
    "import quandl\n",
    "import signal\n",
    "import inspect\n",
    "import time\n",
    "from matplotlib.widgets import Slider\n",
    "%matplotlib inline"
   ]
  },
  {
   "cell_type": "code",
   "execution_count": 4,
   "metadata": {},
   "outputs": [],
   "source": [
    "ss = signal.getsignal(signal.SIGINT)"
   ]
  },
  {
   "cell_type": "code",
   "execution_count": 215,
   "metadata": {},
   "outputs": [],
   "source": [
    "F = h5py.File('NGRAM.h5','r')"
   ]
  },
  {
   "cell_type": "code",
   "execution_count": 220,
   "metadata": {},
   "outputs": [],
   "source": [
    "d = {k:F['D2'][k][()] for k in F['D2'].keys()}"
   ]
  },
  {
   "cell_type": "code",
   "execution_count": 224,
   "metadata": {},
   "outputs": [],
   "source": [
    "S = sum(d.values())"
   ]
  },
  {
   "cell_type": "code",
   "execution_count": 227,
   "metadata": {
    "collapsed": true
   },
   "outputs": [],
   "source": [
    "dd = {k:d[k]/S for k in d}"
   ]
  },
  {
   "cell_type": "code",
   "execution_count": 234,
   "metadata": {},
   "outputs": [
    {
     "data": {
      "text/plain": [
       "'1^'"
      ]
     },
     "execution_count": 234,
     "metadata": {},
     "output_type": "execute_result"
    }
   ],
   "source": [
    "min(dd,key = lambda x:dd[x])"
   ]
  },
  {
   "cell_type": "code",
   "execution_count": 236,
   "metadata": {},
   "outputs": [
    {
     "data": {
      "text/plain": [
       "0.000244140625"
      ]
     },
     "execution_count": 236,
     "metadata": {},
     "output_type": "execute_result"
    }
   ],
   "source": [
    "np.mean(list(dd.values()))"
   ]
  },
  {
   "cell_type": "code",
   "execution_count": 232,
   "metadata": {},
   "outputs": [
    {
     "data": {
      "text/plain": [
       "[<matplotlib.lines.Line2D at 0x7fdfb955a5f8>]"
      ]
     },
     "execution_count": 232,
     "metadata": {},
     "output_type": "execute_result"
    },
    {
     "data": {
      "image/png": "[encoded data removed]",
      "text/plain": [
       "<matplotlib.figure.Figure at 0x7fdfb78eeb70>"
      ]
     },
     "metadata": {},
     "output_type": "display_data"
    }
   ],
   "source": [
    "plt.plot(sorted(dd.values(),reverse = True))"
   ]
  },
  {
   "cell_type": "code",
   "execution_count": 528,
   "metadata": {},
   "outputs": [],
   "source": [
    "quandl.ApiConfig.api_key = 'qHjg9CCeM7p-e2sKJVh1'"
   ]
  },
  {
   "cell_type": "code",
   "execution_count": 546,
   "metadata": {},
   "outputs": [],
   "source": [
    "import tools"
   ]
  },
  {
   "cell_type": "code",
   "execution_count": 601,
   "metadata": {
    "collapsed": true
   },
   "outputs": [],
   "source": [
    "import pytz"
   ]
  },
  {
   "cell_type": "code",
   "execution_count": 636,
   "metadata": {
    "collapsed": true
   },
   "outputs": [],
   "source": [
    "BPAT = reload(BPAT)\n",
    "tools = reload(tools)"
   ]
  },
  {
   "cell_type": "code",
   "execution_count": 638,
   "metadata": {},
   "outputs": [],
   "source": [
    "import matplotlib"
   ]
  },
  {
   "cell_type": "code",
   "execution_count": 641,
   "metadata": {},
   "outputs": [
    {
     "data": {
      "text/plain": [
       "'module://ipykernel.pylab.backend_inline'"
      ]
     },
     "execution_count": 641,
     "metadata": {},
     "output_type": "execute_result"
    }
   ],
   "source": [
    "matplotlib.backends.backend"
   ]
  },
  {
   "cell_type": "code",
   "execution_count": 634,
   "metadata": {},
   "outputs": [
    {
     "name": "stdout",
     "output_type": "stream",
     "text": [
      "1\n"
     ]
    }
   ],
   "source": [
    "s = None\n",
    "try:\n",
    "    1/0\n",
    "except iexfinance.utils.exceptions.IEXSymbolError:\n",
    "    pass\n",
    "except:\n",
    "    print(1)"
   ]
  },
  {
   "cell_type": "code",
   "execution_count": 627,
   "metadata": {},
   "outputs": [
    {
     "data": {
      "text/plain": [
       "iexfinance.utils.exceptions.IEXSymbolError"
      ]
     },
     "execution_count": 627,
     "metadata": {},
     "output_type": "execute_result"
    }
   ],
   "source": [
    "iexfinance.utils.exceptions."
   ]
  },
  {
   "cell_type": "code",
   "execution_count": 621,
   "metadata": {},
   "outputs": [
    {
     "data": {
      "text/plain": [
       "array([], dtype=object)"
      ]
     },
     "execution_count": 621,
     "metadata": {},
     "output_type": "execute_result"
    }
   ],
   "source": [
    "BPAT.BPAT(s.Adj_Open,s.Adj_Close,s.Adj_High,s.Adj_Low,s.Adj_Volume)"
   ]
  },
  {
   "cell_type": "code",
   "execution_count": 598,
   "metadata": {},
   "outputs": [
    {
     "name": "stdout",
     "output_type": "stream",
     "text": [
      "2016-03-04 00:00:00sadaswewe\n",
      "2016-03-04 00:00:00sadaswewefff\n"
     ]
    }
   ],
   "source": [
    "with open('test','r') as f:\n",
    "    print(f.read())\n",
    "with open('test','a') as f:\n",
    "    f.write('fff')\n",
    "with open('test','r') as f:\n",
    "    print(f.read())"
   ]
  },
  {
   "cell_type": "code",
   "execution_count": 377,
   "metadata": {},
   "outputs": [],
   "source": [
    "BPAT = reload(BPAT)"
   ]
  },
  {
   "cell_type": "code",
   "execution_count": 378,
   "metadata": {
    "collapsed": true
   },
   "outputs": [],
   "source": [
    "x = BPAT.load('YRD')"
   ]
  },
  {
   "cell_type": "code",
   "execution_count": 375,
   "metadata": {},
   "outputs": [],
   "source": [
    "bpat = ''.join(x[-3:])"
   ]
  },
  {
   "cell_type": "code",
   "execution_count": 390,
   "metadata": {},
   "outputs": [],
   "source": [
    "hh = h['0x1f0x230x05']"
   ]
  },
  {
   "cell_type": "code",
   "execution_count": 393,
   "metadata": {},
   "outputs": [
    {
     "data": {
      "text/plain": [
       "<Container object of 42 artists>"
      ]
     },
     "execution_count": 393,
     "metadata": {},
     "output_type": "execute_result"
    },
    {
     "data": {
      "image/png": "[encoded data removed]",
      "text/plain": [
       "<matplotlib.figure.Figure at 0x7fdf46cc5a20>"
      ]
     },
     "metadata": {},
     "output_type": "display_data"
    }
   ],
   "source": [
    "plt.bar(range(len(hh)),sorted(hh.values()))"
   ]
  },
  {
   "cell_type": "code",
   "execution_count": 395,
   "metadata": {},
   "outputs": [],
   "source": [
    "sh = sorted(hh,key = lambda x:hh[x], reverse = True)"
   ]
  },
  {
   "cell_type": "code",
   "execution_count": 427,
   "metadata": {},
   "outputs": [
    {
     "name": "stdout",
     "output_type": "stream",
     "text": [
      " |-  |  -|   |   |  -|   |  \n",
      " |   |-  |   |   |   |   |- \n",
      " |   |   |   |   |   |   |  \n",
      " |   |   |   |   |   |   |  \n",
      " |   |   |   |- -|   |   |  \n",
      "-|   |   |-  |   |   |   |  \n",
      " |  -|   |   |   |   |-  |  \n",
      " |   |   |  -|   |-  |  -|  \n"
     ]
    }
   ],
   "source": [
    "BPAT.pprint(''.join(sh[:7]))"
   ]
  },
  {
   "cell_type": "code",
   "execution_count": 428,
   "metadata": {},
   "outputs": [],
   "source": [
    "import iexfinance"
   ]
  },
  {
   "cell_type": "code",
   "execution_count": 476,
   "metadata": {},
   "outputs": [],
   "source": [
    "s= iexfinance.stocks.Stock('BAC',output_format = 'pandas')"
   ]
  },
  {
   "cell_type": "code",
   "execution_count": 524,
   "metadata": {
    "scrolled": false
   },
   "outputs": [],
   "source": [
    "ss = pd.DataFrame(iexfinance.stocks.get_historical_data('brk.a')).T"
   ]
  },
  {
   "cell_type": "code",
   "execution_count": 525,
   "metadata": {},
   "outputs": [],
   "source": [
    "ss.columns = ['Adj_Close','Adj_High','Adj_Low','Adj_Open','Adj_Volumn']"
   ]
  },
  {
   "cell_type": "code",
   "execution_count": 508,
   "metadata": {},
   "outputs": [],
   "source": [
    "ss.index = ss.index.astype(pd.datetime)"
   ]
  },
  {
   "cell_type": "code",
   "execution_count": 526,
   "metadata": {},
   "outputs": [],
   "source": [
    "ss.index = ss.index.to_series().apply(lambda x:pd.datetime(*map(int,x.split('-'))))"
   ]
  },
  {
   "cell_type": "code",
   "execution_count": 517,
   "metadata": {
    "scrolled": true
   },
   "outputs": [
    {
     "data": {
      "text/plain": [
       "[2]"
      ]
     },
     "execution_count": 517,
     "metadata": {},
     "output_type": "execute_result"
    }
   ],
   "source": [
    "list(map(int,['2']))"
   ]
  },
  {
   "cell_type": "code",
   "execution_count": 424,
   "metadata": {},
   "outputs": [
    {
     "name": "stdout",
     "output_type": "stream",
     "text": [
      "-|   |   |  \n",
      " |   |   |  \n",
      " |   |  -|  \n",
      " |   |-  |  \n",
      " |- -|   |  \n",
      " |   |   |  \n",
      " |   |   |  \n",
      " |   |   |- \n"
     ]
    }
   ],
   "source": [
    "BPAT.pprint('0x1f0x230x05')"
   ]
  },
  {
   "cell_type": "code",
   "execution_count": 407,
   "metadata": {},
   "outputs": [
    {
     "name": "stdout",
     "output_type": "stream",
     "text": [
      " | \n",
      " |-\n",
      " | \n",
      " | \n",
      " | \n",
      " | \n",
      "-| \n",
      " | \n"
     ]
    }
   ],
   "source": [
    "BPAT.translate(0x31)"
   ]
  },
  {
   "cell_type": "code",
   "execution_count": 408,
   "metadata": {},
   "outputs": [
    {
     "name": "stdout",
     "output_type": "stream",
     "text": [
      "-| \n",
      " | \n",
      " | \n",
      " | \n",
      " | \n",
      " |-\n",
      " | \n",
      " | \n"
     ]
    }
   ],
   "source": [
    "BPAT.translate(0x17)"
   ]
  },
  {
   "cell_type": "code",
   "execution_count": 405,
   "metadata": {},
   "outputs": [
    {
     "data": {
      "text/plain": [
       "Open              12.03\n",
       "High              12.29\n",
       "Low               11.38\n",
       "Close             11.45\n",
       "Volume        467708.00\n",
       "Dividend           0.00\n",
       "Split              1.00\n",
       "Adj_Open          12.03\n",
       "Adj_High          12.29\n",
       "Adj_Low           11.38\n",
       "Adj_Close         11.45\n",
       "Adj_Volume    467708.00\n",
       "Name: 2019-03-22 00:00:00, dtype: float64"
      ]
     },
     "execution_count": 405,
     "metadata": {},
     "output_type": "execute_result"
    }
   ],
   "source": [
    "quandl.get('EOD/YRD').iloc[-1]"
   ]
  },
  {
   "cell_type": "code",
   "execution_count": 646,
   "metadata": {},
   "outputs": [],
   "source": [
    "today = pd.datetime.now(pytz.timezone('US/Eastern'))\n",
    "last = None\n",
    "with open('bpats_db/LASTUD','r') as f:\n",
    "    last = pd.datetime(*map(int,f.read().split('-')))\n",
    "if today.hour < 9:\n",
    "    today = today - timedelta(1)\n",
    "if today.hour < 16:\n",
    "    print(-1)\n",
    "today = pd.datetime(today.year,today.month,today.day)\n",
    "if today - last < timedelta(1):\n",
    "    peint(-2)"
   ]
  },
  {
   "cell_type": "code",
   "execution_count": 655,
   "metadata": {},
   "outputs": [
    {
     "name": "stdout",
     "output_type": "stream",
     "text": [
      "Help on function get_historical_data in module iexfinance.stocks:\n",
      "\n",
      "get_historical_data(symbols, start=None, end=None, **kwargs)\n",
      "    Function to obtain historical date for a symbol or list of\n",
      "    symbols. Return an instance of HistoricalReader\n",
      "    \n",
      "    Parameters\n",
      "    ----------\n",
      "    symbols: str or list\n",
      "        A symbol or list of symbols\n",
      "    start: datetime.datetime, default None\n",
      "        Beginning of desired date range\n",
      "    end: datetime.datetime, default None\n",
      "        End of required date range\n",
      "    kwargs:\n",
      "        Additional Request Parameters (see base class)\n",
      "    \n",
      "    Returns\n",
      "    -------\n",
      "    list or DataFrame\n",
      "        Historical stock prices over date range, start to end\n",
      "\n"
     ]
    }
   ],
   "source": [
    "help(iexfinance.stocks.get_historical_data)"
   ]
  },
  {
   "cell_type": "code",
   "execution_count": 665,
   "metadata": {
    "scrolled": false
   },
   "outputs": [],
   "source": [
    "x = iexfinance.stocks.Stock('yrd',output_format = 'pandas')"
   ]
  },
  {
   "cell_type": "code",
   "execution_count": 689,
   "metadata": {},
   "outputs": [],
   "source": [
    "BPAT = reload(BPAT)"
   ]
  },
  {
   "cell_type": "code",
   "execution_count": 692,
   "metadata": {},
   "outputs": [],
   "source": [
    "h = lambda x:x"
   ]
  },
  {
   "cell_type": "code",
   "execution_count": 708,
   "metadata": {},
   "outputs": [
    {
     "data": {
      "text/plain": [
       "False"
      ]
     },
     "execution_count": 708,
     "metadata": {},
     "output_type": "execute_result"
    }
   ],
   "source": [
    "pd.datetime.today(),pd.datetime.now()\n",
    "timedelta(hours = 1) < timedelta(minutes = 1)"
   ]
  },
  {
   "cell_type": "code",
   "execution_count": 701,
   "metadata": {},
   "outputs": [
    {
     "ename": "TypeError",
     "evalue": "'datetime.timedelta' object is not callable",
     "output_type": "error",
     "traceback": [
      "\u001b[0;31m---------------------------------------------------------------------------\u001b[0m",
      "\u001b[0;31mTypeError\u001b[0m                                 Traceback (most recent call last)",
      "\u001b[0;32m<ipython-input-701-f8c2a0910f15>\u001b[0m in \u001b[0;36m<module>\u001b[0;34m()\u001b[0m\n\u001b[0;32m----> 1\u001b[0;31m \u001b[0ms\u001b[0m\u001b[0;34m.\u001b[0m\u001b[0mresolution\u001b[0m\u001b[0;34m(\u001b[0m\u001b[0;34m)\u001b[0m\u001b[0;34m\u001b[0m\u001b[0;34m\u001b[0m\u001b[0m\n\u001b[0m",
      "\u001b[0;31mTypeError\u001b[0m: 'datetime.timedelta' object is not callable"
     ]
    }
   ],
   "source": []
  },
  {
   "cell_type": "code",
   "execution_count": 307,
   "metadata": {},
   "outputs": [
    {
     "data": {
      "text/plain": [
       "838.8608"
      ]
     },
     "execution_count": 307,
     "metadata": {},
     "output_type": "execute_result"
    }
   ],
   "source": [
    "4**11/5000"
   ]
  },
  {
   "cell_type": "code",
   "execution_count": 174,
   "metadata": {
    "collapsed": true
   },
   "outputs": [],
   "source": [
    "d = {k:F['D1'][k][()] for k in ks}"
   ]
  },
  {
   "cell_type": "code",
   "execution_count": 181,
   "metadata": {},
   "outputs": [],
   "source": [
    "s = sum(d.values())"
   ]
  },
  {
   "cell_type": "code",
   "execution_count": 285,
   "metadata": {},
   "outputs": [],
   "source": [
    "def f(d):\n",
    "    d.clear()"
   ]
  },
  {
   "cell_type": "code",
   "execution_count": 284,
   "metadata": {
    "collapsed": true
   },
   "outputs": [],
   "source": [
    "s = {1:3}"
   ]
  },
  {
   "cell_type": "code",
   "execution_count": 289,
   "metadata": {},
   "outputs": [],
   "source": [
    "F.close()"
   ]
  },
  {
   "cell_type": "code",
   "execution_count": 253,
   "metadata": {},
   "outputs": [
    {
     "data": {
      "text/plain": [
       "[<matplotlib.lines.Line2D at 0x7fdfb7a098d0>]"
      ]
     },
     "execution_count": 253,
     "metadata": {},
     "output_type": "execute_result"
    },
    {
     "data": {
      "image/png": "[encoded data removed]",
      "text/plain": [
       "<matplotlib.figure.Figure at 0x7fdfbe4c8470>"
      ]
     },
     "metadata": {},
     "output_type": "display_data"
    }
   ],
   "source": [
    "plt.plot([64**i/i for i in range(1,10)])"
   ]
  },
  {
   "cell_type": "code",
   "execution_count": 191,
   "metadata": {},
   "outputs": [
    {
     "data": {
      "image/png": "[encoded data removed]",
      "text/plain": [
       "<matplotlib.figure.Figure at 0x7fdfba857240>"
      ]
     },
     "metadata": {},
     "output_type": "display_data"
    }
   ],
   "source": [
    "_ = plt.plot(sorted(dd.values(),reverse = True))"
   ]
  },
  {
   "cell_type": "code",
   "execution_count": 201,
   "metadata": {},
   "outputs": [
    {
     "data": {
      "text/plain": [
       "17"
      ]
     },
     "execution_count": 201,
     "metadata": {},
     "output_type": "execute_result"
    }
   ],
   "source": [
    "ord(min(dd,key = lambda x:dd[x]))-48"
   ]
  },
  {
   "cell_type": "code",
   "execution_count": 843,
   "metadata": {},
   "outputs": [],
   "source": [
    "tools = reload(tools)\n"
   ]
  },
  {
   "cell_type": "code",
   "execution_count": 848,
   "metadata": {},
   "outputs": [],
   "source": [
    "d = {1:3,2:4}"
   ]
  },
  {
   "cell_type": "code",
   "execution_count": 853,
   "metadata": {},
   "outputs": [],
   "source": [
    "import INDAYANA"
   ]
  },
  {
   "cell_type": "code",
   "execution_count": 864,
   "metadata": {
    "collapsed": true
   },
   "outputs": [],
   "source": [
    "INDAYANA = reload(INDAYANA)\n",
    "INDAYANA.watch_list = ['yrd','baba','x']\n",
    "INDAYANA.get_pats(3)()"
   ]
  },
  {
   "cell_type": "code",
   "execution_count": 865,
   "metadata": {},
   "outputs": [
    {
     "name": "stdout",
     "output_type": "stream",
     "text": [
      "\b8378/8558"
     ]
    }
   ],
   "source": [
    "INDAYANA.process_NGRAM(3)()"
   ]
  },
  {
   "cell_type": "code",
   "execution_count": 892,
   "metadata": {},
   "outputs": [
    {
     "data": {
      "text/plain": [
       "{'0x00': 1,\n",
       " '0x03': 4,\n",
       " '0x04': 1,\n",
       " '0x05': 1,\n",
       " '0x06': 1,\n",
       " '0x07': 3,\n",
       " '0x08': 3,\n",
       " '0x09': 1,\n",
       " '0x0a': 1,\n",
       " '0x0b': 1,\n",
       " '0x0d': 2,\n",
       " '0x0e': 2,\n",
       " '0x0f': 4,\n",
       " '0x10': 1,\n",
       " '0x13': 1,\n",
       " '0x16': 2,\n",
       " '0x17': 5,\n",
       " '0x18': 4,\n",
       " '0x19': 1,\n",
       " '0x1b': 1,\n",
       " '0x1d': 2,\n",
       " '0x1e': 1,\n",
       " '0x20': 2,\n",
       " '0x21': 1,\n",
       " '0x23': 1,\n",
       " '0x24': 3,\n",
       " '0x26': 1,\n",
       " '0x27': 3,\n",
       " '0x28': 2,\n",
       " '0x29': 1,\n",
       " '0x2a': 2,\n",
       " '0x2d': 1,\n",
       " '0x30': 4,\n",
       " '0x31': 5,\n",
       " '0x32': 3,\n",
       " '0x34': 2,\n",
       " '0x38': 2,\n",
       " '0x39': 2,\n",
       " '0x3a': 5,\n",
       " '0x3b': 2,\n",
       " '0x3c': 2,\n",
       " '0x3d': 2}"
      ]
     },
     "execution_count": 892,
     "metadata": {},
     "output_type": "execute_result"
    }
   ],
   "source": [
    "INDAYANA.ngram_res[3]['0x1f0x230x05']"
   ]
  },
  {
   "cell_type": "code",
   "execution_count": 869,
   "metadata": {},
   "outputs": [
    {
     "data": {
      "text/plain": [
       "{3: {'BABA': '0x350x390x0e', 'X': '0x2f0x300x06', 'YRD': '0x1f0x230x05'}}"
      ]
     },
     "execution_count": 869,
     "metadata": {},
     "output_type": "execute_result"
    }
   ],
   "source": [
    "INDAYANA.bps"
   ]
  },
  {
   "cell_type": "code",
   "execution_count": 870,
   "metadata": {
    "collapsed": true
   },
   "outputs": [],
   "source": [
    "import shutil"
   ]
  },
  {
   "cell_type": "code",
   "execution_count": 871,
   "metadata": {},
   "outputs": [
    {
     "data": {
      "text/plain": [
       "'bpats_dbx'"
      ]
     },
     "execution_count": 871,
     "metadata": {},
     "output_type": "execute_result"
    }
   ],
   "source": [
    "shutil.copytree('bpats_db','bpats_dbx')"
   ]
  },
  {
   "cell_type": "code",
   "execution_count": 883,
   "metadata": {},
   "outputs": [
    {
     "data": {
      "text/plain": [
       "'0000000000002'"
      ]
     },
     "execution_count": 883,
     "metadata": {},
     "output_type": "execute_result"
    }
   ],
   "source": [
    "'{:013}'.format(2)"
   ]
  },
  {
   "cell_type": "code",
   "execution_count": 1017,
   "metadata": {},
   "outputs": [
    {
     "data": {
      "text/plain": [
       "[0, 0, 0, 0]"
      ]
     },
     "execution_count": 1017,
     "metadata": {},
     "output_type": "execute_result"
    }
   ],
   "source": [
    "[0]*4"
   ]
  },
  {
   "cell_type": "code",
   "execution_count": 1019,
   "metadata": {},
   "outputs": [
    {
     "data": {
      "text/plain": [
       "(array([36., 10.,  9.,  4.,  4.,  0.,  0.,  2.,  5.,  2.]),\n",
       " array([11.25 , 12.825, 14.4  , 15.975, 17.55 , 19.125, 20.7  , 22.275,\n",
       "        23.85 , 25.425, 27.   ]),\n",
       " <a list of 10 Patch objects>)"
      ]
     },
     "execution_count": 1019,
     "metadata": {},
     "output_type": "execute_result"
    },
    {
     "data": {
      "image/png": "[encoded data removed]",
      "text/plain": [
       "<matplotlib.figure.Figure at 0x7fdf056751d0>"
      ]
     },
     "metadata": {},
     "output_type": "display_data"
    }
   ],
   "source": [
    "BPAT = reload(BPAT)\n",
    "dd = pd.DataFrame(BPAT.ANA_RES(INDAYANA.ngram_res[3]['0x350x390x0e'],13,11,13.4))\n",
    "plt.hist(dd['Cx'])"
   ]
  },
  {
   "cell_type": "code",
   "execution_count": 1021,
   "metadata": {},
   "outputs": [
    {
     "data": {
      "image/png": "[encoded data removed]",
      "text/plain": [
       "<matplotlib.figure.Figure at 0x7fdf05069ba8>"
      ]
     },
     "metadata": {},
     "output_type": "display_data"
    }
   ],
   "source": [
    "BPAT = reload(BPAT)\n",
    "dd = pd.DataFrame(BPAT.ANA_RES(INDAYANA.ngram_res[3]['0x2f0x300x06'],13,12.6,13.4))\n",
    "\n",
    "L = len(dd)\n",
    "for i in range(len(dd)):\n",
    "    if (dd.iloc[i]['H'] <= 15)or True:\n",
    "        plt.scatter([1],[dd.iloc[i]['H']],color = 'red')\n",
    "    if (dd.iloc[i]['L'] >= 11)or True:\n",
    "        plt.scatter([2],[dd.iloc[i]['L']],color = 'blue')\n",
    "    if (dd.iloc[i]['Cx'] <=15 and dd.iloc[i]['Cx']>=11)or True:\n",
    "        plt.scatter([3],[dd.iloc[i]['Cx']],color = 'green')\n",
    "        \n",
    "    if (dd.iloc[i]['Cy'] <=15 and dd.iloc[i]['Cy']>=11)or True:\n",
    "        plt.scatter([4],[dd.iloc[i]['Cy']],color = 'black')\n",
    "    x = np.linspace(0,5)\n",
    "    plt.plot(x,x*0+13)"
   ]
  },
  {
   "cell_type": "code",
   "execution_count": 1004,
   "metadata": {},
   "outputs": [],
   "source": [
    "def NN(n):\n",
    "    def w(func):\n",
    "        #print(func.__name__)\n",
    "        def res():\n",
    "            func(n)\n",
    "        res.__name__ = func.__name__\n",
    "        return res\n",
    "    return w\n",
    "        "
   ]
  },
  {
   "cell_type": "code",
   "execution_count": 1005,
   "metadata": {},
   "outputs": [],
   "source": [
    "@NN(2)\n",
    "def j(x):\n",
    "    print(x)"
   ]
  },
  {
   "cell_type": "code",
   "execution_count": 1006,
   "metadata": {},
   "outputs": [
    {
     "data": {
      "text/plain": [
       "'j'"
      ]
     },
     "execution_count": 1006,
     "metadata": {},
     "output_type": "execute_result"
    }
   ],
   "source": [
    "j.__name__"
   ]
  },
  {
   "cell_type": "code",
   "execution_count": 3,
   "metadata": {},
   "outputs": [],
   "source": [
    "import BPAT"
   ]
  },
  {
   "cell_type": "code",
   "execution_count": 4,
   "metadata": {},
   "outputs": [
    {
     "name": "stdout",
     "output_type": "stream",
     "text": [
      "A AA AAAU AABA AAC AADR AAL AAMC AAME AAN AAOI AAON AAP AAPL AAT AAU AAWW AAXJ AAXN AB ABB ABBV ABC ABCB ABDC ABEO ABEOW ABEV ABG ABIL ABIO ABM ABMD ABR ABR_P_A ABR_P_B ABR_P_C ABT ABTX ABUS AC ACA ACAD ACAMU ACB ACBI ACC ACCO ACER ACET ACGL ACGLO ACGLP ACH ACHC ACHN ACHV ACIA ACIM ACIU ACIW ACLS ACM ACMR ACN ACNB ACOR ACP ACRE ACRS ACRX ACSG ACST ACT ACTG ACU ACV ACWF ACWI ACWX ACY ADAP ADBE ADC ADES ADI ADIL ADILW ADM ADMA ADMP ADMS ADNT ADOM ADP ADRA ADRD ADRE ADRO ADRU ADS ADSK ADSW ADT ADTN ADUS ADVM ADX ADXS AE AEB AED AEE AEF AEG AEGN AEH AEHR AEIS AEL AEM AEMD AEO AEP AER AERI AES AETI AEY AEYE AEZS AFB AFC AFG AFGB AFGE AFGH AFH AFHBL AFI AFIN AFK AFL AFMD AFSI_P_A AFSI_P_B AFSI_P_C AFSI_P_D AFSI_P_E AFSI_P_F AFSS AFST AFT AFTY AG AGCO AGD AGE AGEN AGF AGFS AGFSW AGG AGGE AGGP AGGY AGI AGIO AGLE AGM AGM_A AGM_P_A AGM_P_B AGM_P_C AGMH AGN AGNC AGNCB AGNCM AGNCN AGND AGO AGO_P_B AGO_P_E AGO_P_F AGQ AGR AGRO AGRX AGS AGTC AGX AGYS AGZ AGZD AHC AHH AHL AHL_P_C AHL_P_D AHPI AHT AHT_P_D AHT_P_F AHT_P_G AHT_P_H AHT_P_I AI AI_P_B AI_P_C AIA AIC AIEQ AIF AIG AIG_P_A AIG_WS AIHS AIIQ AIMC AIMT AIN AINC AINV AIPT AIQ AIR AIRG AIRI AIRR AIRT AIT AIV AIV_P_A AIW AIY AIZ AIZP AJG AJRD AJX AJXA AKAM AKAO AKBA AKCA AKER AKG AKO_A AKO_B AKP AKR AKRX AKS AKTS AKTX AL AL_P_A ALAC ALACR ALACU ALACW ALB ALBO ALCO ALD ALDR ALDX ALE ALEC ALEX ALG ALGN ALGR ALGRR ALGRU ALGRW ALGT ALIM ALJJ ALK ALKS ALL ALL_P_A ALL_P_B ALL_P_D ALL_P_E ALL_P_F ALL_P_G ALLE ALLK ALLO ALLT ALLY ALLY_P_A ALNA ALNY ALO ALOT ALP_P_Q ALPN ALQA ALRM ALRN ALSK ALSN ALT ALTM ALTR ALTY ALV ALX ALXN ALYA AM AMAG AMAL AMAT AMBA AMBC AMBCW AMBO AMBR AMC AMCA AMCI AMCIU AMCIW AMCN AMCX AMD AME AMED AMEH AMG AMGN AMGP AMH AMH_P_D AMH_P_E AMH_P_F AMH_P_G AMH_P_H AMID AMJ AMJL AMKR AMLP AMN AMNB AMOT AMOV AMP AMPE AMPH AMR AMRB AMRC AMRH AMRHW AMRK AMRN AMRS AMRWW AMRX AMS AMSC AMSF AMSWA AMT AMTB AMTBB AMTD AMTX AMU AMUB AMWD AMX AMZA AMZN AN ANAB ANAT ANCN ANCX ANDA ANDAR ANDAU ANDAW ANDE ANDX ANET ANF ANFI ANGI ANGL ANGO ANH ANH_P_A ANH_P_B ANH_P_C ANIK ANIP ANIX ANSS ANTM ANY AOA AOBC AOD AOIL AOK AOM AON AOR AOS AOSL AP APA APAM APB APC APD APDN APDNW APEI APEN APF APH APHA APHB APLE APLS APM APO APO_P_A APO_P_B APOG APOP APOPW APPF APPN APPS APRN APT APTO APTS APTV APTX APU APVO APWC APY APYX AQ AQB AQMS AQN AQNA AQST AQUA AQXP AR ARA ARAV ARAY ARC ARCB ARCC ARCE ARCH ARCI ARCO ARCT ARCW ARD ARDC ARDS ARDX ARE ARE_P_D AREC ARES ARES_P_A AREX ARGD ARGO ARGT ARGX ARI ARI_P_C ARKF ARKG ARKK ARKQ ARKR ARKW ARL ARLO ARLP ARMK ARNA ARNC ARNC_P AROC AROW ARPO ARQL ARR ARR_P_A ARR_P_B ARRS ARRY ARTNA ARTW ARTX ARVN ARW ARWR ARYA ARYAU ARYAW ASA ASB ASB_P_C ASB_P_D ASB_P_E ASC ASCMA ASEA ASET ASFI ASG ASGN ASH ASHR ASHS ASHX ASIX ASLN ASM ASMB ASML ASNA ASND ASNS ASPN ASPS ASPU ASR ASRT ASRV ASRVP AST ASTC ASTE ASUR ASV ASX ASYS AT ATAI ATAX ATEC ATEN ATEST ATEST_C ATEST_G ATGE ATH ATHM ATHN ATHX update ATHX failed, 2019-3-23 -> 2019-3-25\n",
      "ATI update ATI failed, 2019-3-23 -> 2019-3-25\n",
      "ATIS update ATIS failed, 2019-3-23 -> 2019-3-25\n",
      "ATISW update ATISW failed, 2019-3-23 -> 2019-3-25\n",
      "ATKR update ATKR failed, 2019-3-23 -> 2019-3-25\n",
      "ATLC update ATLC failed, 2019-3-23 -> 2019-3-25\n",
      "ATLO update ATLO failed, 2019-3-23 -> 2019-3-25\n",
      "ATMP update ATMP failed, 2019-3-23 -> 2019-3-25\n",
      "ATNI update ATNI failed, 2019-3-23 -> 2019-3-25\n",
      "ATNM update ATNM failed, 2019-3-23 -> 2019-3-25\n",
      "ATNX update ATNX failed, 2019-3-23 -> 2019-3-25\n",
      "ATO update ATO failed, 2019-3-23 -> 2019-3-25\n",
      "ATOM update ATOM failed, 2019-3-23 -> 2019-3-25\n",
      "ATOS update ATOS failed, 2019-3-23 -> 2019-3-25\n",
      "ATR update ATR failed, 2019-3-23 -> 2019-3-25\n",
      "ATRA update ATRA failed, 2019-3-23 -> 2019-3-25\n",
      "ATRC update ATRC failed, 2019-3-23 -> 2019-3-25\n",
      "ATRI update ATRI failed, 2019-3-23 -> 2019-3-25\n",
      "ATRO update ATRO failed, 2019-3-23 -> 2019-3-25\n",
      "ATRS update ATRS failed, 2019-3-23 -> 2019-3-25\n",
      "ATSG update ATSG failed, 2019-3-23 -> 2019-3-25\n",
      "ATTO update ATTO failed, 2019-3-23 -> 2019-3-25\n",
      "ATTU update ATTU failed, 2019-3-23 -> 2019-3-25\n",
      "ATU update ATU failed, 2019-3-23 -> 2019-3-25\n",
      "ATUS update ATUS failed, 2019-3-23 -> 2019-3-25\n",
      "ATV update ATV failed, 2019-3-23 -> 2019-3-25\n",
      "ATVI update ATVI failed, 2019-3-23 -> 2019-3-25\n",
      "ATXI update ATXI failed, 2019-3-23 -> 2019-3-25\n",
      "AU update AU failed, 2019-3-23 -> 2019-3-25\n",
      "AUBN update AUBN failed, 2019-3-23 -> 2019-3-25\n",
      "AUDC update AUDC failed, 2019-3-23 -> 2019-3-25\n",
      "AUG update AUG failed, 2019-3-23 -> 2019-3-25\n",
      "AUGR update AUGR failed, 2019-3-23 -> 2019-3-25\n",
      "AUMN update AUMN failed, 2019-3-23 -> 2019-3-25\n",
      "AUO update AUO failed, 2019-3-23 -> 2019-3-25\n",
      "AUPH update AUPH failed, 2019-3-23 -> 2019-3-25\n",
      "AUSE update AUSE failed, 2019-3-23 -> 2019-3-25\n",
      "AUSF update AUSF failed, 2019-3-23 -> 2019-3-25\n",
      "AUTL update AUTL failed, 2019-3-23 -> 2019-3-25\n",
      "AUTO update AUTO failed, 2019-3-23 -> 2019-3-25\n",
      "AUY update AUY failed, 2019-3-23 -> 2019-3-25\n",
      "AVA update AVA failed, 2019-3-23 -> 2019-3-25\n",
      "AVAL update AVAL failed, 2019-3-23 -> 2019-3-25\n",
      "AVAV update AVAV failed, 2019-3-23 -> 2019-3-25\n",
      "AVB update AVB failed, 2019-3-23 -> 2019-3-25\n",
      "AVCO update AVCO failed, 2019-3-23 -> 2019-3-25\n",
      "AVD update AVD failed, 2019-3-23 -> 2019-3-25\n",
      "AVDL update AVDL failed, 2019-3-23 -> 2019-3-25\n",
      "AVDR update AVDR failed, 2019-3-23 -> 2019-3-25\n",
      "AVEO update AVEO failed, 2019-3-23 -> 2019-3-25\n",
      "AVGO update AVGO failed, 2019-3-23 -> 2019-3-25\n",
      "AVGR update AVGR failed, 2019-3-23 -> 2019-3-25\n",
      "AVH update AVH failed, 2019-3-23 -> 2019-3-25\n",
      "AVID update AVID failed, 2019-3-23 -> 2019-3-25\n",
      "AVK update AVK failed, 2019-3-23 -> 2019-3-25\n",
      "AVLR update AVLR failed, 2019-3-23 -> 2019-3-25\n",
      "AVNS update AVNS failed, 2019-3-23 -> 2019-3-25\n",
      "AVNW update AVNW failed, 2019-3-23 -> 2019-3-25\n",
      "AVP update AVP failed, 2019-3-23 -> 2019-3-25\n",
      "AVRO update AVRO failed, 2019-3-23 -> 2019-3-25\n",
      "AVT update AVT failed, 2019-3-23 -> 2019-3-25\n",
      "AVX update AVX failed, 2019-3-23 -> 2019-3-25\n",
      "AVXL update AVXL failed, 2019-3-23 -> 2019-3-25\n",
      "AVY update AVY failed, 2019-3-23 -> 2019-3-25\n",
      "AVYA update AVYA failed, 2019-3-23 -> 2019-3-25\n",
      "AWF update AWF failed, 2019-3-23 -> 2019-3-25\n",
      "AWI update AWI failed, 2019-3-23 -> 2019-3-25\n",
      "AWK update AWK failed, 2019-3-23 -> 2019-3-25\n",
      "AWP update AWP failed, 2019-3-23 -> 2019-3-25\n",
      "AWR update AWR failed, 2019-3-23 -> 2019-3-25\n",
      "AWRE update AWRE failed, 2019-3-23 -> 2019-3-25\n",
      "AWSM update AWSM failed, 2019-3-23 -> 2019-3-25\n",
      "AWTM update AWTM failed, 2019-3-23 -> 2019-3-25\n",
      "AWX update AWX failed, 2019-3-23 -> 2019-3-25\n",
      "AX update AX failed, 2019-3-23 -> 2019-3-25\n",
      "AXAS update AXAS failed, 2019-3-23 -> 2019-3-25\n",
      "AXDX update AXDX failed, 2019-3-23 -> 2019-3-25\n"
     ]
    },
    {
     "name": "stdout",
     "output_type": "stream",
     "text": [
      "AXE AXGN AXGT AXJL AXJV AXL AXNX AXO AXP AXR AXS AXS_P_D AXS_P_E AXSM AXTA AXTI AXU AY AYI AYR AYTU AYX AZN AZO AZPN AZRE AZRX AZUL AZZ B BA BAB BABA BABY BAC BAC_P_A BAC_P_B BAC_P_C BAC_P_E BAC_P_K BAC_P_L BAC_P_W BAC_P_Y BAF BAH BAK BAL BAM BANC BANC_P_D BANC_P_E BAND BANF BANFP BANR BANX BAP BAR BAS BASI BATRA BATRK BATT BAX BB BBBY BBC BBCP BBD BBDC BBDO BBF BBGI BBH BBK BBL BBN BBP BBRC BBSI BBT BBT_P_D BBT_P_E BBT_P_F BBT_P_G BBT_P_H BBU BBVA BBW BBX BBY BC BC_P_A BC_P_B BC_P_C BCAC BCACR BCACU BCACW BCBP BCC BCD BCE BCEI BCH BCI BCLI BCM BCML BCNA BCO BCOM BCOR BCOV BCOW BCPC BCRH BCRX BCS BCSF BCTF BCV BCV_P_A BCX BDC BDC_P_B BDCL BDCS BDCZ BDD BDGE BDJ BDL BDN BDR BDRY BDSI BDX BDXA BE BEAT BECN BEDU BEF BEL BELFA BELFB BEN BEP BERY BEST BF_A BF_B BFAM BFC BFIN BFIT BFK BFO BFOR BFR BFRA BFS BFS_P_C BFS_P_D BFST BFY BFZ BG BGB BGCP BGFV BGG BGH BGI BGIO BGNE BGR BGRN BGS BGSF BGT BGX BGY BH BH_A BHB BHBK BHC BHE BHF BHFAL BHGE BHK BHLB BHP BHR BHR_P_B BHR_P_D BHTG BHV BHVN BIB BIBL BICK BID BIDU BIF BIG BIIB BIKR BIL BILI BIMI BIMI_ BIO BIO_B BIOC BIOL BIOS BIOX BIOX_WS BIP BIQI BIS BIT BITA BIV BIZD BJ BJK BJRI BK BK_P_C BKC BKCC BKCH BKD BKE BKEP BKEPP BKF BKH BKI BKJ BKK BKLN BKN BKNG BKS BKSC BKT BKTI BKU BKYI BL BLBD BLCM BLCN BLD BLDP BLDR BLE BLES BLFS BLHY BLIN BLK BLKB BLL BLMN BLMT BLNK BLNKW BLOK BLPH BLRX BLUE BLV BLW BLX BMA BMCH BME BMI BML_P_G BML_P_H BML_P_J BML_P_L BMLP BMO BMRA BMRC BMRN BMS BMTC BMY BNCL BND BNDC BNDW BNDX BNED BNFT BNGO BNGOW BNO BNS BNSO BNTC BNTCW BNY BOCH BOE BOH BOIL BOJA BOKF BOKFL BOLD BOM BOMN BOND BOOM BOON BOOT BORN BOS BOSC BOTJ BOTZ BOUT BOX BOXL BP BPFH BPI BPL BPMC BPMP BPMX BPOP BPOPM BPOPN BPR BPRAP BPRN BPT BPTH BPY BQH BR BRAC BRACR BRACU BRACW BRC BREW BRF BRFS BRG BRG_P_A BRG_P_C BRG_P_D BRID BRK_A BRK_B BRKL BRKR BRKS BRN BRO BRPA BRPAR BRPAU BRPAW BRQS BRS BRSS BRT BRX BRY BRZU BSA BSAC BSAE BSBE BSBR BSCE BSCJ BSCK BSCL BSCM BSCN BSCO BSCP BSCQ BSCR BSCS BSD BSDE BSE BSET BSGM BSIG BSJJ BSJK BSJL BSJM BSJN BSJO BSJP BSJQ BSL BSM BSMX BSQR BSRR BST BSTC BSV BSVN BSX BT BTA BTAI BTAL BTE BTEC BTG BTI BTN BTO BTT BTU BTX BTZ BUD BUI BURG BURL BUSE BUY BUYN BUZ BV BVAL BVN BVNSC BVSN BVXV BVXVW BW BWA BWB BWEN BWFG BWG BWL_A BWMC BWMCU BWMCW BWX BWXT BWZ BX BXC BXEFF BXG BXMT BXMX BXP BXP_P_B BXS BY BYD BYFC BYLD BYM BYSI BZF BZH BZM BZQ BZUN C C_P_J C_P_K C_P_L_CL C_P_N C_P_S CAAP CAAS CABO CAC CACC CACG CACI CADC CADE CAE CAF CAG CAH CAI CAI_P_A CAI_P_B CAJ CAKE CAL CALA CALM CALX CAMP CAMT CANE CANF CANG CAPE CAPL CAPR CAR CARA CARB CARG CARO CARS CART CARV CARZ CASA CASH CASI CASM CASS CASY CAT CATB CATC CATH CATM CATO CATS CATY CAW CB CBAN CBAT CBAY CBB CBB_P_B CBD CBFV CBH CBIO CBK CBL CBL_P_D CBL_P_E CBLI CBLK CBM CBMB CBMG CBND CBNK CBON CBPO CBPX CBRE CBRL CBS CBS_A CBSH CBSHP CBT CBTX CBU CBX CBZ CC CCA CCB CCBG CCC CCC_U CCC_WS CCCL CCD CCEP CCF CCH CCH_U CCH_WS CCI CCI_P_A CCIH CCJ CCK CCL CCLP CCM CCMP CCNE CCNI CCO CCOI CCOR CCR CCRC CCRN CCS CCU CCXI CCZ CDAY CDC CDE CDEV CDK CDL CDLX CDMO CDMOP CDNA CDNS CDOR CDR CDR_P_B CDR_P_C CDTX CDW CDXC CDXS CDZI CE CEA CECE CECO CEE CEF CEFL CEI CEIX CEL CELC CELG CELGZ CELH CELP CEM CEMI CEN CENT CENTA CENX CEO CEPU CEQP CERC CERN CERS CET CETV CETX CETXP CETXW CEV CEVA CEW CEY CEZ CF CFA CFBI CFBK CFFA CFFAU CFFAW CFFI CFFN CFG CFG_P_D CFMS CFO CFR CFR_P_A CFRX CFX CFXA CG CGA CGBD CGC CGEN CGIX CGNX CGO CGVIC CGVICNX CGW CHA CHAC CHAC_U CHAC_WS CHAD CHAP CHAU CHCI CHCO CHCT CHD CHDN CHE CHEF CHEK CHEKW CHEKZ CHEP CHFC CHFS CHGG CHGX CHH CHI CHIC CHIE CHIH CHII CHIK CHIL CHIM CHIQ CHIR CHIS CHIU CHIX CHK CHK_P_D CHKE CHKP CHKR CHL CHMA CHMG CHMI CHMI_P_A CHMI_P_B CHN CHNA CHNR CHRA CHRS CHRW CHS CHSCL CHSCM CHSCN CHSCO CHSCP CHSP CHT CHTR CHU CHUY CHW CHY CI CIA CIB CIBR CIC CIC_U CIC_WS CID CIDM CIEN CIF CIFS CIG CIG_C CIGI CII CIK CIL CIM CIM_P_A CIM_P_B CIM_P_C CIM_P_D CINF CINR CIO CIO_P_A CIR CISN CIT CIVB CIVBP CIVEC CIVECNX CIVI CIX CIZ CIZN CJ CJJD CJNK CKH CKPT CKX CL CLAR CLB CLBK CLBS CLCT CLD CLDB CLDC CLDR CLDT CLDX CLF CLFD CLGN CLGX CLH CLI CLIR CLIRW CLIX CLLS CLM CLMT CLNC CLNE CLNY CLNY_P_B CLNY_P_E CLNY_P_G CLNY_P_H CLNY_P_I CLNY_P_J CLPR CLPS CLR CLRB CLRBW CLRBZ CLRG CLRO CLS CLSD CLSN CLTL CLUB CLVS CLW CLWT CLX CLXT CM CMA CMBS CMC CMCL CMCM CMCO CMCSA CMCT CMCTP CMD CMDY CME CMF CMFN CMFNL CMG CMI CMLS CMO CMO_P_E CMP CMPR CMRE CMRE_P_B CMRE_P_C CMRE_P_D CMRE_P_E CMRX CMS CMS_P_B CMSA CMSC CMSD CMSS CMSSR CMSSU CMSSW CMT CMTA CMTL CMU CN CNA CNAC CNACR CNACU CNACW CNAT CNBKA CNC CNCE CNCR CNDT CNET CNF CNFR CNFRL CNHI CNHX CNI CNK CNMD CNNE CNO CNOB CNP CNP_P_B CNQ CNS CNSL CNST CNTF CNTY CNX CNXM CNXN CNXT CNY CO COCP CODA CODI CODI_P_A CODI_P_B CODX COE COF COF_P_C COF_P_D COF_P_F COF_P_G COF_P_H COF_P_P COG COHN COHR COHU COKE COLB COLD COLL COLM COM COMB COMG COMM COMT CONE CONN COO COOP COP COPX COR CORE CORN CORP CORR CORR_P_A CORT CORV COST COT COTY COUP COW COWN COWNL COWNZ CP CPA CPAC CPAH CPB CPE CPE_P_A CPER CPF CPG CPHC CPHI CPI CPIX CPK CPL CPLG CPLP CPRI CPRT CPRX CPS CPSH CPSI CPSS CPST CPT CPTA CPTAG CPTAL CQP CQQQ CR CRAI CRAK CRAY CRBN CRBP CRC CRCM CRD_A CRD_B CREE CREG CRESY CREX CREXW CRF CRH CRHM CRI CRIS CRK CRL CRM CRMD CRMT CRNT CRNX CROC CRON CROP CROX CRR CRS CRSAU CRSP CRT CRTO CRUS CRUSC CRUSCNX CRVL CRVS CRWS CRY CRZO CS CSA CSB CSBR CSCO CSD CSF CSFL CSGP CSGS CSII CSIQ CSL CSLT CSML CSOD CSPI CSQ CSS CSSE CSSEP CSTE CSTM CSTR CSU CSV CSWC CSWCL CSWI CSX CTAA CTAC CTACU CTACW CTAS CTB CTBB CTBI CTDD CTEK CTG CTHR CTIB CTIC CTK CTL CTLT CTMX CTO CTR CTRA CTRC CTRE CTRL CTRM CTRN CTRP CTRV CTS CTSH CTSO CTST CTT CTV CTWS CTXR CTXRW CTXS CTY CTZ CUB CUBA CUBE CUBI CUBI_P_C CUBI_P_D CUBI_P_E CUBI_P_F CUE CUI CUK CULP CUMB CUO CUR CURE CURO CUT CUTR CUZ CVA CVBF CVCO CVCY CVE CVEO CVET CVETV CVGI CVGW CVI CVIA CVLT CVLY CVM CVNA CVR CVRR CVRS CVS CVTI CVU CVV CVX CVY CW CWB CWBC CWBR CWCO CWEB CWEN CWEN_A CWH CWI CWK CWS CWST CWT CX CXDC CXE CXH CXO CXP CXSE CXW CY CYAD CYAN CYB CYBE CYBR CYCC CYCCP CYCNV CYD CYH CYOU CYRN CYRX CYRXW CYTK CYTR CYTX CYTXZ CZA CZFC CZNC CZR CZWI CZZ D DAC DAG DAIO DAKT DAL DALI DAN DAR DARE DATA DAUD DAVA DAVE DAX DB DBA DBAW DBB DBC DBD DBE DBEF DBEM DBEU DBEZ DBGR DBJP DBKO DBL DBLV DBO DBP DBS DBUK DBV DBVT DBX DCAR DCF DCHF DCI DCIX DCO DCOM DCP DCP_P_B DCP_P_C DCPH DCUD DD_P_A DD_P_B DDBI DDD DDE DDF DDG DDIV DDM DDMX DDMXU DDMXW DDP DDS DDT DE DEA DECK DEEF DEF DEI DELL DEM DEMG DENN DEO DERM DES DESC DESP DEST DEUR DEUS DEW DEX DF DFBH DFBHU DFBHW DFE DFEN DFFN DFIN DFJ DFNL DFP DFRG DFS DFVL DFVS DG DGAZ DGBP DGICA DGICB DGII DGL DGLD DGLY DGP DGRE DGRO DGRS DGRW DGS DGSE DGT DGX DGZ DHF DHI DHIL DHR DHR_P_A DHS DHT DHVW DHX DHXM DHY DIA DIAL DIAX DIG DIM DIN DINT DIOD DIS DISCA DISCB DISCK DISH DIT DIV DIVA DIVC DIVO DIVY DJCI DJCO DJD DJP DJPY DK DKL DKS DKT DL DLA DLB DLBR DLBS DLHC DLN DLNG DLNG_P_A DLNG_P_B DLPH DLPN DLPNW DLR DLR_P_C DLR_P_G DLR_P_H DLR_P_H_CL DLR_P_I DLR_P_J DLR_P_K DLS DLTH DLTR DLX DM DMAC DMB DMDV DMF DMLP DMO DMPI DMRC DMRE DMRI DMRL DMRM DMRS DNB DNBF DNI DNJR DNKN DNL DNLI DNN DNOW DNP DNR DO DOC DOCU DOD DOG DOGS DOGZ DOL DOMO DON DOO DOOO DOOR DORM DOV DOVA DOW_W DOX DPG DPHCU DPK DPLO DPST DPW DPZ DQ DQML DRAD DRD DRE DRH DRI DRIO DRIOW DRIP DRIV DRN DRNA DRQ DRR DRRX DRUA DRV DRW DRYS DS DS_P_B DS_P_C DS_P_D DSE DSGX DSI DSKE DSKEW DSL DSLV DSM DSPG DSS DSTL DSU DSUM DSW DSWL DSX DSX_P_B DTD DTE DTEA DTF DTH DTJ DTLA_P DTN DTO DTQ DTSS DTUL DTUS DTV DTW DTY DTYL DTYS DUC DUG DUK DUKB DUKH DURA DUSA DUSL DUST DVA DVAX DVCR DVD DVHL DVLU DVN DVOL DVP DVY DVYA DVYE DVYL DWAQ DWAS DWAT DWCR DWDP DWDP_W DWFI DWIN DWLD DWLV DWM DWMC DWMF DWPP DWSH DWSN DWT DWTR DWX DX DX_P_A DX_P_B DXB DXC DXCM DXD DXF DXGE DXJ DXJF DXJS DXLG DXPE DXR DXYN DY DYNC DYNF DYNT DYSL DYY DZK DZSI DZZ E EA EAB EAD EAE EAF EAGG EAGL EAGLU EAGLW EAI EARN EARS EASG EASI EAST EAT EB EBAY EBAYL EBF EBIX EBIZ EBMT EBND EBR EBR_B EBS EBSB EBTC EC ECA ECC ECCA ECCB ECCX ECCY ECF ECF_P_A ECHO ECL ECNS ECOL ECOM ECON ECOR ECPG ECR ECT ED EDAP EDBI EDC EDD EDF EDGE EDI EDIT EDIV EDN EDNT EDOG EDOW EDRY EDTX EDTXU EDTXW EDU EDUC EDV EDZ EE EEA EEB EEFT EEH EEI EELV EEM EEMA EEMD EEMO EEMS EEMX EES EET EEV EEX EFA EFAS EFAX EFBI EFC EFF "
     ]
    },
    {
     "name": "stdout",
     "output_type": "stream",
     "text": [
      "EFFE EFII EFL EFO EFOI EFR EFSC EFT EFU EFX EFZ EGAN EGBN EGF EGHT EGI EGIF EGLE EGO EGOV EGP EGPT EGRX EGY EHC EHI EHIC EHT EHTH EIDO EIDX EIG EIGI EIGR EIM EIRL EIS EIV EIX EKAR EKSO EL ELAN ELAN_W ELC ELD ELF ELGX ELJ ELLI ELLO ELMD ELOX ELP ELS ELSE ELTK ELU ELVT ELY EMAG EMAN EMB EMBH EMCB EMCF EMCG EMCI EMD EME EMEM EMES EMF EMFM EMIF EMITF EMKR EML EMLC EMLP EMMF EMMS EMN EMO EMP EMQQ EMR EMSG EMTY EMX EMXC ENB ENBA ENBL ENDP ENFC ENFR ENG ENIA ENIC ENJ ENLC ENLK ENO ENOB ENPH ENR ENR_P_A ENS ENSG ENSV ENT ENTA ENTG ENTR ENTX ENTXW ENV ENVA ENX ENY ENZ ENZL EOD EOG EOI EOLS EOS EOT EP_P_C EPAM EPAY EPC EPD EPE EPHE EPI EPIX EPM EPOL EPP EPR EPR_P_C EPR_P_E EPR_P_G EPRT EPS EPSN EPU EPV EPZM EQ EQAL EQBK EQC EQC_P_D EQH EQIX EQL EQLT EQM EQNR EQR EQRR EQS EQT EQWL EQWM EQWS ERA ERC ERF ERH ERI ERIC ERIE ERII ERJ ERM EROS ERSX ERUS ERX ERY ERYP ES ESBA ESBK ESCA ESE ESEA ESGD ESGE ESGF ESGG ESGL ESGN ESGR ESGRO ESGRP ESGS ESGU ESGW ESI ESIO ESL ESLT ESNC ESND ESNT ESP ESPO ESPR ESQ ESRT ESS ESSA ESTA ESTC ESTE ESTR ESTRW ESV ESXB ET ETB ETFC ETG ETH ETHO ETJ ETM ETN ETO ETON ETP_P_C ETP_P_D ETR ETRN ETSY ETTX ETV ETW ETX ETY EUDG EUFL EUFN EUFX EUM EUMV EUO EURL EURN EUSA EUSC EUXL EV EVA EVBG EVBN EVC EVER EVF EVFM EVFTC EVFTCNX EVG EVGBC EVGBCNX EVGN EVH EVI EVJ EVK EVLMC EVLMCNX EVLO EVLV EVM EVN EVOK EVOL EVOP EVR EVRG EVRI EVSTC EVSTCNX EVT EVTC EVV EVX EVY EW EWA EWBC EWC EWCO EWD EWEM EWG EWH EWI EWJ EWJE EWJV EWK EWL EWM EWMC EWN EWO EWP EWQ EWRE EWS EWSC EWT EWU EWV EWW EWX EWY EWZ EWZS EXAS EXC EXD EXEL EXFO EXG EXI EXK EXLS EXP EXPD EXPE EXPI EXPO EXPR EXR EXT EXTN EXTR EYE EYEG EYEGW EYEN EYES EYESW EYPT EZA EZJ EZM EZPW EZT F FAAR FAB FAD FAF FALN FAM FAMI FAN FANG FANH FARM FARO FAS FAST FAT FATE FAUS FAX FAZ FB FBC FBGX FBHS FBIO FBIOP FBIZ FBK FBM FBMS FBNC FBND FBP FBSS FBT FBZ FC FCA FCAL FCAN FCAP FCAU FCBC FCBP FCCO FCCY FCEF FCEL FCF FCFS FCG FCN FCNCA FCO FCOM FCOR FCPT FCSC FCT FCVT FCX FDBC FDC FDD FDEF FDEU FDHY FDIS FDIV FDL FDLO FDM FDMO FDN FDNI FDP FDRR FDS FDT FDTS FDUS FDUSL FDUSZ FDVV FDX FE FEDU FEI FEIM FELE FELP FEM FEMB FEMS FEN FENC FENG FENY FEO FEP FET FEU FEUL FEUZ FEX FEYE FEZ FF FFA FFBC FFBW FFC FFEU FFG FFHL FFIC FFIN FFIU FFIV FFNW FFR FFTY FFWM FG FG_WS FGB FGBI FGD FGEN FGM FGP FHB FHK FHL FHLC FHN FHN_P_A FI FIBK FICO FID FIDI FIDU FIEE FIEG FIF FIHD FII FILL FINU FINX FINZ FIS FISI FISK FISV FIT FITB FITBI FIV FIVA FIVE FIVG FIVN FIW FIX FIXD FIXX FIYY FIZZ FJP FKO FKU FL FLAG FLAT FLAU FLAX FLBR FLC FLCA FLCH FLCO FLDM FLEE FLEH FLEU FLEX FLF FLFR FLGB FLGE FLGR FLGT FLHK FLIC FLIN FLIO FLIR FLIY FLJH FLJP FLKR FLKS FLL FLLA FLLV FLM FLMB FLMI FLMN FLMNW FLMX FLN FLNT FLO FLOW FLQD FLQE FLQG FLQH FLR FLRN FLRT FLRU FLS FLSA FLSW FLT FLTB FLTR FLTW FLWS FLXN FLXS FLY FLZA FM FMAO FMAT FMB FMBH FMBI FMC FMCI FMCIU FMCIW FMF FMHI FMK FMN FMNB FMO FMS FMX FMY FN FNB FNB_P_E FNCB FNCL FND FNDA FNDB FNDC FNDE FNDF FNDX FNF FNG FNGD FNGO FNGU FNGZ FNHC FNI FNJN FNK FNKO FNLC FNSR FNV FNWB FNX FNY FOANC FOANCNX FOCS FOE FOF FOLD FOMX FONE FONR FOR FORD FORK FORM FORR FORTY FOSL FOVL FOX FOXA FOXAV FOXBV FOXF FPA FPAC FPAC_U FPAC_WS FPAY FPAYW FPE FPEI FPF FPH FPI FPI_P_B FPL FPRX FPX FPXE FPXI FQAL FR FRA FRAC FRAK FRAN FRBA FRBK FRC FRC_P_D FRC_P_F FRC_P_G FRC_P_H FRC_P_I FRD FRED FREL FRGI FRI FRLG FRME FRN FRO FRPH FRPT FRSH FRSX FRT FRT_P_C FRTA update FRTA failed, 2019-3-23 -> 2019-3-25\n",
      "FSB update FSB failed, 2019-3-23 -> 2019-3-25\n",
      "FSBC update FSBC failed, 2019-3-23 -> 2019-3-25\n"
     ]
    },
    {
     "name": "stdout",
     "output_type": "stream",
     "text": [
      "FSBW FSCT FSD FSFG FSI FSK FSLR FSM FSMB FSMD FSNN FSP FSS FSTA FSTR FSV FSZ FT FTA FTAC FTACU FTACW FTAG FTAI FTC FTCH FTCS FTD FTDR FTEC FTEK FTEO FTF FTFT FTGC FTHI FTI FTK FTLB FTLS FTNT FTNW FTR FTRI FTS FTSD FTSI FTSL FTSM FTSV FTV FTV_P_A FTXD FTXG FTXH FTXL FTXN FTXO FTXR FUD FUE FUL FULT FUMB FUN FUNC FUND FUSB FUTY FUV FV FVAL FVC FVCB FVD FVE FVL FWDB FWDD FWDI FWONA FWONK FWP FWRD FXA FXB FXC FXCH FXD FXE FXF FXG FXH FXI FXL FXN FXO FXP FXR FXS FXSG FXU FXY FXZ FYC FYT FYX G GAB GAB_P_D GAB_P_G GAB_P_H GAB_P_J GABC GAIA GAIN GAINL GAINM GAL GALT GAM GAM_P_B GAMR GARS GASL GASS GASX GATX GAZ GBAB GBCI GBDC GBF GBIL GBL GBLI GBLIL GBLIZ GBR GBT GBUY GBX GCAP GCBC GCC GCE GCI GCO GCP GCV GCV_P_B GCVRZ GD GDAT GDDY GDEN GDG GDI GDL GDL_P_C GDMA GDNA GDO GDOT GDP GDS GDV GDV_P_A GDV_P_D GDV_P_G GDX GDXJ GDXS GDXX GE GE_W GEC GECC GECCL GECCM GEF GEF_B GEL GEM GEMP GEN GENC GENE GENY GEO GEOS GER GERN GES GEVO GEX GF GFED GFF GFI GFIN GFN GFNCP GFNSL GFY GG GGAL GGB GGG GGM GGN GGN_P_B GGO GGO_P_A GGT GGT_P_B GGT_P_E GGZ GGZ_P_A GH GHC GHDX GHG GHII GHL GHM GHY GHYB GIB GIFI GIG GIG_R GIG_U GIG_WS GIGB GIGM GII GIII GIL GILD GILT GIM GIS GJH GJO GJP GJR GJS GJT GJV GKOS GLAC GLACR GLACU GLACW GLAD GLADD GLADN GLBS GLBY GLBZ GLD GLDD GLDI GLDM GLDW GLG GLIBA GLIBP GLL GLMD GLNG GLO GLOB GLOG GLOG_P_A GLOP GLOP_P_A GLOP_P_B GLOP_P_C GLOW GLP GLP_P_A GLPG GLPI GLQ GLRE GLT GLTR GLU GLU_P_A GLU_P_B GLUU GLV GLW GLYC GM GM_WS_B GMAN GMDA GME GMED GMF GMFL GMHIU GMLP GMLPP GMO GMRE GMRE_P_A GMS GMTA GMZ GNAF GNC GNCA GNE GNE_P_A GNK GNL GNL_P_A GNMA GNMK GNMX GNPX GNR GNRC GNRX GNT GNT_P_A GNTX GNTY GNUS GNW GOAT GOAU GOEX GOF GOGL GOGO GOL GOLD GOLF GOOD GOODM GOODO GOODP GOOG GOOGL GOOS GORO GOSS GPAQ GPAQU GPAQW GPC GPI GPIC GPJA GPK GPL GPM GPMT GPN GPOR GPP GPRE GPRK GPRO GPS GPX GQRE GRA GRAF GRAF_U GRAF_WS GRAM GRBIC GRBICNX GRBK GRC GREK GRES GRF GRFS GRI GRID GRIF GRIN GRMN GRNB GRNQ GROW GRP_U GRPN GRSH GRSHU GRSHW GRTS GRU GRUB GRVY GRX GRX_P_A GRX_P_B GS GS_P_A GS_P_B GS_P_C GS_P_D GS_P_J GS_P_K GS_P_N GSAH GSAH_U GSAH_WS GSAT GSB GSBC GSBD GSC GSEU GSG GSH GSHD GSIE GSIT GSJY GSK GSKY GSL GSL_P_B GSLC GSM GSP GSS GSSC GSUM GSV GSVC GSY GT GTE GTES GTHX GTIM GTLS GTN GTN_A GTO GTS GTT GTX GTXI GTY GTYH GTYHU GTYHW GULF GUNR GURE GURU GUSH GUT GUT_P_A GUT_P_C GV GVA GVIP GVP GWB GWGH GWPH GWR GWRE GWRS GWW GWX GXC GXF GXG GYB GYC GYLD GYRO GZT H HA HABT HACK HAE HAFC HAIN HAIR HAL HALL HALO HAO HAP HARP HAS HASI HAUD HAUZ HAWX HAYN HBAN HBANN HBANO HBB HBCP HBI HBIO HBK HBM HBMD HBNC HBP HCA HCACU HCAP HCAPZ HCC HCCH HCCHR HCCHU HCCHW HCCI HCFT HCFT_P_A_CL HCHC HCI HCKT HCLP HCM HCP HCSG HCXY HCXZ HD HDAW HDB HDEF HDG HDGE HDLV HDMV HDS HDSN HDV HE HE_P_U HEAR HEB HEBT HECO HEDJ HEES HEI HEI_A HELE HEP HEQ HES HES_P_A HESM HEWC HEWG HEWI HEWJ HEWL HEWP HEWU HEWW HEWY HEXO HEZU HF HFBC HFBL HFC HFFG HFGIC HFGICNX HFRO HFWA HFXE HFXI HFXJ HGH HGI HGLB HGSH HGV HHC HHHH HHHHR HHHHU HHHHW HHS HI HIBB HIE HIFR HIFS HIG HIG_P_G HIG_WS HIHO HII HIIQ HIL HILO HIMX HIO HIPS HIVE HIW HIX HJLI HJLIW HJPX HJV HK HK_WS HL HL_P_B HLF HLG HLI HLIT HLM_P HLNE HLT HLTH HLX HMC HMG HMHC HMI HMLP HMLP_P_A HMN HMNF HMNY HMOP HMST HMSY HMTA HMTV HMY HNDL HNGR HNI HNNA HNP HNRG HNW HOFT HOG HOLD HOLI HOLX HOMB HOME HOML HOMZ HON HONE HONR HOPE HOS HOTH HOTH_ HOV HOVNP HP HPE HPF HPI HPJ HPP HPQ HPR HPS HPT HQH HQL HQY HR HRB HRC HRI HRL HROW HRS HRTG HRTX HRZN HSBC HSBC_P_A HSC HSCZ HSDT HSGX HSIC HSICV HSII HSKA HSON HSPX HST HSTM HSY HT HT_P_C HT_P_D HT_P_E HTA HTAB HTBI HTBK HTBX HTD HTFA HTGC HTGM HTGX_CL HTH HTHT HTLD HTLF HTRB HTUS HTY HTZ HUBB HUBG HUBS HUD HUM HUN HUNT HUNTU HUNTW HURC HURN HUSA HUSE HUSV HUYA HVBC HVT HVT_A HWBK HWC HWCC HWCPL HWKN HX HXL HY HYAC HYACU HYACW HYB HYDD HYDW HYEM HYG HYGH HYGS HYGV HYI HYLB HYLD HYLS HYLV HYMB HYND HYRE HYS HYT HYUP HYXE HYZD HZN HZNP HZO I IAC IAE IAF IAG IAI IAK IART IAT IAU IBA IBB IBCD IBCE IBCP IBD IBDC IBDD IBDK IBDL IBDM IBDN IBDO IBDP IBDQ IBDR IBDS IBDT IBIO IBKC IBKCO IBKCP IBM IBMH IBMI IBMJ IBMK IBN IBND IBOC IBP IBTX IBUY ICAD ICAN ICBK ICCC ICCH ICD ICE ICFI ICHR ICL ICLK ICLN ICLR ICOL ICON ICPT ICUI IDA IDCC IDE IDEV IDEX IDHQ IDIV IDLB IDLV IDMO IDN IDOG IDRA IDSA IDSY IDT IDTI IDU IDX IDXG IDXX IEA IEAWW IEC IEF IEI IEMD IEMG IEMV IEP IESC IEUR IEUS IEV IEX IEZ IFEU IFF IFFT IFGL IFLY IFMK IFN IFRX IFV IG IGA IGBH IGC IGD IGF IGI IGIB IGLB IGLD IGM IGN IGOV IGR IGSB IGT IHC IHD IHDG IHE IHF IHG IHI IHIT IHT IHTA IHY IHYD IHYV IID IIF IIGD IIGV III IIIN IIIV IIJI IIM IIN IIPR IIPR_P_A IIVI IJH IJJ IJK IJR IJS IJT IKNX ILF ILMN ILPT ILTB IMAC IMACW IMAX IMDZ IMFC IMFP IMGN IMH IMI IMKTA IMLP IMMP IMMR IMMU IMO IMOS IMRN IMRNW IMTB IMTE IMTM IMV IMXI INAP INB INBK INBKL INCO INCY INDB INDL INDS INDY INF INFI INFN INFO INFR INFU INFY ING INGN INGR INKM INMB INN INN_P_D INN_P_E INNT INO INOD INOV INPX INR INS INSE INSG INSI INSM INSP INST INSUU INSW INSW_P_A INSY INT INTC INTF INTG INTL INTT INTU INUV INVA INVE INVH INWK INXN INXX IO IONS IOO IOR IOSP IOTS IOVA IP IPAC IPAR IPAS IPAY IPB IPCI IPCIF IPDN IPE IPG IPGP IPHI IPHS IPI IPIC IPKW IPLDP IPO IPOA IPOA_U IPOA_WS IPOS IPWR IQ IQDE IQDF IQDY IQI IQIN IQLT IQV IR IRBO IRBT IRCP IRDM IRDMB IRET IRET_P_C IRIX IRL IRM IRMD IROQ IRR IRS IRT IRTC IRWD ISBC ISCA ISCF ISD ISDR ISDS ISDX ISEM ISF ISG ISHG ISIG ISMD ISNS ISR ISRA ISRG ISRL ISSC ISTB ISTR ISZE IT ITCB ITCI ITE ITEQ ITG ITGR ITI ITIC ITMR ITOT ITP ITRI ITRM ITRN ITT ITUB ITW IUS IUSB IUSG IUSS IUSV IVAC IVC IVE IVENC IVFGC IVFVC IVH IVLU IVOG IVOO IVOV IVR IVR_P_A IVR_P_B IVR_P_C IVV IVW IVZ IWB IWC IWD IWF IWL IWM IWN IWO IWP IWR IWS IWV IWX IWY IX IXC IXG IXJ IXN IXP IXUS IYC IYE IYF IYG IYH IYK IYM IYR IYW IYY IZEA JACK JAG JAGG JAGX JAKK JASN JASNW JAX JAZZ JBGS JBHT JBK JBL JBLU JBN JBR JBSS JBT JCAP JCAP_P_B JCE JCI JCO JCOM JCP JCS JCTCF JD JDD JDIV JDST JE JE_P_A JEC JEF JELD JEMD JEQ JETS JFR JG JGH JHAA JHB JHCS JHD JHDG JHEM JHG JHI JHMA JHMC JHMD JHME JHMF JHMH JHMI JHML JHMM JHMS JHMT JHMU JHS JHSC JHX JHY JIGB JILL JJA JJC JJE JJG JJM JJN JJP JJS JJSF JJT JJU JKD JKE JKF JKG JKH JKHY JKI JKJ JKK JKL JKS JLL JLS JMBS JMEI JMF JMIN JMLP JMM JMOM JMP JMPB JMPD JMT JMU JNCE JNJ JNK JNPR JNUG JO JOB JOBS JOE JOF JOUT JP JPC JPED JPEH JPEM JPEU JPGE JPHF JPI JPIH JPIN JPLS JPM JPM_P_A JPM_P_B JPM_P_B_CL JPM_P_C JPM_P_D JPM_P_E JPM_P_F JPM_P_G JPM_P_H JPMB JPME JPMF JPMV JPN JPNL JPS JPSE JPT JPUS JPXN JQC JQUA JRI JRJC JRO JRS JRSH JRVR JSD JSM JSMD JSML JSYN JSYNR JSYNW JT JTA JTD JUST JVA JVAL JW_A JW_B JWN JXI JYNT K KAI KALA KALL KALU KALV KAMN KAR KARS KB KBA KBAL KBE KBH KBLM KBLMR KBLMU KBLMW KBR KBSF KBWB KBWD KBWP KBWR KBWY KCAP KCAPL KCCB KCE KCNY KDMN KDP KE KEG KELYA KELYB KEM KEMQ KEN KEP KEQU KEX KEY KEY_P_I KEY_P_J KEYS KEYW KF KFFB KFRC KFS KFY KFYP KGC KGJI KGRN KHC KIDS KIE KIM KIM_P_I KIM_P_J KIM_P_K KIM_P_L KIM_P_M KIN KINS KIO KIQ KIRK KKR KKR_P_A KKR_P_B KL KLAC KLDO KLDW KLIC KLXE KMB KMDA KMED KMF KMI KMPA KMPH KMPR KMT KMX KN KNDI KNL KNOP KNOW KNSA KNSL KNX KO KOD KODK KOF KOIN KOL KOLD KOMP KONA KOOL KOP KOPN KORP KORU KOS KOSS KPFS KPTI KR KRA KRC KRE KREF KRG KRMA KRNT KRNY KRO KRP KRYS KSA KSM KSS KSU KSU_P KT KTCC KTF KTH KTN KTOS KTOV KTOVW KTP KURA KURE KVHI KW KWEB KWR KXI KYN KYN_P_F KZIA KZR L LABD LABL LABU LAC LACK LACQ LACQU LACQW LAD LADR LAIX LAKE LALT LAMR LANC LAND LANDP LARK LASR LAUR LAWS LAZ LAZY LB LBAI LBC LBDC LBJ LBRDA LBRDK LBRT LBTYA LBTYB LBTYK LBY LC LCI LCII LCNB LCUT LD LDL LDOS LDP LDRI LDRS LDSF LDUR LE LEA LEAF LECO LEDS LEE LEG LEGH LEGR LEJU update LEJU failed, 2019-3-23 -> 2019-3-25\n",
      "LEMB update LEMB failed, 2019-3-23 -> 2019-3-25\n",
      "LEN update LEN failed, 2019-3-23 -> 2019-3-25\n",
      "LEN_B update LEN_B failed, 2019-3-23 -> 2019-3-25\n",
      "LENS update LENS failed, 2019-3-23 -> 2019-3-25\n",
      "LEO update LEO failed, 2019-3-23 -> 2019-3-25\n",
      "LEU update LEU failed, 2019-3-23 -> 2019-3-25\n",
      "LEVB update LEVB failed, 2019-3-23 -> 2019-3-25\n",
      "LEVI update LEVI failed, 2019-3-23 -> 2019-3-25\n",
      "LEVL update LEVL failed, 2019-3-23 -> 2019-3-25\n",
      "LEXEA update LEXEA failed, 2019-3-23 -> 2019-3-25\n",
      "LEXEB update LEXEB failed, 2019-3-23 -> 2019-3-25\n",
      "LFAC update LFAC failed, 2019-3-23 -> 2019-3-25\n",
      "LFACU update LFACU failed, 2019-3-23 -> 2019-3-25\n",
      "LFACW update LFACW failed, 2019-3-23 -> 2019-3-25\n",
      "LFC update LFC failed, 2019-3-23 -> 2019-3-25\n",
      "LFEQ update LFEQ failed, 2019-3-23 -> 2019-3-25\n",
      "LFUS update LFUS failed, 2019-3-23 -> 2019-3-25\n",
      "LFVN update LFVN failed, 2019-3-23 -> 2019-3-25\n",
      "LGC update LGC failed, 2019-3-23 -> 2019-3-25\n",
      "LGC_U update LGC_U failed, 2019-3-23 -> 2019-3-25\n",
      "LGC_WS update LGC_WS failed, 2019-3-23 -> 2019-3-25\n",
      "LGCY update LGCY failed, 2019-3-23 -> 2019-3-25\n",
      "LGF_A update LGF_A failed, 2019-3-23 -> 2019-3-25\n",
      "LGF_B update LGF_B failed, 2019-3-23 -> 2019-3-25\n",
      "LGI update LGI failed, 2019-3-23 -> 2019-3-25\n",
      "LGIH update LGIH failed, 2019-3-23 -> 2019-3-25\n",
      "LGL update LGL failed, 2019-3-23 -> 2019-3-25\n",
      "LGLV update LGLV failed, 2019-3-23 -> 2019-3-25\n",
      "LGND update LGND failed, 2019-3-23 -> 2019-3-25\n",
      "LGOV update LGOV failed, 2019-3-23 -> 2019-3-25\n",
      "LH update LH failed, 2019-3-23 -> 2019-3-25\n",
      "LHC update LHC failed, 2019-3-23 -> 2019-3-25\n",
      "LHC_U update LHC_U failed, 2019-3-23 -> 2019-3-25\n",
      "LHC_WS update LHC_WS failed, 2019-3-23 -> 2019-3-25\n",
      "LHCG update LHCG failed, 2019-3-23 -> 2019-3-25\n",
      "LIFE update LIFE failed, 2019-3-23 -> 2019-3-25\n",
      "LII update LII failed, 2019-3-23 -> 2019-3-25\n",
      "LILA update LILA failed, 2019-3-23 -> 2019-3-25\n",
      "LILAK update LILAK failed, 2019-3-23 -> 2019-3-25\n",
      "LIN update LIN failed, 2019-3-23 -> 2019-3-25\n",
      "LINC update LINC failed, 2019-3-23 -> 2019-3-25\n",
      "LIND update LIND failed, 2019-3-23 -> 2019-3-25\n",
      "LINDW update LINDW failed, 2019-3-23 -> 2019-3-25\n",
      "LINK update LINK failed, 2019-3-23 -> 2019-3-25\n",
      "LION update LION failed, 2019-3-23 -> 2019-3-25\n",
      "LIQT update LIQT failed, 2019-3-23 -> 2019-3-25\n",
      "LIT update LIT failed, 2019-3-23 -> 2019-3-25\n",
      "LITB update LITB failed, 2019-3-23 -> 2019-3-25\n",
      "LITE update LITE failed, 2019-3-23 -> 2019-3-25\n",
      "LIVE update LIVE failed, 2019-3-23 -> 2019-3-25\n",
      "LIVN update LIVN failed, 2019-3-23 -> 2019-3-25\n",
      "LIVX update LIVX failed, 2019-3-23 -> 2019-3-25\n",
      "LJPC update LJPC failed, 2019-3-23 -> 2019-3-25\n",
      "LKCO update LKCO failed, 2019-3-23 -> 2019-3-25\n",
      "LKFN update LKFN failed, 2019-3-23 -> 2019-3-25\n",
      "LKOR update LKOR failed, 2019-3-23 -> 2019-3-25\n",
      "LKQ update LKQ failed, 2019-3-23 -> 2019-3-25\n",
      "LKSD update LKSD failed, 2019-3-23 -> 2019-3-25\n",
      "LL update LL failed, 2019-3-23 -> 2019-3-25\n",
      "LLEX update LLEX failed, 2019-3-23 -> 2019-3-25\n",
      "LLIT update LLIT failed, 2019-3-23 -> 2019-3-25\n",
      "LLL update LLL failed, 2019-3-23 -> 2019-3-25\n",
      "LLNW update LLNW failed, 2019-3-23 -> 2019-3-25\n",
      "LLY update LLY failed, 2019-3-23 -> 2019-3-25\n",
      "LLY_WD update LLY_WD failed, 2019-3-23 -> 2019-3-25\n",
      "LM update LM failed, 2019-3-23 -> 2019-3-25\n",
      "LMAT update LMAT failed, 2019-3-23 -> 2019-3-25\n",
      "LMB update LMB failed, 2019-3-23 -> 2019-3-25\n",
      "LMBS update LMBS failed, 2019-3-23 -> 2019-3-25\n",
      "LMFA update LMFA failed, 2019-3-23 -> 2019-3-25\n",
      "LMFAW update LMFAW failed, 2019-3-23 -> 2019-3-25\n",
      "LMHA update LMHA failed, 2019-3-23 -> 2019-3-25\n",
      "LMHB update LMHB failed, 2019-3-23 -> 2019-3-25\n",
      "LMLP update LMLP failed, 2019-3-23 -> 2019-3-25\n",
      "LMNR update LMNR failed, 2019-3-23 -> 2019-3-25\n",
      "LMNX update LMNX failed, 2019-3-23 -> 2019-3-25\n",
      "LMRK update LMRK failed, 2019-3-23 -> 2019-3-25\n",
      "LMRKN update LMRKN failed, 2019-3-23 -> 2019-3-25\n",
      "LMRKO update LMRKO failed, 2019-3-23 -> 2019-3-25\n",
      "LMRKP update LMRKP failed, 2019-3-23 -> 2019-3-25\n",
      "LMST update LMST failed, 2019-3-23 -> 2019-3-25\n",
      "LMT update LMT failed, 2019-3-23 -> 2019-3-25\n",
      "LN update LN failed, 2019-3-23 -> 2019-3-25\n",
      "LNC update LNC failed, 2019-3-23 -> 2019-3-25\n",
      "LNC_WS update LNC_WS failed, 2019-3-23 -> 2019-3-25\n",
      "LND update LND failed, 2019-3-23 -> 2019-3-25\n",
      "LNDC update LNDC failed, 2019-3-23 -> 2019-3-25\n",
      "LNG update LNG failed, 2019-3-23 -> 2019-3-25\n",
      "LNGR update LNGR failed, 2019-3-23 -> 2019-3-25\n",
      "LNN update LNN failed, 2019-3-23 -> 2019-3-25\n",
      "LNT update LNT failed, 2019-3-23 -> 2019-3-25\n",
      "LNTH update LNTH failed, 2019-3-23 -> 2019-3-25\n",
      "LOAC update LOAC failed, 2019-3-23 -> 2019-3-25\n",
      "LOACR update LOACR failed, 2019-3-23 -> 2019-3-25\n",
      "LOACU update LOACU failed, 2019-3-23 -> 2019-3-25\n",
      "LOACW update LOACW failed, 2019-3-23 -> 2019-3-25\n",
      "LOAN update LOAN failed, 2019-3-23 -> 2019-3-25\n",
      "LOB update LOB failed, 2019-3-23 -> 2019-3-25\n",
      "LOCO update LOCO failed, 2019-3-23 -> 2019-3-25\n",
      "LODE update LODE failed, 2019-3-23 -> 2019-3-25\n",
      "LOGC update LOGC failed, 2019-3-23 -> 2019-3-25\n",
      "LOGI update LOGI failed, 2019-3-23 -> 2019-3-25\n",
      "LOGM update LOGM failed, 2019-3-23 -> 2019-3-25\n",
      "LOMA update LOMA failed, 2019-3-23 -> 2019-3-25\n",
      "LONE update LONE failed, 2019-3-23 -> 2019-3-25\n",
      "LOOP update LOOP failed, 2019-3-23 -> 2019-3-25\n",
      "LOPE update LOPE failed, 2019-3-23 -> 2019-3-25\n",
      "LOR update LOR failed, 2019-3-23 -> 2019-3-25\n",
      "LORL update LORL failed, 2019-3-23 -> 2019-3-25\n",
      "LOUP update LOUP failed, 2019-3-23 -> 2019-3-25\n",
      "LOV update LOV failed, 2019-3-23 -> 2019-3-25\n",
      "LOVE update LOVE failed, 2019-3-23 -> 2019-3-25\n",
      "LOW update LOW failed, 2019-3-23 -> 2019-3-25\n",
      "LOWC update LOWC failed, 2019-3-23 -> 2019-3-25\n",
      "LOXO update LOXO failed, 2019-3-23 -> 2019-3-25\n",
      "LPCN update LPCN failed, 2019-3-23 -> 2019-3-25\n",
      "LPG update LPG failed, 2019-3-23 -> 2019-3-25\n",
      "LPI update LPI failed, 2019-3-23 -> 2019-3-25\n",
      "LPL update LPL failed, 2019-3-23 -> 2019-3-25\n",
      "LPLA update LPLA failed, 2019-3-23 -> 2019-3-25\n",
      "LPSN update LPSN failed, 2019-3-23 -> 2019-3-25\n",
      "LPT update LPT failed, 2019-3-23 -> 2019-3-25\n",
      "LPTH update LPTH failed, 2019-3-23 -> 2019-3-25\n",
      "LPTX update LPTX failed, 2019-3-23 -> 2019-3-25\n",
      "LPX update LPX failed, 2019-3-23 -> 2019-3-25\n",
      "LQD update LQD failed, 2019-3-23 -> 2019-3-25\n",
      "LQDA update LQDA failed, 2019-3-23 -> 2019-3-25\n",
      "LQDH update LQDH failed, 2019-3-23 -> 2019-3-25\n",
      "LQDT update LQDT failed, 2019-3-23 -> 2019-3-25\n",
      "LRAD update LRAD failed, 2019-3-23 -> 2019-3-25\n",
      "LRCX update LRCX failed, 2019-3-23 -> 2019-3-25\n",
      "LRET update LRET failed, 2019-3-23 -> 2019-3-25\n",
      "LRGE update LRGE failed, 2019-3-23 -> 2019-3-25\n",
      "LRGF update LRGF failed, 2019-3-23 -> 2019-3-25\n",
      "LRN update LRN failed, 2019-3-23 -> 2019-3-25\n",
      "LSAF update LSAF failed, 2019-3-23 -> 2019-3-25\n",
      "LSBK update LSBK failed, 2019-3-23 -> 2019-3-25\n",
      "LSCC update LSCC failed, 2019-3-23 -> 2019-3-25\n",
      "LSI update LSI failed, 2019-3-23 -> 2019-3-25\n",
      "LSST update LSST failed, 2019-3-23 -> 2019-3-25\n"
     ]
    },
    {
     "name": "stdout",
     "output_type": "stream",
     "text": [
      "LSTR LSXMA LSXMB LSXMK LTBR LTC LTHM LTHM_W LTL LTM LTN LTN_R LTN_U LTN_WS LTPZ LTRPA LTRPB LTRX LTS LTS_P_A LTSF LTSK LTSL LTXB LUB LULU LUNA LUV LVHD LVL LVS LW LWAY LX LXFR LXFT LXP LXP_P_C LXRX LXU LYB LYG LYL LYTS LYV LZB M MA MAA MAA_P_I MAC MACK MAG MAGS MAIN MAMS MAN MANH MANT MANU MAR MARA MARK MARPS MAS MASI MAT MATW MATX MAV MAXR MAYS MB MBB MBCN MBFI MBFIO MBG MBI MBII MBIN MBIO MBOT MBRX MBSD MBT MBTF MBUU MBWM MC MCA MCB MCBC MCC MCD MCEF MCEP MCF MCFT MCHI MCHP MCHX MCI MCK MCN MCO MCR MCRB MCRI MCRN MCRO MCS MCV MCX MCY MD MDB MDC MDCA MDCO MDGL MDGS MDGSW MDIV MDJH MDLQ MDLX MDLY MDLZ MDP MDR MDRR MDRX MDSO MDT MDU MDWD MDY MDYG MDYV MED MEDP MEET MEI MEIP MELI MELR MEN MEOH MER_P_K MERC MESA MESO MET MET_P_A MET_P_E METC MEXX MFA MFA_P_B MFAC MFAC_U MFAC_WS MFC MFCB MFD MFDX MFEM MFG MFGP MFIN MFINL MFL MFM MFNC MFO MFSF MFT MFUS MFV MG MGA MGC MGEE MGEN MGF MGI MGIC MGK MGLN MGM MGNX MGP MGPI MGRC MGTA MGTX MGU MGV MGY MGY_WS MGYR MH_P_A MH_P_C MH_P_D MHD MHE MHF MHH MHI MHK MHLA MHLD MHN MHNC MHO MIC MICR MICT MIDD MIDU MIDZ MIE MIK MILN MIME MIN MINC MIND MINDP MINI MINT MITK MITO MITT MITT_P_A MITT_P_B MIXT MIY MJ MJCO MKC MKC_V MKGI MKL MKSI MKTX MLAB MLCO MLHR MLI MLM MLND MLNT MLNX MLP MLPA MLPB MLPC MLPE MLPG MLPI MLPO MLPQ MLPX MLPY MLPZ MLR MLSS MLTI MLVF MMAC MMC MMD MMDM MMDMR MMDMU MMDMW MMI MMIN MMIT MMLP MMM MMP MMS MMSI MMT MMTM MMU MMYT MN MNA MNCL MNCLU MNCLW MNDO MNE MNI MNK MNKD MNLO MNOV MNP MNR MNR_P_C MNRO MNST MNTA MNTX MO MOAT MOBL MOC MOD MODN MOFG MOG_A MOG_B MOGLC MOGLCNX MOGO MOGU MOH MOM MOMO MOO MOR MORL MORN MORT MOS MOSC MOSC_U MOSC_WS MOSY MOTI MOTS MOV MOXC MPA MPAA MPB MPC MPLX MPO MPV MPVD MPW MPWR MPX MQT MQY MR MRAM MRBK MRC MRCC MRCCL MRCY MRIN MRK MRKR MRLN MRNA MRNS MRO MRRL MRSN MRT MRTN MRTX MRUS MRVL MS MS_P_A MS_P_E MS_P_F MS_P_G MS_P_I MS_P_K MSA MSB MSBF MSBI MSC MSCI MSD MSEX MSF MSFT MSG MSGN MSI MSL MSM MSN MSON MSTR MSVB MT MTB MTB_P MTB_P_C MTBC MTBCP MTC MTCH MTD MTDR MTEC MTECU MTECW MTEM MTEX MTFB MTFBW MTG MTH MTL MTL_P MTLS MTN MTNB MTOR MTP MTR MTRN MTRX MTSC MTSI MTSL MTT MTW MTX MTZ MU MUA MUB MUC MUDS MUDSU MUDSW MUE MUFG MUH MUI MUJ MUNI MUR MUS MUSA MUST MUTE MUX MVBF MVC MVCD MVF MVIN MVIS MVO MVT MVV MWA MX MXC MXDE MXDU MXE MXF MXI MXIM MXL MXWL MYC MYD MYE MYF MYFW MYGN MYI MYJ MYL MYN MYND MYNDW MYO MYOK MYOS MYOV MYRG MYSZ MYT MYY MZA MZZ NAC NACP NAD NAII NAIL NAK NAKD NAN NANO NANR NAO NAOV NAT NATH NATI NATR NAV NAV_P_D NAVB NAVG NAVI NAZ NBB NBEV NBH NBHC NBIX NBL NBLX NBN NBO NBR NBR_P_A NBRV NBTB NBW NBY NC NCA NCB NCBS NCI NCLH NCMI NCNA NCOM NCR NCS NCSM NCTY NCV NCV_P_A NCZ NCZ_P_A NDAQ NDLS NDP NDRA NDRAW NDSN NE NEA NEBU NEBUU NEBUW NEE NEE_P_I NEE_P_J NEE_P_K NEE_P_N NEE_P_R NEED NEM NEN NEO NEOG NEON NEOS NEP NEPT NERV NES NESR NESRW NETE NETL NETS NEU NEV NEW NEWA NEWM NEWR NEWT NEWTI NEWTZ NEXA NEXT NFBK NFC NFC_U NFC_WS NFE NFG NFJ NFLT NFLX NFO NFRA NFTY NFX NG NGD NGE NGG NGHC NGHCN NGHCO NGHCP NGHCZ NGL NGL_P_B NGLS_P_A NGS NGVC NGVT NH NHA NHC NHF NHI NHLD NHLDW NHS NHTC NI NI_P_B NIB NICE NICK NID NIE NIHD NIM NINE NIO NIQ NITE NIU NJR NJV NK NKE NKG NKSH NKTR NKX NL NLNK NLR NLS NLSN NLY NLY_P_C NLY_P_D NLY_P_F NLY_P_G NLY_P_H NM NM_P_G NM_P_H NMCI NMFC NMFX NMI NMIH NMK_P_B NMK_P_C NML NMM NMR NMRD NMRK NMS NMT NMY NMZ NNA NNBR NNC NNDM NNI NNN NNN_P_E NNN_P_F NNVC NNY NOA NOAH NOC NODK NOG NOK NOM NOMD NORW NOV NOVN NOVT NOW NP NPK NPN NPO NPTN NPV NQP NR NRC NRCG NRCG_WS NRE NRG NRGX NRIM NRK NRO NRP NRT NRZ NS NS_P_A NS_P_B NS_P_C NSA NSA_P_A NSC NSEC NSIT NSL NSP NSPR NSPR_WS NSPR_WS_B NSS NSSC NSTG NSU NSYS NTAP NTB NTC NTCT NTEC NTES NTEST NTEST_A update NTEST_A failed, 2019-3-23 -> 2019-3-25\n",
      "NTEST_B NTEST_C update NTEST_C failed, 2019-3-23 -> 2019-3-25\n"
     ]
    },
    {
     "name": "stdout",
     "output_type": "stream",
     "text": [
      "NTEST_D NTG NTGN NTGR NTIC NTIP NTLA NTN NTNX NTP NTR NTRA NTRI NTRP NTRS NTRSP NTSX NTWK NTX NTZ NUAG NUAN NUBD NUE NUGT NUM NUO NURO NUROW NUS NUSA NUV NUVA NUW NVAX NVCN NVCR NVDA NVEC NVEE NVFY NVG NVGS NVIV NVLN NVMI NVMM NVO NVR NVRO NVS NVT NVTA NVTR NVUS NWBI NWE NWFL NWHM NWL NWLI NWN NWPX NWS NWSA NX NXC NXE NXEO NXEOU NXEOW NXGN NXJ NXN NXP NXPI NXQ NXR NXRT NXST NXTD NXTDW NXTM NYCB NYCB_P_A NYCB_P_U NYF NYMT NYMTN NYMTO NYMTP NYMX NYNY NYT NYV NZF O OAK OAK_P_A OAK_P_B OAS OASM OBAS OBCI OBE OBLN OBNK OBOR OBSV OC OCC OCCI OCFC OCIO OCN OCSI OCSL OCSLL OCUL OCX ODC ODFL ODP ODT OEC OEF OESX OEUR OEW OFC OFED OFG OFG_P_A OFG_P_B OFG_P_D OFIX OFLX OFS OFSSL OFSSZ OGCP OGE OGEN OGIG OGS OHAI OHGI OHI OHRP OI OIA OIBR_C OIH OII OIIM OIL OILD OILU OILX OIS OKDCC OKDCCNX OKE OKTA OLBK OLD OLED OLEM OLLI OLN OLO OLP OMAB OMAD OMAD_U OMAD_WS OMC OMCL OMED OMER OMEX OMF OMI OMN OMP ON ONB ONCE ONCS ONCY ONDK ONE ONEO ONEQ ONEV ONEY ONLN ONTX ONTXW ONVO OOMA OPB OPBK OPER OPES OPESU OPESW OPGN OPGNW OPHC OPHT OPI OPINI OPK OPNT OPOF OPP OPRA OPRX OPTN OPTT OPY OR ORA ORAN ORBC ORBK ORC ORCL ORG ORGO ORGS ORI ORIT ORLY ORM ORMP ORN ORPN ORRF ORTX OSB OSBC OSBCP OSCV OSG OSIR OSIS OSK OSLE OSMT OSN OSPN OSS OSTK OSUR OSW OTEL OTEX OTIC OTIV OTLK OTLKW OTTR OTTW OUNZ OUSA OUSM OUT OVBC OVID OVLC OVLY OXBR OXBRW OXFD OXLC OXLCM OXLCO OXM OXSQ OXSQL OXY OZK OZM P PAA PAAS PAC PACA PACB PACD PACQ PACQU PACQW PACW PAF PAG PAGG PAGP PAGS PAHC PAI PAK PALL PAM PANL PANW PAR PARR PASS PATI PATK PAVM PAVMW PAVMZ PAYC PAYX PB PBA PBB PBBI PBC PBCT PBCTP PBD PBE PBF PBFX PBH PBHC PBI PBI_P_B PBIP PBJ PBP PBPB PBR PBR_A PBS PBT PBW PBY PBYI PCAR PCB PCEF PCF PCG PCG_P_A PCG_P_B PCG_P_C PCG_P_D PCG_P_E PCG_P_G PCG_P_H PCG_P_I PCH PCI PCK PCM PCMI PCN PCOM PCQ PCRX PCSB PCTI PCTY PCY PCYG PCYO PDBC PDCE PDCO PDD PDEX PDFS PDI PDLB PDLI PDM PDN PDP PDS PDSB PDT PDVW PE PEB PEB_P_C PEB_P_D PEB_P_E PEB_P_F PEBK PEBO PED PEG PEGA PEGI PEI PEI_P_B PEI_P_C PEI_P_D PEIX PEJ PEK PEN PENN PEO PEP PER PERI PES PESI PETQ PETS PETX PETZ PETZC PETZCNX PEXL PEY PEZ PFBC PFBI PFD PFE PFF PFFA PFFL PFFR PFG PFGC PFH PFI PFIE PFIG PFIN PFIS PFL PFLT PFM PFMT PFN PFNX PFO PFPT PFS PFSI PFSW PFXF PG PGAL PGC PGF PGHY PGJ PGLC PGM PGNX PGP PGR PGRE PGTI PGX PGZ PH PHAS PHB PHCF PHD PHDG PHG PHI PHII PHIIK PHIO PHIOW PHK PHM PHO PHT PHUN PHUNW PHX PHYL PHYS PI PICB PICO PID PIE PIH PIHPP PII PILL PIM PIN PINC PIO PIR PIRS PIXY PIY PIZ PJC PJH PJP PJT PK PKB PKBK PKE PKG PKI PKO PKOH PKW PKX PLAB PLAG PLAN PLAY PLBC PLCE PLD PLG PLL PLM PLND PLNT PLOW PLPC PLSE PLT PLTM PLUG PLUS PLW PLX PLXP PLXS PLYA PLYM PLYM_P_A PM PMBC PMD PME PMF PML PMM PMO PMOM PMR PMT PMT_P_A PMT_P_B PMTS PMX PNBK PNC PNC_P_P PNC_P_Q PNF PNFP PNI PNM PNNT PNQI PNR PNRG PNRL PNTR PNW PODD POL POLA POOL POPE POR POST POWI POWL PPA PPBI PPC PPDF PPDM PPEM PPG PPH PPIH PPL PPLC PPLN PPLT PPMC PPR PPSC PPSI PPT PPTY PPX PQG PQIN PQLC PQSG PQSV PRA PRAA PRAH PRAN PRCP PRE_P_F PRE_P_G PRE_P_H PRE_P_I PRF PRFT PRFZ PRGO PRGS PRGX PRH PRI PRID PRIF_P_A PRIF_P_B PRIF_P_C PRIM PRK PRLB PRME PRMW PRN PRNB PRO PROV PRPH PRPL PRPO PRQR PRS PRSC PRSP PRT PRTA PRTH PRTHU PRTHW PRTK PRTO PRTS PRTY PRU PRVB PS PSA PSA_P_A PSA_P_B PSA_P_C PSA_P_D PSA_P_E PSA_P_F PSA_P_G PSA_P_H PSA_P_U PSA_P_V PSA_P_W PSA_P_X PSA_P_Y PSA_P_Y_CL PSA_P_Z PSAU PSB PSB_P_U PSB_P_V PSB_P_W PSB_P_X PSB_P_Y PSC PSCC PSCD PSCE PSCF PSCH PSCI PSCM PSCT PSCU PSDO PSEC PSET PSF PSI PSJ PSK PSL PSLV PSMT PSO PSP PSQ PSR PST PSTG PSTI PSX PSXP PT PTC PTCT PTE PTEN PTEST PTEST_W PTF PTGX PTH PTI PTIE PTLA PTN PTNR PTR PTSI PTVCA PTVCB PTX PTY PUB PUI PUK PUK_P PUK_P_A PULM PULS PUMP PUTW PUW PVAC PVAL PVBC PVG PVH PVI PVL PVT_U PVTL PW PW_P_A PWB PWC PWOD PWR PWV PWZ PXD PXE PXF PXH PXI PXJ PXLG PXLV PXLW PXMG PXMV PXQ PXR PXS PXSG PXSV PXUS PY PYDS PYN PYPE PYPL PYS PYT PYX PYZ PZA PZC PZD PZG PZI PZN PZT PZZA QABA QADA QADB QAI QARP QAT QBAK QCLN QCOM QCRH QD QDEF QDEL QDF QDYN QED QEFA QEMM QEP QES QFIN QGEN QGRO QGTA QHC QID QINT QIWI QLC QLD QLS QLTA QLYS QMN QNST QQEW QQQ QQQE QQQX QQXT QRHC QRTEA QRTEB QRVO QSR QSY QTEC QTNA QTNT QTRH QTRX QTS QTS_P_A QTS_P_B QTT QTUM QTWO QUAD QUIK QUMU QUOT QURE QUS QVCD QVM QWLD QYLD R RA RAAX RACE RAD RADA RAIL RALS RAMP RAND RARE RARX RAVE RAVI RAVN RBA RBB RBBN RBC RBCAA RBCN RBIN RBKB RBNC RBS RBUS RBZ RBZAW RC RCA RCD RCG RCI RCII RCKT RCKY RCL RCM RCMT RCON RCP RCS RCUS RDC RDCM RDFN RDHL RDI RDIB RDIV RDN RDNT RDS_A RDS_B RDUS RDVT RDVY RDWR RDY RE RECN REDU REDV REED REET REFR REG REGI REGN REI REK RELL RELV RELX REML REMX REN RENN REPH REPL RES RESI RESN RETA RETL RETO REV REVG REW REX REXR REXR_P_A REXR_P_B REZ REZI RF RF_P_A RF_P_B RFAP RFCI RFDA RFDI RFEM RFEU RFFC RFG RFI RFIL RFL RFP RFUN RFV RGA RGCO RGEN RGI RGLD RGLS RGNX RGR RGS RGSE RGT RH RHE RHE_P_A RHI RHP RHS RHT RIBT RICK RIDV RIF RIG RIGL RIGS RILY RILYG RILYH RILYI RILYL RILYZ RINF RING RIO RIOT RISE RIV RIVE RJA RJF RJI RJN RJZ RKDA RL RLGT RLGY RLH RLI RLJ RLJ_P_A RLM RLY RM RMAX RMBL RMBS RMCF RMD RMED RMG_U RMI RMNI RMPL_P RMR RMT RMTI RNDB RNDM RNDV RNEM RNET RNG RNGR RNLC RNMC RNN RNP RNR RNR_P_C RNR_P_E RNR_P_F RNSC RNST RNWK ROAD ROAM ROAN ROBO ROBT ROCK RODI update RODI failed, 2019-3-23 -> 2019-3-25\n"
     ]
    },
    {
     "name": "stdout",
     "output_type": "stream",
     "text": [
      "RODM ROG ROGS ROIC ROK ROKU ROL ROLL ROM ROOF ROP RORE ROSE ROSEU ROSEW ROST ROUS ROX ROYT RP RPAI RPD RPG RPIBC RPM RPT RPT_P_D RPV RQI RRC RRD RRGB RRR RRTS RRTS_R RS RSG RSP RST RSX RSXJ RTEC RTH RTIX RTL RTM RTN RTRX RTTR RTW RUBI RUBY RUN RUSHA RUSHB RUSL RUSS RUTH RVEN RVI RVLT RVNC RVNU RVP RVSB RVT RWCD RWDC RWDE RWED RWGE RWGE_U RWGE_WS RWGV RWIU RWJ RWK RWL RWLK RWLS RWM RWO RWR RWSL RWT RWUI RWVG RWW RWX RXD RXI RXL RXN RXN_P_A RY RY_P_T RYAAY RYAM RYAM_P_A RYB RYE RYF RYH RYI RYJ RYN RYT RYTM RYU RYZZ RZA RZB RZG RZV S SA SAA SAB SABR SACH SAEX SAF SAFE SAFM SAFT SAGE SAGG SAH SAIA SAIC SAIL SAL SALM SALT SAM SAMA SAMAU SAMAW SAMG SAN SAN_P_B SAND SANM SANW SAP SAR SASR SATS SAUC SAVE SB SB_P_C SB_P_D SBAC SBB SBBC SBBP SBBX SBCF SBFG SBFGP SBGI SBGL SBH SBI SBIO SBLK SBLKZ SBM SBNA SBNY SBOT SBOW SBPH SBR SBRA SBS SBSI SBT SBUX SC SCA SCAC SCACU SCACW SCAP SCC SCCO SCD SCE_P_B SCE_P_C SCE_P_D SCE_P_E SCE_P_G SCE_P_H SCE_P_J SCE_P_K SCE_P_L SCHA SCHB SCHC SCHD SCHE SCHF SCHG SCHH SCHK SCHL SCHM SCHN SCHO SCHP SCHR SCHV SCHW SCHW_P_C SCHW_P_D SCHX SCHZ SCI SCID SCIF SCIJ SCIN SCIU SCIX SCJ SCKT SCL SCM SCO SCOM SCON SCOR SCPH SCS SCSC SCTO SCVL SCWX SCX SCYX SCZ SD SDAG SDCI SDD SDEM SDG SDGA SDI SDIV SDLP SDOG SDOW SDP SDPI SDR SDRL SDS SDT SDVY SDY SDYL SE SEA SEAC SEAS SEB SECO SEDG SEE SEED SEEL SEF SEIC SELB SELF SEM SEMG SEND SENEA SENEB SENS SERV SES SESN SF SF_P_A SF_P_B SFB SFBC SFBS SFE SFET SFIX SFL SFLY SFM SFNC SFS SFST SFUN SG SGA SGB SGBX SGC SGDJ SGDM SGEN SGG SGH SGLB SGLBW SGMA SGMO SGMS SGOC SGOL SGRP SGRY SGU SGYP SGZA SGZA_CL SH SHAK SHBI SHE SHEN SHG SHI SHIP SHIPW SHLL_U SHLO SHLX SHM SHO SHO_P_E SHO_P_F SHOO SHOP SHOS SHSP SHV SHW SHY SHYG SHYL SIBN SIC SID SIEB SIEN SIF SIFI SIFY SIG SIGA SIGI SIJ SIL SILC SILJ SILV SIM SIMO SINA SINO SINT SIRI SITC SITC_P_A SITC_P_J SITC_P_K SITE SITO SIVB SIVR SIX SIZ SIZE SJB SJI SJIU SJM SJNK SJR SJT SJW SKF SKIS SKM SKOR SKT SKX SKY SKYS SKYW SKYY SLAB SLB SLCA SLCT SLDB SLF SLG SLG_P_I SLGG SLGL SLGN SLIM SLM SLMBP SLNO SLNOW SLP SLQD SLRC SLS SLTB SLV SLVO SLX SLY SLYG SLYV SM SMAR SMBC SMBK SMCP SMDD SMED SMEZ SMFG SMG SMH SMHB SMHD SMHI SMI SMIT SMLF SMLL SMLP SMLV SMM SMMF SMMT SMMU SMN SMP SMPL SMRT SMSI SMTA SMTC SMTS SMTX SNA SNAP SNBR SNCR SND SNDE SNDR SNDX SNE SNEC SNES SNFCA SNGX SNGXW SNH SNHNI SNHNL SNHY SNLN SNMP SNN SNNA SNOA SNOAW SNP SNPS SNR SNSR SNSS SNV SNV_P_D SNX SNY SO SOCL SOGO SOHO SOHOB SOHOK SOHOO SOHU SOI SOIL SOJA SOJB SOJC SOL SOLO SOLOW SOLY SON SONA SONO SOR SORL SOXL SOXS SOXX SOYB SP SPA SPAB SPAQ SPAQ_U SPAQ_WS SPAR SPB SPCB SPDN SPDV SPDW SPE SPE_P_B SPEM SPEX SPFF SPG SPG_P_J SPGI SPH SPHB SPHD SPHQ SPHS SPI SPIB SPKE SPKEP SPLB SPLG SPLK SPLP SPLP_P_A SPLV SPMD SPMO SPN SPNE SPNS SPOK SPOT SPPI SPPP SPR SPRO SPRT SPSB SPSC SPSM SPTL SPTM SPTN SPTS SPUU SPVU SPWH SPWR SPXB SPXC SPXE SPXL SPXN SPXS SPXT SPXU SPXV SPXX SPY SPYB SPYD SPYG SPYV SPYX SQ SQBG SQLV SQM SQNS SQQQ SR SRAX SRC SRC_P_A SRCE SRCI SRCL SRDX SRE SRE_P_A SRE_P_B SRET SREV SRF SRG SRG_P_A SRI SRLN SRLP SRNE SRPT SRRA SRRK SRS SRT SRTS SRTSW SRTY SRV SRVR SSB SSBI SSD SSFN SSG SSI SSKN SSL SSLJ SSNC SSNT SSO SSP SSPY SSRM SSTI SSTK SSW SSW_P_D SSW_P_E SSW_P_G SSW_P_H SSW_P_I SSWA SSWN SSY SSYS ST STAA STAF STAG STAG_P_C STAR STAR_P_D STAR_P_G STAR_P_I STAY STBA STC STCN STE STFC STG STI STI_P_A STIM STIP STK STKL STKS STL STL_P_A STLD STM STML STMP STN STND STNE STNG STNL STNLU STNLW STON STOR STPP STPZ STRA STRL STRM STRO STRS STRT STT STT_P_C STT_P_D STT_P_E STT_P_G STWD STX STXB STZ STZ_B SU SUB SUI SUM SUMR SUN SUNS SUNW SUP SUPN SUPV SURF SUSA SUSB SUSC SUZ SVA SVBI SVM SVMK SVRA SVT SVVC SVXY SWAN SWAV SWCH SWI SWIR SWJ SWK SWKS SWM SWN SWP SWX SWZ SXC SXCP SXE SXI SXT SXTC SYBT SYBX SYE SYF SYG SYK SYKE SYMC SYN SYNA SYNC SYNH SYNL SYPR SYRS SYV SYX SYY SZC SZK SZNE SZO T TA TAC TACO TACOW TACT TAGS TAHO TAIT TAK TAL TALO TALO_WS TAN TANH TANNI TANNL TANNZ TAO TAOP TAP TAP_A TAPR TARO TAST TAT TATT TAWK TAXF TAYD TBB TBBK TBC TBF TBI TBIO TBK TBLT TBLTU TBLTW TBNK TBPH TBRG TBRGU TBRGW TBT TBX TC TCBI TCBIL TCBIP TCBK TCCO TCDA TCF TCF_P_D TCFC TCGP TCI TCMD TCO TCO_P_J TCO_P_K TCON TCP TCPC TCRD TCRR TCRW TCRZ TCS TCX TD TDA TDAC TDACU TDACW TDC TDE TDF TDG TDI TDIV TDJ TDOC TDS TDTF TDTT TDW TDW_WS TDW_WS_A TDW_WS_B TDY TEAM TECD TECH TECK TECL TECS TEDU TEF TEI TEL TELL TEN TENB TENX TEO TER TERM TERP TESS TETF TEUM TEVA TEX TFCF TFCFA TFI TFLO TFSL TFX TG TGA TGB TGC TGE TGEN TGH TGI TGLS TGNA TGP TGP_P_A TGP_P_B TGS TGT TGTX TH THC THCBU THD THFF THG THGA THM THO THOR THQ THR THRM THS THST THW THWWW TI TI_A TIBR TIBRU TIBRW TIER TIF TIGO TIGR TIK TILE TIP TIPT TIPX TIPZ TIS TISA TISI TITN TIVO TJX TK TKAT TKC TKKS TKKSR TKKSU TKKSW TKR TLC TLDH TLEH TLF TLGT TLH TLI TLK TLND TLP TLRA TLRD TLRY TLSA TLT TLTD TLTE TLYS TM TMCX TMCXU TMCXW TMDI TME TMF TMHC TMK TMK_P_C TMO TMP TMQ TMSR TMST TMUS TMV TNA TNAV TNC TNDM TNET TNK TNP TNP_P_B TNP_P_C TNP_P_D TNP_P_E TNP_P_F TNXP TOCA TOK TOL TOLZ TOO TOO_P_A TOO_P_B TOO_P_E TOPS TORC TOT TOTA TOTAR TOTAU TOTAW TOTL TOUR TOWN TOWR TPB TPC TPCO TPGH TPGH_U TPGH_WS TPH TPHS TPIC TPL TPNL TPOR TPR TPRE TPVG TPVY TPX TPYP TPZ TQQQ TR TRC TRCB TRCH TRCO TREC TREE TREX TRGP TRHC TRI TRIB TRIL TRIP TRK TRMB TRMD TRMK TRMT TRN TRNE_U TRNO TRNS TRNX TROV TROW TROX TRP TRPX TRQ TRS TRST TRT TRTN TRTN_P_A TRTX TRU TRUE TRUP TRV TRVG TRVN TRX TRXC TS TSBK TSC TSCAP TSCO TSE TSEM TSG TSI TSLA TSLF TSLX TSM TSN TSQ TSRI TSS TST TSU TTC TTD TTEC TTEK TTGT TTI TTM TTMI TTNP TTOO TTP TTPH TTS TTT TTTN TTWO TU TUES TUP TUR TURN TUSA TUSK TUZ TV TVC TVE TVIX TVPT TVTY TWI TWIN TWLO TWLV TWLVR TWLVU TWLVW TWM TWMC TWN TWNK TWNKW TWO TWO_P_A TWO_P_B TWO_P_C TWO_P_D TWO_P_E TWOU TWST TWTR TX TXMD TXN TXRH TXT TY TY_P TYBS TYD TYG TYHT TYL TYME TYNS TYO TYPE TZA TZAC TZACU TZACW TZOO UA UAA UAE UAG UAL UAMY UAN UAUD UAVS UBA UBCP UBFO UBG UBIO UBNK UBNT UBOH UBOT UBP UBP_P_G UBP_P_H UBR UBS UBSH UBSI UBT UBX UCBI UCC UCFC UCHF UCI UCIB UCO UCOM UCON UCTT UDBI UDN UDOW UDR UE UEC UEIC UEPS UEUR UEVM UFAB UFCS UFI UFPI UFPT UFS UG UGA UGAZ UGBP UGE UGI UGL UGLD UGP UHAL UHS UHT UIHC UIS UITB UIVM UJB UJPY UL ULBI ULBR ULE ULH ULST ULTA ULTI ULVM UMBF UMC UMDD UMH UMH_P_B UMH_P_C UMH_P_D UMPQ UMRX UN UNAM UNB UNF UNFI UNG UNH UNIT UNL UNM UNMA UNP UNT UNTY UNVR UONE UONEK UPL UPLD UPRO UPS UPV UPW UPWK UQM URA URBN URE URG URGN URI UROV URR URTH URTY USA USAC USAI USAK USAP USAS USAT USATP USAU USB USB_P_A USB_P_H USB_P_M USB_P_O USB_P_P USCI USCR USD USDP USDU USDY USEG USFD USFR USG USIG USL USLB USLM USLV USM USMC USNA USO USOD USOI USOU USPH USRT USSG UST USTB USV USVM USWS USWSW USX UTES UTF UTG UTHR UTI UTL UTMD UTRN UTSI UTSL UTX UUP UUU UUUU UUUU_WS UVE UVSP UVV UVXY UWM UWN UWT UXI UXIN UYG UYM UZA UZB UZC V VAC VALE VALQ VALU VALX VAM VAPO VAR VAW VB VBF VBFC VBIV VBK VBLT VBND VBR VBTX VC VCEL VCF VCIT VCLT VCNX VCR VCRA VCSH VCTR VCV VCYT VDC VDE VEA VEAC VEACU VEACW VEC VECO VEDL VEEV VEGA VEGI VEON VER VER_P_F VERI VERU VET VETS VEU VFC VFF VFH VFL VG VGFO VGI VGIT VGK VGLT VGM VGR VGSH VGT VGZ VHC VHI VHT VIA VIAB VIAV VICI VICL VICR VIDI VIG VIGI VIIX VIOG VIOO VIOT VIOV VIPS VIRC VIRT VIS VISI VISL VIV VIVE VIVO VIXM VIXY VJET VKI VKQ VKTX VKTXW VLGEA VLO VLRS VLRX VLT VLU VLY VLYPO VLYPP VMBS VMC VMI VMM VMO VMW VNCE VNDA VNE VNET VNLA VNM VNO VNO_P_K VNO_P_L VNO_P_M VNOM VNQ VNQI VNRX VNTR VO VOC VOD VOE VONE VONG VONV VOO VOOG VOOV VOT VOX VOXX VOYA VPC VPG VPL VPU VPV VQT VRA VRAI VRAY VRCA VREX VRIG VRML VRNA VRNS VRNT VRP VRRM VRS VRSK VRSN VRTS VRTSP VRTU VRTV VRTX VSAT VSDA VSEC VSH VSI VSL VSLR VSM VSMV VSS VST VST_WS_A VSTM VSTO VT VTA VTC VTEB VTGN VTHR VTI VTIP VTIQ VTIQU VTIQW VTL VTN VTNR VTR VTSI VTV VTVT VTWG VTWO VTWV VUG VUSE VUZI VV VVC VVI VVPR VVR VVUS VVV VWO VWOB VXF VXRT VXUS VXX VXZ VYGR VYM VYMI VZ VZA VZA_CL W WAAS WAB WAB_W WABC WAFD WAGE WAIR WAL WALA WANT WASH WAT WATT WB WBA WBAI WBAL WBC WBIA WBIB WBIC WBID WBIE WBIF WBIG WBIH WBII WBIL WBIR WBIY WBK WBND WBS WBS_P_F WBT WCC WCFB WCG WCHN WCN WD WDAY WDC WDFC WDIV WDR WDRW WEA WEAT WEBK WEC WEI WELL WELL_P_I WEN WERN WES WETF WEX WEYS WF WF_W WFC WFC_P_L WFC_P_N WFC_P_O WFC_P_P WFC_P_Q WFC_P_R WFC_P_T WFC_P_V WFC_P_W WFC_P_X WFC_P_Y WFE_P_A "
     ]
    },
    {
     "name": "stdout",
     "output_type": "stream",
     "text": [
      "WFT WGO WGP WH WHD WHF WHFBZ WHG WHLM WHLR WHLRD WHLRP WHLRW WHR WIA WIFI WIL WILC WIN WINA WINC WING WINR WINRW WINS WIP WIRE WISA WIT WIW WIX WK WKHS WLDN WLFC WLH WLK WLKP WLL WLTW WM WMB WMC WMCR WMGI WMGIZ WMK WMS WMT WMW WNC WNEB WNS WOMN WOOD WOR WORX WOW WP WPC WPG WPG_P_H WPG_P_I WPM WPP WPRT WPS WPX WRB WRB_P_B WRB_P_C WRB_P_D WRB_P_E WRD WRE WREI WRI WRK WRLD WRLS WRLSR WRLSU WRLSW WRN WRTC WSBC WSBF WSC WSFS WSM WSO WSO_B WSR WST WSTG WSTL WTBA WTER WTFC WTFCM WTI WTID WTIU WTM WTMF WTR WTRH WTRH_ WTS WTT WTTR WTW WU WUBA WVE WVFC WVVI WVVIP WWD WWE WWR WWW WY WYND WYNN WYY X XAN XAN_P_C XAR XBI XBIO XBIT XBUY XCEM XCOM XDIV XEC XEL XELA XELB XENE XENT XERS XES XFLT XFOR XGTI XHB XHE XHR XHS XIN XINA XITK XKCP XKFF XKFS XKII XKST XLB XLC XLE XLEY XLF XLG XLI XLK XLNX XLP XLRE XLRN XLSY XLTY XLU XLUY XLV XLY XME XMLV XMX XNCR XNET XNTK XOG XOM XOMA XON XONE XOP XPER XPH XPL XPO XPP XRAY XRF XRLV XRT XRX XSD XSLV XSOE XSPA XSW XT update XT failed, 2019-3-23 -> 2019-3-25\n",
      "XTH update XTH failed, 2019-3-23 -> 2019-3-25\n",
      "XTL update XTL failed, 2019-3-23 -> 2019-3-25\n",
      "XTLB update XTLB failed, 2019-3-23 -> 2019-3-25\n",
      "XTN update XTN failed, 2019-3-23 -> 2019-3-25\n",
      "XTNT update XTNT failed, 2019-3-23 -> 2019-3-25\n",
      "XVZ update XVZ failed, 2019-3-23 -> 2019-3-25\n",
      "XWEB update XWEB failed, 2019-3-23 -> 2019-3-25\n",
      "XXII update XXII failed, 2019-3-23 -> 2019-3-25\n",
      "XYF update XYF failed, 2019-3-23 -> 2019-3-25\n",
      "XYL update XYL failed, 2019-3-23 -> 2019-3-25\n",
      "Y update Y failed, 2019-3-23 -> 2019-3-25\n",
      "YANG update YANG failed, 2019-3-23 -> 2019-3-25\n",
      "YAO update YAO failed, 2019-3-23 -> 2019-3-25\n",
      "YCL update YCL failed, 2019-3-23 -> 2019-3-25\n",
      "YCOM update YCOM failed, 2019-3-23 -> 2019-3-25\n",
      "YCS update YCS failed, 2019-3-23 -> 2019-3-25\n",
      "YELP update YELP failed, 2019-3-23 -> 2019-3-25\n",
      "YETI update YETI failed, 2019-3-23 -> 2019-3-25\n",
      "YEXT update YEXT failed, 2019-3-23 -> 2019-3-25\n",
      "YGYI update YGYI failed, 2019-3-23 -> 2019-3-25\n",
      "YI update YI failed, 2019-3-23 -> 2019-3-25\n",
      "YIN update YIN failed, 2019-3-23 -> 2019-3-25\n",
      "YINN update YINN failed, 2019-3-23 -> 2019-3-25\n",
      "YLCO update YLCO failed, 2019-3-23 -> 2019-3-25\n",
      "YLD update YLD failed, 2019-3-23 -> 2019-3-25\n",
      "YLDE update YLDE failed, 2019-3-23 -> 2019-3-25\n",
      "YMAB update YMAB failed, 2019-3-23 -> 2019-3-25\n",
      "YMLI update YMLI failed, 2019-3-23 -> 2019-3-25\n",
      "YMLP update YMLP failed, 2019-3-23 -> 2019-3-25\n",
      "YNDX update YNDX failed, 2019-3-23 -> 2019-3-25\n",
      "YOGA update YOGA failed, 2019-3-23 -> 2019-3-25\n",
      "YORW update YORW failed, 2019-3-23 -> 2019-3-25\n",
      "YPF update YPF failed, 2019-3-23 -> 2019-3-25\n",
      "YRCW update YRCW failed, 2019-3-23 -> 2019-3-25\n",
      "YRD update YRD failed, 2019-3-23 -> 2019-3-25\n",
      "YRIV update YRIV failed, 2019-3-23 -> 2019-3-25\n",
      "YTEN update YTEN failed, 2019-3-23 -> 2019-3-25\n",
      "YTRA update YTRA failed, 2019-3-23 -> 2019-3-25\n",
      "YUM update YUM failed, 2019-3-23 -> 2019-3-25\n",
      "YUMA YUMC YVR YXI YY YYY Z ZAGG ZAYO ZAZZT ZB_P_A ZB_P_G ZB_P_H ZBH ZBIO ZBK ZBRA ZBZZT ZCAN ZCZZT ZDEU ZDGE ZEAL ZEN ZEUS ZF ZFGN ZG ZGBR ZGNX ZHOK ZION ZIONW ZIOP ZIV ZIXI ZJPN ZJZZT ZKIN ZLAB ZMLP ZN ZNGA ZNH ZOM ZROZ ZS ZSAN ZSL ZTO ZTR ZTS ZUMZ ZUO ZXYZ_A ZYME ZYNE ZYXI "
     ]
    }
   ],
   "source": [
    "BPAT.update_db()"
   ]
  },
  {
   "cell_type": "code",
   "execution_count": 6,
   "metadata": {},
   "outputs": [],
   "source": [
    "import iexfinance"
   ]
  },
  {
   "cell_type": "code",
   "execution_count": 16,
   "metadata": {},
   "outputs": [
    {
     "data": {
      "text/plain": [
       "[{'average': 179.747,\n",
       "  'changeOverTime': 0,\n",
       "  'close': 179.7,\n",
       "  'date': '20190326',\n",
       "  'high': 179.84,\n",
       "  'label': '09:30 AM',\n",
       "  'low': 179.68,\n",
       "  'marketAverage': -1,\n",
       "  'marketChangeOverTime': 0,\n",
       "  'marketClose': None,\n",
       "  'marketHigh': -1,\n",
       "  'marketLow': -1,\n",
       "  'marketNotional': 0,\n",
       "  'marketNumberOfTrades': 0,\n",
       "  'marketOpen': None,\n",
       "  'marketVolume': 0,\n",
       "  'minute': '09:30',\n",
       "  'notional': 390231.12,\n",
       "  'numberOfTrades': 28,\n",
       "  'open': 179.8,\n",
       "  'volume': 2171}]"
      ]
     },
     "execution_count": 16,
     "metadata": {},
     "output_type": "execute_result"
    }
   ],
   "source": [
    "iexfinance.stocks.get_historical_intraday(symbol='baba',date='20190326')"
   ]
  },
  {
   "cell_type": "code",
   "execution_count": 17,
   "metadata": {},
   "outputs": [],
   "source": [
    "import tools"
   ]
  },
  {
   "cell_type": "code",
   "execution_count": 30,
   "metadata": {},
   "outputs": [
    {
     "data": {
      "image/png": "[encoded data removed]",
      "text/plain": [
       "<matplotlib.figure.Figure at 0x7f4806d96550>"
      ]
     },
     "metadata": {},
     "output_type": "display_data"
    }
   ],
   "source": [
    "_ = plt.hist(DC/D,bins = 60)"
   ]
  },
  {
   "cell_type": "code",
   "execution_count": 56,
   "metadata": {
    "collapsed": true
   },
   "outputs": [],
   "source": []
  },
  {
   "cell_type": "code",
   "execution_count": 69,
   "metadata": {},
   "outputs": [],
   "source": [
    "import matplotlib\n",
    "from mpl_toolkits.mplot3d import axes3d, Axes3D\n",
    "plt = reload(matplotlib.pyplot)\n",
    "%matplotlib notebook"
   ]
  },
  {
   "cell_type": "code",
   "execution_count": 72,
   "metadata": {
    "collapsed": true
   },
   "outputs": [],
   "source": [
    "a = tools.get_data('BABA')\n",
    "D = (a.Adj_High-a.Adj_Low)\n",
    "DC = (a.Adj_Close-a.Adj_Low)\n",
    "DO = (a.Adj_Open-a.Adj_Low)\n",
    "PC = DC/D\n",
    "PO = DO/D\n",
    "hist, xedges, yedges = np.histogram2d(PC, PO, bins=10, range=[[0, 1], [0, 1]])\n",
    "xpos, ypos = np.meshgrid(xedges[:-1] + 0.1, yedges[:-1] + 0.1)\n",
    "xpos = xpos.flatten('F')\n",
    "ypos = ypos.flatten('F')\n",
    "zpos = np.zeros_like(xpos)\n",
    "dx = 0.1/2 * np.ones_like(zpos)\n",
    "dy = dx.copy()\n",
    "dz = hist.flatten()\n"
   ]
  },
  {
   "cell_type": "code",
   "execution_count": 76,
   "metadata": {},
   "outputs": [
    {
     "data": {
      "application/javascript": [
       "/* Put everything inside the global mpl namespace */\n",
       "window.mpl = {};\n",
       "\n",
       "\n",
       "mpl.get_websocket_type = function() {\n",
       "    if (typeof(WebSocket) !== 'undefined') {\n",
       "        return WebSocket;\n",
       "    } else if (typeof(MozWebSocket) !== 'undefined') {\n",
       "        return MozWebSocket;\n",
       "    } else {\n",
       "        alert('Your browser does not have WebSocket support.' +\n",
       "              'Please try Chrome, Safari or Firefox ≥ 6. ' +\n",
       "              'Firefox 4 and 5 are also supported but you ' +\n",
       "              'have to enable WebSockets in about:config.');\n",
       "    };\n",
       "}\n",
       "\n",
       "mpl.figure = function(figure_id, websocket, ondownload, parent_element) {\n",
       "    this.id = figure_id;\n",
       "\n",
       "    this.ws = websocket;\n",
       "\n",
       "    this.supports_binary = (this.ws.binaryType != undefined);\n",
       "\n",
       "    if (!this.supports_binary) {\n",
       "        var warnings = document.getElementById(\"mpl-warnings\");\n",
       "        if (warnings) {\n",
       "            warnings.style.display = 'block';\n",
       "            warnings.textContent = (\n",
       "                \"This browser does not support binary websocket messages. \" +\n",
       "                    \"Performance may be slow.\");\n",
       "        }\n",
       "    }\n",
       "\n",
       "    this.imageObj = new Image();\n",
       "\n",
       "    this.context = undefined;\n",
       "    this.message = undefined;\n",
       "    this.canvas = undefined;\n",
       "    this.rubberband_canvas = undefined;\n",
       "    this.rubberband_context = undefined;\n",
       "    this.format_dropdown = undefined;\n",
       "\n",
       "    this.image_mode = 'full';\n",
       "\n",
       "    this.root = $('<div/>');\n",
       "    this._root_extra_style(this.root)\n",
       "    this.root.attr('style', 'display: inline-block');\n",
       "\n",
       "    $(parent_element).append(this.root);\n",
       "\n",
       "    this._init_header(this);\n",
       "    this._init_canvas(this);\n",
       "    this._init_toolbar(this);\n",
       "\n",
       "    var fig = this;\n",
       "\n",
       "    this.waiting = false;\n",
       "\n",
       "    this.ws.onopen =  function () {\n",
       "            fig.send_message(\"supports_binary\", {value: fig.supports_binary});\n",
       "            fig.send_message(\"send_image_mode\", {});\n",
       "            if (mpl.ratio != 1) {\n",
       "                fig.send_message(\"set_dpi_ratio\", {'dpi_ratio': mpl.ratio});\n",
       "            }\n",
       "            fig.send_message(\"refresh\", {});\n",
       "        }\n",
       "\n",
       "    this.imageObj.onload = function() {\n",
       "            if (fig.image_mode == 'full') {\n",
       "                // Full images could contain transparency (where diff images\n",
       "                // almost always do), so we need to clear the canvas so that\n",
       "                // there is no ghosting.\n",
       "                fig.context.clearRect(0, 0, fig.canvas.width, fig.canvas.height);\n",
       "            }\n",
       "            fig.context.drawImage(fig.imageObj, 0, 0);\n",
       "        };\n",
       "\n",
       "    this.imageObj.onunload = function() {\n",
       "        fig.ws.close();\n",
       "    }\n",
       "\n",
       "    this.ws.onmessage = this._make_on_message_function(this);\n",
       "\n",
       "    this.ondownload = ondownload;\n",
       "}\n",
       "\n",
       "mpl.figure.prototype._init_header = function() {\n",
       "    var titlebar = $(\n",
       "        '<div class=\"ui-dialog-titlebar ui-widget-header ui-corner-all ' +\n",
       "        'ui-helper-clearfix\"/>');\n",
       "    var titletext = $(\n",
       "        '<div class=\"ui-dialog-title\" style=\"width: 100%; ' +\n",
       "        'text-align: center; padding: 3px;\"/>');\n",
       "    titlebar.append(titletext)\n",
       "    this.root.append(titlebar);\n",
       "    this.header = titletext[0];\n",
       "}\n",
       "\n",
       "\n",
       "\n",
       "mpl.figure.prototype._canvas_extra_style = function(canvas_div) {\n",
       "\n",
       "}\n",
       "\n",
       "\n",
       "mpl.figure.prototype._root_extra_style = function(canvas_div) {\n",
       "\n",
       "}\n",
       "\n",
       "mpl.figure.prototype._init_canvas = function() {\n",
       "    var fig = this;\n",
       "\n",
       "    var canvas_div = $('<div/>');\n",
       "\n",
       "    canvas_div.attr('style', 'position: relative; clear: both; outline: 0');\n",
       "\n",
       "    function canvas_keyboard_event(event) {\n",
       "        return fig.key_event(event, event['data']);\n",
       "    }\n",
       "\n",
       "    canvas_div.keydown('key_press', canvas_keyboard_event);\n",
       "    canvas_div.keyup('key_release', canvas_keyboard_event);\n",
       "    this.canvas_div = canvas_div\n",
       "    this._canvas_extra_style(canvas_div)\n",
       "    this.root.append(canvas_div);\n",
       "\n",
       "    var canvas = $('<canvas/>');\n",
       "    canvas.addClass('mpl-canvas');\n",
       "    canvas.attr('style', \"left: 0; top: 0; z-index: 0; outline: 0\")\n",
       "\n",
       "    this.canvas = canvas[0];\n",
       "    this.context = canvas[0].getContext(\"2d\");\n",
       "\n",
       "    var backingStore = this.context.backingStorePixelRatio ||\n",
       "\tthis.context.webkitBackingStorePixelRatio ||\n",
       "\tthis.context.mozBackingStorePixelRatio ||\n",
       "\tthis.context.msBackingStorePixelRatio ||\n",
       "\tthis.context.oBackingStorePixelRatio ||\n",
       "\tthis.context.backingStorePixelRatio || 1;\n",
       "\n",
       "    mpl.ratio = (window.devicePixelRatio || 1) / backingStore;\n",
       "\n",
       "    var rubberband = $('<canvas/>');\n",
       "    rubberband.attr('style', \"position: absolute; left: 0; top: 0; z-index: 1;\")\n",
       "\n",
       "    var pass_mouse_events = true;\n",
       "\n",
       "    canvas_div.resizable({\n",
       "        start: function(event, ui) {\n",
       "            pass_mouse_events = false;\n",
       "        },\n",
       "        resize: function(event, ui) {\n",
       "            fig.request_resize(ui.size.width, ui.size.height);\n",
       "        },\n",
       "        stop: function(event, ui) {\n",
       "            pass_mouse_events = true;\n",
       "            fig.request_resize(ui.size.width, ui.size.height);\n",
       "        },\n",
       "    });\n",
       "\n",
       "    function mouse_event_fn(event) {\n",
       "        if (pass_mouse_events)\n",
       "            return fig.mouse_event(event, event['data']);\n",
       "    }\n",
       "\n",
       "    rubberband.mousedown('button_press', mouse_event_fn);\n",
       "    rubberband.mouseup('button_release', mouse_event_fn);\n",
       "    // Throttle sequential mouse events to 1 every 20ms.\n",
       "    rubberband.mousemove('motion_notify', mouse_event_fn);\n",
       "\n",
       "    rubberband.mouseenter('figure_enter', mouse_event_fn);\n",
       "    rubberband.mouseleave('figure_leave', mouse_event_fn);\n",
       "\n",
       "    canvas_div.on(\"wheel\", function (event) {\n",
       "        event = event.originalEvent;\n",
       "        event['data'] = 'scroll'\n",
       "        if (event.deltaY < 0) {\n",
       "            event.step = 1;\n",
       "        } else {\n",
       "            event.step = -1;\n",
       "        }\n",
       "        mouse_event_fn(event);\n",
       "    });\n",
       "\n",
       "    canvas_div.append(canvas);\n",
       "    canvas_div.append(rubberband);\n",
       "\n",
       "    this.rubberband = rubberband;\n",
       "    this.rubberband_canvas = rubberband[0];\n",
       "    this.rubberband_context = rubberband[0].getContext(\"2d\");\n",
       "    this.rubberband_context.strokeStyle = \"#000000\";\n",
       "\n",
       "    this._resize_canvas = function(width, height) {\n",
       "        // Keep the size of the canvas, canvas container, and rubber band\n",
       "        // canvas in synch.\n",
       "        canvas_div.css('width', width)\n",
       "        canvas_div.css('height', height)\n",
       "\n",
       "        canvas.attr('width', width * mpl.ratio);\n",
       "        canvas.attr('height', height * mpl.ratio);\n",
       "        canvas.attr('style', 'width: ' + width + 'px; height: ' + height + 'px;');\n",
       "\n",
       "        rubberband.attr('width', width);\n",
       "        rubberband.attr('height', height);\n",
       "    }\n",
       "\n",
       "    // Set the figure to an initial 600x600px, this will subsequently be updated\n",
       "    // upon first draw.\n",
       "    this._resize_canvas(600, 600);\n",
       "\n",
       "    // Disable right mouse context menu.\n",
       "    $(this.rubberband_canvas).bind(\"contextmenu\",function(e){\n",
       "        return false;\n",
       "    });\n",
       "\n",
       "    function set_focus () {\n",
       "        canvas.focus();\n",
       "        canvas_div.focus();\n",
       "    }\n",
       "\n",
       "    window.setTimeout(set_focus, 100);\n",
       "}\n",
       "\n",
       "mpl.figure.prototype._init_toolbar = function() {\n",
       "    var fig = this;\n",
       "\n",
       "    var nav_element = $('<div/>')\n",
       "    nav_element.attr('style', 'width: 100%');\n",
       "    this.root.append(nav_element);\n",
       "\n",
       "    // Define a callback function for later on.\n",
       "    function toolbar_event(event) {\n",
       "        return fig.toolbar_button_onclick(event['data']);\n",
       "    }\n",
       "    function toolbar_mouse_event(event) {\n",
       "        return fig.toolbar_button_onmouseover(event['data']);\n",
       "    }\n",
       "\n",
       "    for(var toolbar_ind in mpl.toolbar_items) {\n",
       "        var name = mpl.toolbar_items[toolbar_ind][0];\n",
       "        var tooltip = mpl.toolbar_items[toolbar_ind][1];\n",
       "        var image = mpl.toolbar_items[toolbar_ind][2];\n",
       "        var method_name = mpl.toolbar_items[toolbar_ind][3];\n",
       "\n",
       "        if (!name) {\n",
       "            // put a spacer in here.\n",
       "            continue;\n",
       "        }\n",
       "        var button = $('<button/>');\n",
       "        button.addClass('ui-button ui-widget ui-state-default ui-corner-all ' +\n",
       "                        'ui-button-icon-only');\n",
       "        button.attr('role', 'button');\n",
       "        button.attr('aria-disabled', 'false');\n",
       "        button.click(method_name, toolbar_event);\n",
       "        button.mouseover(tooltip, toolbar_mouse_event);\n",
       "\n",
       "        var icon_img = $('<span/>');\n",
       "        icon_img.addClass('ui-button-icon-primary ui-icon');\n",
       "        icon_img.addClass(image);\n",
       "        icon_img.addClass('ui-corner-all');\n",
       "\n",
       "        var tooltip_span = $('<span/>');\n",
       "        tooltip_span.addClass('ui-button-text');\n",
       "        tooltip_span.html(tooltip);\n",
       "\n",
       "        button.append(icon_img);\n",
       "        button.append(tooltip_span);\n",
       "\n",
       "        nav_element.append(button);\n",
       "    }\n",
       "\n",
       "    var fmt_picker_span = $('<span/>');\n",
       "\n",
       "    var fmt_picker = $('<select/>');\n",
       "    fmt_picker.addClass('mpl-toolbar-option ui-widget ui-widget-content');\n",
       "    fmt_picker_span.append(fmt_picker);\n",
       "    nav_element.append(fmt_picker_span);\n",
       "    this.format_dropdown = fmt_picker[0];\n",
       "\n",
       "    for (var ind in mpl.extensions) {\n",
       "        var fmt = mpl.extensions[ind];\n",
       "        var option = $(\n",
       "            '<option/>', {selected: fmt === mpl.default_extension}).html(fmt);\n",
       "        fmt_picker.append(option)\n",
       "    }\n",
       "\n",
       "    // Add hover states to the ui-buttons\n",
       "    $( \".ui-button\" ).hover(\n",
       "        function() { $(this).addClass(\"ui-state-hover\");},\n",
       "        function() { $(this).removeClass(\"ui-state-hover\");}\n",
       "    );\n",
       "\n",
       "    var status_bar = $('<span class=\"mpl-message\"/>');\n",
       "    nav_element.append(status_bar);\n",
       "    this.message = status_bar[0];\n",
       "}\n",
       "\n",
       "mpl.figure.prototype.request_resize = function(x_pixels, y_pixels) {\n",
       "    // Request matplotlib to resize the figure. Matplotlib will then trigger a resize in the client,\n",
       "    // which will in turn request a refresh of the image.\n",
       "    this.send_message('resize', {'width': x_pixels, 'height': y_pixels});\n",
       "}\n",
       "\n",
       "mpl.figure.prototype.send_message = function(type, properties) {\n",
       "    properties['type'] = type;\n",
       "    properties['figure_id'] = this.id;\n",
       "    this.ws.send(JSON.stringify(properties));\n",
       "}\n",
       "\n",
       "mpl.figure.prototype.send_draw_message = function() {\n",
       "    if (!this.waiting) {\n",
       "        this.waiting = true;\n",
       "        this.ws.send(JSON.stringify({type: \"draw\", figure_id: this.id}));\n",
       "    }\n",
       "}\n",
       "\n",
       "\n",
       "mpl.figure.prototype.handle_save = function(fig, msg) {\n",
       "    var format_dropdown = fig.format_dropdown;\n",
       "    var format = format_dropdown.options[format_dropdown.selectedIndex].value;\n",
       "    fig.ondownload(fig, format);\n",
       "}\n",
       "\n",
       "\n",
       "mpl.figure.prototype.handle_resize = function(fig, msg) {\n",
       "    var size = msg['size'];\n",
       "    if (size[0] != fig.canvas.width || size[1] != fig.canvas.height) {\n",
       "        fig._resize_canvas(size[0], size[1]);\n",
       "        fig.send_message(\"refresh\", {});\n",
       "    };\n",
       "}\n",
       "\n",
       "mpl.figure.prototype.handle_rubberband = function(fig, msg) {\n",
       "    var x0 = msg['x0'] / mpl.ratio;\n",
       "    var y0 = (fig.canvas.height - msg['y0']) / mpl.ratio;\n",
       "    var x1 = msg['x1'] / mpl.ratio;\n",
       "    var y1 = (fig.canvas.height - msg['y1']) / mpl.ratio;\n",
       "    x0 = Math.floor(x0) + 0.5;\n",
       "    y0 = Math.floor(y0) + 0.5;\n",
       "    x1 = Math.floor(x1) + 0.5;\n",
       "    y1 = Math.floor(y1) + 0.5;\n",
       "    var min_x = Math.min(x0, x1);\n",
       "    var min_y = Math.min(y0, y1);\n",
       "    var width = Math.abs(x1 - x0);\n",
       "    var height = Math.abs(y1 - y0);\n",
       "\n",
       "    fig.rubberband_context.clearRect(\n",
       "        0, 0, fig.canvas.width, fig.canvas.height);\n",
       "\n",
       "    fig.rubberband_context.strokeRect(min_x, min_y, width, height);\n",
       "}\n",
       "\n",
       "mpl.figure.prototype.handle_figure_label = function(fig, msg) {\n",
       "    // Updates the figure title.\n",
       "    fig.header.textContent = msg['label'];\n",
       "}\n",
       "\n",
       "mpl.figure.prototype.handle_cursor = function(fig, msg) {\n",
       "    var cursor = msg['cursor'];\n",
       "    switch(cursor)\n",
       "    {\n",
       "    case 0:\n",
       "        cursor = 'pointer';\n",
       "        break;\n",
       "    case 1:\n",
       "        cursor = 'default';\n",
       "        break;\n",
       "    case 2:\n",
       "        cursor = 'crosshair';\n",
       "        break;\n",
       "    case 3:\n",
       "        cursor = 'move';\n",
       "        break;\n",
       "    }\n",
       "    fig.rubberband_canvas.style.cursor = cursor;\n",
       "}\n",
       "\n",
       "mpl.figure.prototype.handle_message = function(fig, msg) {\n",
       "    fig.message.textContent = msg['message'];\n",
       "}\n",
       "\n",
       "mpl.figure.prototype.handle_draw = function(fig, msg) {\n",
       "    // Request the server to send over a new figure.\n",
       "    fig.send_draw_message();\n",
       "}\n",
       "\n",
       "mpl.figure.prototype.handle_image_mode = function(fig, msg) {\n",
       "    fig.image_mode = msg['mode'];\n",
       "}\n",
       "\n",
       "mpl.figure.prototype.updated_canvas_event = function() {\n",
       "    // Called whenever the canvas gets updated.\n",
       "    this.send_message(\"ack\", {});\n",
       "}\n",
       "\n",
       "// A function to construct a web socket function for onmessage handling.\n",
       "// Called in the figure constructor.\n",
       "mpl.figure.prototype._make_on_message_function = function(fig) {\n",
       "    return function socket_on_message(evt) {\n",
       "        if (evt.data instanceof Blob) {\n",
       "            /* FIXME: We get \"Resource interpreted as Image but\n",
       "             * transferred with MIME type text/plain:\" errors on\n",
       "             * Chrome.  But how to set the MIME type?  It doesn't seem\n",
       "             * to be part of the websocket stream */\n",
       "            evt.data.type = \"image/png\";\n",
       "\n",
       "            /* Free the memory for the previous frames */\n",
       "            if (fig.imageObj.src) {\n",
       "                (window.URL || window.webkitURL).revokeObjectURL(\n",
       "                    fig.imageObj.src);\n",
       "            }\n",
       "\n",
       "            fig.imageObj.src = (window.URL || window.webkitURL).createObjectURL(\n",
       "                evt.data);\n",
       "            fig.updated_canvas_event();\n",
       "            fig.waiting = false;\n",
       "            return;\n",
       "        }\n",
       "        else if (typeof evt.data === 'string' && evt.data.slice(0, 21) == \"data:image/png;base64\") {\n",
       "            fig.imageObj.src = evt.data;\n",
       "            fig.updated_canvas_event();\n",
       "            fig.waiting = false;\n",
       "            return;\n",
       "        }\n",
       "\n",
       "        var msg = JSON.parse(evt.data);\n",
       "        var msg_type = msg['type'];\n",
       "\n",
       "        // Call the  \"handle_{type}\" callback, which takes\n",
       "        // the figure and JSON message as its only arguments.\n",
       "        try {\n",
       "            var callback = fig[\"handle_\" + msg_type];\n",
       "        } catch (e) {\n",
       "            console.log(\"No handler for the '\" + msg_type + \"' message type: \", msg);\n",
       "            return;\n",
       "        }\n",
       "\n",
       "        if (callback) {\n",
       "            try {\n",
       "                // console.log(\"Handling '\" + msg_type + \"' message: \", msg);\n",
       "                callback(fig, msg);\n",
       "            } catch (e) {\n",
       "                console.log(\"Exception inside the 'handler_\" + msg_type + \"' callback:\", e, e.stack, msg);\n",
       "            }\n",
       "        }\n",
       "    };\n",
       "}\n",
       "\n",
       "// from http://stackoverflow.com/questions/1114465/getting-mouse-location-in-canvas\n",
       "mpl.findpos = function(e) {\n",
       "    //this section is from http://www.quirksmode.org/js/events_properties.html\n",
       "    var targ;\n",
       "    if (!e)\n",
       "        e = window.event;\n",
       "    if (e.target)\n",
       "        targ = e.target;\n",
       "    else if (e.srcElement)\n",
       "        targ = e.srcElement;\n",
       "    if (targ.nodeType == 3) // defeat Safari bug\n",
       "        targ = targ.parentNode;\n",
       "\n",
       "    // jQuery normalizes the pageX and pageY\n",
       "    // pageX,Y are the mouse positions relative to the document\n",
       "    // offset() returns the position of the element relative to the document\n",
       "    var x = e.pageX - $(targ).offset().left;\n",
       "    var y = e.pageY - $(targ).offset().top;\n",
       "\n",
       "    return {\"x\": x, \"y\": y};\n",
       "};\n",
       "\n",
       "/*\n",
       " * return a copy of an object with only non-object keys\n",
       " * we need this to avoid circular references\n",
       " * http://stackoverflow.com/a/24161582/3208463\n",
       " */\n",
       "function simpleKeys (original) {\n",
       "  return Object.keys(original).reduce(function (obj, key) {\n",
       "    if (typeof original[key] !== 'object')\n",
       "        obj[key] = original[key]\n",
       "    return obj;\n",
       "  }, {});\n",
       "}\n",
       "\n",
       "mpl.figure.prototype.mouse_event = function(event, name) {\n",
       "    var canvas_pos = mpl.findpos(event)\n",
       "\n",
       "    if (name === 'button_press')\n",
       "    {\n",
       "        this.canvas.focus();\n",
       "        this.canvas_div.focus();\n",
       "    }\n",
       "\n",
       "    var x = canvas_pos.x * mpl.ratio;\n",
       "    var y = canvas_pos.y * mpl.ratio;\n",
       "\n",
       "    this.send_message(name, {x: x, y: y, button: event.button,\n",
       "                             step: event.step,\n",
       "                             guiEvent: simpleKeys(event)});\n",
       "\n",
       "    /* This prevents the web browser from automatically changing to\n",
       "     * the text insertion cursor when the button is pressed.  We want\n",
       "     * to control all of the cursor setting manually through the\n",
       "     * 'cursor' event from matplotlib */\n",
       "    event.preventDefault();\n",
       "    return false;\n",
       "}\n",
       "\n",
       "mpl.figure.prototype._key_event_extra = function(event, name) {\n",
       "    // Handle any extra behaviour associated with a key event\n",
       "}\n",
       "\n",
       "mpl.figure.prototype.key_event = function(event, name) {\n",
       "\n",
       "    // Prevent repeat events\n",
       "    if (name == 'key_press')\n",
       "    {\n",
       "        if (event.which === this._key)\n",
       "            return;\n",
       "        else\n",
       "            this._key = event.which;\n",
       "    }\n",
       "    if (name == 'key_release')\n",
       "        this._key = null;\n",
       "\n",
       "    var value = '';\n",
       "    if (event.ctrlKey && event.which != 17)\n",
       "        value += \"ctrl+\";\n",
       "    if (event.altKey && event.which != 18)\n",
       "        value += \"alt+\";\n",
       "    if (event.shiftKey && event.which != 16)\n",
       "        value += \"shift+\";\n",
       "\n",
       "    value += 'k';\n",
       "    value += event.which.toString();\n",
       "\n",
       "    this._key_event_extra(event, name);\n",
       "\n",
       "    this.send_message(name, {key: value,\n",
       "                             guiEvent: simpleKeys(event)});\n",
       "    return false;\n",
       "}\n",
       "\n",
       "mpl.figure.prototype.toolbar_button_onclick = function(name) {\n",
       "    if (name == 'download') {\n",
       "        this.handle_save(this, null);\n",
       "    } else {\n",
       "        this.send_message(\"toolbar_button\", {name: name});\n",
       "    }\n",
       "};\n",
       "\n",
       "mpl.figure.prototype.toolbar_button_onmouseover = function(tooltip) {\n",
       "    this.message.textContent = tooltip;\n",
       "};\n",
       "mpl.toolbar_items = [[\"Home\", \"Reset original view\", \"fa fa-home icon-home\", \"home\"], [\"Back\", \"Back to  previous view\", \"fa fa-arrow-left icon-arrow-left\", \"back\"], [\"Forward\", \"Forward to next view\", \"fa fa-arrow-right icon-arrow-right\", \"forward\"], [\"\", \"\", \"\", \"\"], [\"Pan\", \"Pan axes with left mouse, zoom with right\", \"fa fa-arrows icon-move\", \"pan\"], [\"Zoom\", \"Zoom to rectangle\", \"fa fa-square-o icon-check-empty\", \"zoom\"], [\"\", \"\", \"\", \"\"], [\"Download\", \"Download plot\", \"fa fa-floppy-o icon-save\", \"download\"]];\n",
       "\n",
       "mpl.extensions = [\"eps\", \"jpeg\", \"pdf\", \"png\", \"ps\", \"raw\", \"svg\", \"tif\"];\n",
       "\n",
       "mpl.default_extension = \"png\";var comm_websocket_adapter = function(comm) {\n",
       "    // Create a \"websocket\"-like object which calls the given IPython comm\n",
       "    // object with the appropriate methods. Currently this is a non binary\n",
       "    // socket, so there is still some room for performance tuning.\n",
       "    var ws = {};\n",
       "\n",
       "    ws.close = function() {\n",
       "        comm.close()\n",
       "    };\n",
       "    ws.send = function(m) {\n",
       "        //console.log('sending', m);\n",
       "        comm.send(m);\n",
       "    };\n",
       "    // Register the callback with on_msg.\n",
       "    comm.on_msg(function(msg) {\n",
       "        //console.log('receiving', msg['content']['data'], msg);\n",
       "        // Pass the mpl event to the overriden (by mpl) onmessage function.\n",
       "        ws.onmessage(msg['content']['data'])\n",
       "    });\n",
       "    return ws;\n",
       "}\n",
       "\n",
       "mpl.mpl_figure_comm = function(comm, msg) {\n",
       "    // This is the function which gets called when the mpl process\n",
       "    // starts-up an IPython Comm through the \"matplotlib\" channel.\n",
       "\n",
       "    var id = msg.content.data.id;\n",
       "    // Get hold of the div created by the display call when the Comm\n",
       "    // socket was opened in Python.\n",
       "    var element = $(\"#\" + id);\n",
       "    var ws_proxy = comm_websocket_adapter(comm)\n",
       "\n",
       "    function ondownload(figure, format) {\n",
       "        window.open(figure.imageObj.src);\n",
       "    }\n",
       "\n",
       "    var fig = new mpl.figure(id, ws_proxy,\n",
       "                           ondownload,\n",
       "                           element.get(0));\n",
       "\n",
       "    // Call onopen now - mpl needs it, as it is assuming we've passed it a real\n",
       "    // web socket which is closed, not our websocket->open comm proxy.\n",
       "    ws_proxy.onopen();\n",
       "\n",
       "    fig.parent_element = element.get(0);\n",
       "    fig.cell_info = mpl.find_output_cell(\"<div id='\" + id + \"'></div>\");\n",
       "    if (!fig.cell_info) {\n",
       "        console.error(\"Failed to find cell for figure\", id, fig);\n",
       "        return;\n",
       "    }\n",
       "\n",
       "    var output_index = fig.cell_info[2]\n",
       "    var cell = fig.cell_info[0];\n",
       "\n",
       "};\n",
       "\n",
       "mpl.figure.prototype.handle_close = function(fig, msg) {\n",
       "    var width = fig.canvas.width/mpl.ratio\n",
       "    fig.root.unbind('remove')\n",
       "\n",
       "    // Update the output cell to use the data from the current canvas.\n",
       "    fig.push_to_output();\n",
       "    var dataURL = fig.canvas.toDataURL();\n",
       "    // Re-enable the keyboard manager in IPython - without this line, in FF,\n",
       "    // the notebook keyboard shortcuts fail.\n",
       "    IPython.keyboard_manager.enable()\n",
       "    $(fig.parent_element).html('<img src=\"' + dataURL + '\" width=\"' + width + '\">');\n",
       "    fig.close_ws(fig, msg);\n",
       "}\n",
       "\n",
       "mpl.figure.prototype.close_ws = function(fig, msg){\n",
       "    fig.send_message('closing', msg);\n",
       "    // fig.ws.close()\n",
       "}\n",
       "\n",
       "mpl.figure.prototype.push_to_output = function(remove_interactive) {\n",
       "    // Turn the data on the canvas into data in the output cell.\n",
       "    var width = this.canvas.width/mpl.ratio\n",
       "    var dataURL = this.canvas.toDataURL();\n",
       "    this.cell_info[1]['text/html'] = '<img src=\"' + dataURL + '\" width=\"' + width + '\">';\n",
       "}\n",
       "\n",
       "mpl.figure.prototype.updated_canvas_event = function() {\n",
       "    // Tell IPython that the notebook contents must change.\n",
       "    IPython.notebook.set_dirty(true);\n",
       "    this.send_message(\"ack\", {});\n",
       "    var fig = this;\n",
       "    // Wait a second, then push the new image to the DOM so\n",
       "    // that it is saved nicely (might be nice to debounce this).\n",
       "    setTimeout(function () { fig.push_to_output() }, 1000);\n",
       "}\n",
       "\n",
       "mpl.figure.prototype._init_toolbar = function() {\n",
       "    var fig = this;\n",
       "\n",
       "    var nav_element = $('<div/>')\n",
       "    nav_element.attr('style', 'width: 100%');\n",
       "    this.root.append(nav_element);\n",
       "\n",
       "    // Define a callback function for later on.\n",
       "    function toolbar_event(event) {\n",
       "        return fig.toolbar_button_onclick(event['data']);\n",
       "    }\n",
       "    function toolbar_mouse_event(event) {\n",
       "        return fig.toolbar_button_onmouseover(event['data']);\n",
       "    }\n",
       "\n",
       "    for(var toolbar_ind in mpl.toolbar_items){\n",
       "        var name = mpl.toolbar_items[toolbar_ind][0];\n",
       "        var tooltip = mpl.toolbar_items[toolbar_ind][1];\n",
       "        var image = mpl.toolbar_items[toolbar_ind][2];\n",
       "        var method_name = mpl.toolbar_items[toolbar_ind][3];\n",
       "\n",
       "        if (!name) { continue; };\n",
       "\n",
       "        var button = $('<button class=\"btn btn-default\" href=\"#\" title=\"' + name + '\"><i class=\"fa ' + image + ' fa-lg\"></i></button>');\n",
       "        button.click(method_name, toolbar_event);\n",
       "        button.mouseover(tooltip, toolbar_mouse_event);\n",
       "        nav_element.append(button);\n",
       "    }\n",
       "\n",
       "    // Add the status bar.\n",
       "    var status_bar = $('<span class=\"mpl-message\" style=\"text-align:right; float: right;\"/>');\n",
       "    nav_element.append(status_bar);\n",
       "    this.message = status_bar[0];\n",
       "\n",
       "    // Add the close button to the window.\n",
       "    var buttongrp = $('<div class=\"btn-group inline pull-right\"></div>');\n",
       "    var button = $('<button class=\"btn btn-mini btn-primary\" href=\"#\" title=\"Stop Interaction\"><i class=\"fa fa-power-off icon-remove icon-large\"></i></button>');\n",
       "    button.click(function (evt) { fig.handle_close(fig, {}); } );\n",
       "    button.mouseover('Stop Interaction', toolbar_mouse_event);\n",
       "    buttongrp.append(button);\n",
       "    var titlebar = this.root.find($('.ui-dialog-titlebar'));\n",
       "    titlebar.prepend(buttongrp);\n",
       "}\n",
       "\n",
       "mpl.figure.prototype._root_extra_style = function(el){\n",
       "    var fig = this\n",
       "    el.on(\"remove\", function(){\n",
       "\tfig.close_ws(fig, {});\n",
       "    });\n",
       "}\n",
       "\n",
       "mpl.figure.prototype._canvas_extra_style = function(el){\n",
       "    // this is important to make the div 'focusable\n",
       "    el.attr('tabindex', 0)\n",
       "    // reach out to IPython and tell the keyboard manager to turn it's self\n",
       "    // off when our div gets focus\n",
       "\n",
       "    // location in version 3\n",
       "    if (IPython.notebook.keyboard_manager) {\n",
       "        IPython.notebook.keyboard_manager.register_events(el);\n",
       "    }\n",
       "    else {\n",
       "        // location in version 2\n",
       "        IPython.keyboard_manager.register_events(el);\n",
       "    }\n",
       "\n",
       "}\n",
       "\n",
       "mpl.figure.prototype._key_event_extra = function(event, name) {\n",
       "    var manager = IPython.notebook.keyboard_manager;\n",
       "    if (!manager)\n",
       "        manager = IPython.keyboard_manager;\n",
       "\n",
       "    // Check for shift+enter\n",
       "    if (event.shiftKey && event.which == 13) {\n",
       "        this.canvas_div.blur();\n",
       "        event.shiftKey = false;\n",
       "        // Send a \"J\" for go to next cell\n",
       "        event.which = 74;\n",
       "        event.keyCode = 74;\n",
       "        manager.command_mode();\n",
       "        manager.handle_keydown(event);\n",
       "    }\n",
       "}\n",
       "\n",
       "mpl.figure.prototype.handle_save = function(fig, msg) {\n",
       "    fig.ondownload(fig, null);\n",
       "}\n",
       "\n",
       "\n",
       "mpl.find_output_cell = function(html_output) {\n",
       "    // Return the cell and output element which can be found *uniquely* in the notebook.\n",
       "    // Note - this is a bit hacky, but it is done because the \"notebook_saving.Notebook\"\n",
       "    // IPython event is triggered only after the cells have been serialised, which for\n",
       "    // our purposes (turning an active figure into a static one), is too late.\n",
       "    var cells = IPython.notebook.get_cells();\n",
       "    var ncells = cells.length;\n",
       "    for (var i=0; i<ncells; i++) {\n",
       "        var cell = cells[i];\n",
       "        if (cell.cell_type === 'code'){\n",
       "            for (var j=0; j<cell.output_area.outputs.length; j++) {\n",
       "                var data = cell.output_area.outputs[j];\n",
       "                if (data.data) {\n",
       "                    // IPython >= 3 moved mimebundle to data attribute of output\n",
       "                    data = data.data;\n",
       "                }\n",
       "                if (data['text/html'] == html_output) {\n",
       "                    return [cell, data, j];\n",
       "                }\n",
       "            }\n",
       "        }\n",
       "    }\n",
       "}\n",
       "\n",
       "// Register the function which deals with the matplotlib target/channel.\n",
       "// The kernel may be null if the page has been refreshed.\n",
       "if (IPython.notebook.kernel != null) {\n",
       "    IPython.notebook.kernel.comm_manager.register_target('matplotlib', mpl.mpl_figure_comm);\n",
       "}\n"
      ],
      "text/plain": [
       "<IPython.core.display.Javascript object>"
      ]
     },
     "metadata": {},
     "output_type": "display_data"
    },
    {
     "data": {
      "text/html": [
       "<img src=\"data:image/png;base64,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\" width=\"432\">"
      ],
      "text/plain": [
       "<IPython.core.display.HTML object>"
      ]
     },
     "metadata": {},
     "output_type": "display_data"
    }
   ],
   "source": [
    "plt.ion()\n",
    "fig = plt.figure()\n",
    "ax = fig.add_subplot(111, projection='3d')\n",
    "ax.view_init(elev=45, azim=19)\n",
    "ax.bar3d(xpos, ypos, zpos, dx, dy, dz, color='b', zsort='average')\n",
    "fig.canvas.draw()\n",
    "fig.show()"
   ]
  },
  {
   "cell_type": "code",
   "execution_count": 81,
   "metadata": {},
   "outputs": [
    {
     "data": {
      "application/javascript": [
       "/* Put everything inside the global mpl namespace */\n",
       "window.mpl = {};\n",
       "\n",
       "\n",
       "mpl.get_websocket_type = function() {\n",
       "    if (typeof(WebSocket) !== 'undefined') {\n",
       "        return WebSocket;\n",
       "    } else if (typeof(MozWebSocket) !== 'undefined') {\n",
       "        return MozWebSocket;\n",
       "    } else {\n",
       "        alert('Your browser does not have WebSocket support.' +\n",
       "              'Please try Chrome, Safari or Firefox ≥ 6. ' +\n",
       "              'Firefox 4 and 5 are also supported but you ' +\n",
       "              'have to enable WebSockets in about:config.');\n",
       "    };\n",
       "}\n",
       "\n",
       "mpl.figure = function(figure_id, websocket, ondownload, parent_element) {\n",
       "    this.id = figure_id;\n",
       "\n",
       "    this.ws = websocket;\n",
       "\n",
       "    this.supports_binary = (this.ws.binaryType != undefined);\n",
       "\n",
       "    if (!this.supports_binary) {\n",
       "        var warnings = document.getElementById(\"mpl-warnings\");\n",
       "        if (warnings) {\n",
       "            warnings.style.display = 'block';\n",
       "            warnings.textContent = (\n",
       "                \"This browser does not support binary websocket messages. \" +\n",
       "                    \"Performance may be slow.\");\n",
       "        }\n",
       "    }\n",
       "\n",
       "    this.imageObj = new Image();\n",
       "\n",
       "    this.context = undefined;\n",
       "    this.message = undefined;\n",
       "    this.canvas = undefined;\n",
       "    this.rubberband_canvas = undefined;\n",
       "    this.rubberband_context = undefined;\n",
       "    this.format_dropdown = undefined;\n",
       "\n",
       "    this.image_mode = 'full';\n",
       "\n",
       "    this.root = $('<div/>');\n",
       "    this._root_extra_style(this.root)\n",
       "    this.root.attr('style', 'display: inline-block');\n",
       "\n",
       "    $(parent_element).append(this.root);\n",
       "\n",
       "    this._init_header(this);\n",
       "    this._init_canvas(this);\n",
       "    this._init_toolbar(this);\n",
       "\n",
       "    var fig = this;\n",
       "\n",
       "    this.waiting = false;\n",
       "\n",
       "    this.ws.onopen =  function () {\n",
       "            fig.send_message(\"supports_binary\", {value: fig.supports_binary});\n",
       "            fig.send_message(\"send_image_mode\", {});\n",
       "            if (mpl.ratio != 1) {\n",
       "                fig.send_message(\"set_dpi_ratio\", {'dpi_ratio': mpl.ratio});\n",
       "            }\n",
       "            fig.send_message(\"refresh\", {});\n",
       "        }\n",
       "\n",
       "    this.imageObj.onload = function() {\n",
       "            if (fig.image_mode == 'full') {\n",
       "                // Full images could contain transparency (where diff images\n",
       "                // almost always do), so we need to clear the canvas so that\n",
       "                // there is no ghosting.\n",
       "                fig.context.clearRect(0, 0, fig.canvas.width, fig.canvas.height);\n",
       "            }\n",
       "            fig.context.drawImage(fig.imageObj, 0, 0);\n",
       "        };\n",
       "\n",
       "    this.imageObj.onunload = function() {\n",
       "        fig.ws.close();\n",
       "    }\n",
       "\n",
       "    this.ws.onmessage = this._make_on_message_function(this);\n",
       "\n",
       "    this.ondownload = ondownload;\n",
       "}\n",
       "\n",
       "mpl.figure.prototype._init_header = function() {\n",
       "    var titlebar = $(\n",
       "        '<div class=\"ui-dialog-titlebar ui-widget-header ui-corner-all ' +\n",
       "        'ui-helper-clearfix\"/>');\n",
       "    var titletext = $(\n",
       "        '<div class=\"ui-dialog-title\" style=\"width: 100%; ' +\n",
       "        'text-align: center; padding: 3px;\"/>');\n",
       "    titlebar.append(titletext)\n",
       "    this.root.append(titlebar);\n",
       "    this.header = titletext[0];\n",
       "}\n",
       "\n",
       "\n",
       "\n",
       "mpl.figure.prototype._canvas_extra_style = function(canvas_div) {\n",
       "\n",
       "}\n",
       "\n",
       "\n",
       "mpl.figure.prototype._root_extra_style = function(canvas_div) {\n",
       "\n",
       "}\n",
       "\n",
       "mpl.figure.prototype._init_canvas = function() {\n",
       "    var fig = this;\n",
       "\n",
       "    var canvas_div = $('<div/>');\n",
       "\n",
       "    canvas_div.attr('style', 'position: relative; clear: both; outline: 0');\n",
       "\n",
       "    function canvas_keyboard_event(event) {\n",
       "        return fig.key_event(event, event['data']);\n",
       "    }\n",
       "\n",
       "    canvas_div.keydown('key_press', canvas_keyboard_event);\n",
       "    canvas_div.keyup('key_release', canvas_keyboard_event);\n",
       "    this.canvas_div = canvas_div\n",
       "    this._canvas_extra_style(canvas_div)\n",
       "    this.root.append(canvas_div);\n",
       "\n",
       "    var canvas = $('<canvas/>');\n",
       "    canvas.addClass('mpl-canvas');\n",
       "    canvas.attr('style', \"left: 0; top: 0; z-index: 0; outline: 0\")\n",
       "\n",
       "    this.canvas = canvas[0];\n",
       "    this.context = canvas[0].getContext(\"2d\");\n",
       "\n",
       "    var backingStore = this.context.backingStorePixelRatio ||\n",
       "\tthis.context.webkitBackingStorePixelRatio ||\n",
       "\tthis.context.mozBackingStorePixelRatio ||\n",
       "\tthis.context.msBackingStorePixelRatio ||\n",
       "\tthis.context.oBackingStorePixelRatio ||\n",
       "\tthis.context.backingStorePixelRatio || 1;\n",
       "\n",
       "    mpl.ratio = (window.devicePixelRatio || 1) / backingStore;\n",
       "\n",
       "    var rubberband = $('<canvas/>');\n",
       "    rubberband.attr('style', \"position: absolute; left: 0; top: 0; z-index: 1;\")\n",
       "\n",
       "    var pass_mouse_events = true;\n",
       "\n",
       "    canvas_div.resizable({\n",
       "        start: function(event, ui) {\n",
       "            pass_mouse_events = false;\n",
       "        },\n",
       "        resize: function(event, ui) {\n",
       "            fig.request_resize(ui.size.width, ui.size.height);\n",
       "        },\n",
       "        stop: function(event, ui) {\n",
       "            pass_mouse_events = true;\n",
       "            fig.request_resize(ui.size.width, ui.size.height);\n",
       "        },\n",
       "    });\n",
       "\n",
       "    function mouse_event_fn(event) {\n",
       "        if (pass_mouse_events)\n",
       "            return fig.mouse_event(event, event['data']);\n",
       "    }\n",
       "\n",
       "    rubberband.mousedown('button_press', mouse_event_fn);\n",
       "    rubberband.mouseup('button_release', mouse_event_fn);\n",
       "    // Throttle sequential mouse events to 1 every 20ms.\n",
       "    rubberband.mousemove('motion_notify', mouse_event_fn);\n",
       "\n",
       "    rubberband.mouseenter('figure_enter', mouse_event_fn);\n",
       "    rubberband.mouseleave('figure_leave', mouse_event_fn);\n",
       "\n",
       "    canvas_div.on(\"wheel\", function (event) {\n",
       "        event = event.originalEvent;\n",
       "        event['data'] = 'scroll'\n",
       "        if (event.deltaY < 0) {\n",
       "            event.step = 1;\n",
       "        } else {\n",
       "            event.step = -1;\n",
       "        }\n",
       "        mouse_event_fn(event);\n",
       "    });\n",
       "\n",
       "    canvas_div.append(canvas);\n",
       "    canvas_div.append(rubberband);\n",
       "\n",
       "    this.rubberband = rubberband;\n",
       "    this.rubberband_canvas = rubberband[0];\n",
       "    this.rubberband_context = rubberband[0].getContext(\"2d\");\n",
       "    this.rubberband_context.strokeStyle = \"#000000\";\n",
       "\n",
       "    this._resize_canvas = function(width, height) {\n",
       "        // Keep the size of the canvas, canvas container, and rubber band\n",
       "        // canvas in synch.\n",
       "        canvas_div.css('width', width)\n",
       "        canvas_div.css('height', height)\n",
       "\n",
       "        canvas.attr('width', width * mpl.ratio);\n",
       "        canvas.attr('height', height * mpl.ratio);\n",
       "        canvas.attr('style', 'width: ' + width + 'px; height: ' + height + 'px;');\n",
       "\n",
       "        rubberband.attr('width', width);\n",
       "        rubberband.attr('height', height);\n",
       "    }\n",
       "\n",
       "    // Set the figure to an initial 600x600px, this will subsequently be updated\n",
       "    // upon first draw.\n",
       "    this._resize_canvas(600, 600);\n",
       "\n",
       "    // Disable right mouse context menu.\n",
       "    $(this.rubberband_canvas).bind(\"contextmenu\",function(e){\n",
       "        return false;\n",
       "    });\n",
       "\n",
       "    function set_focus () {\n",
       "        canvas.focus();\n",
       "        canvas_div.focus();\n",
       "    }\n",
       "\n",
       "    window.setTimeout(set_focus, 100);\n",
       "}\n",
       "\n",
       "mpl.figure.prototype._init_toolbar = function() {\n",
       "    var fig = this;\n",
       "\n",
       "    var nav_element = $('<div/>')\n",
       "    nav_element.attr('style', 'width: 100%');\n",
       "    this.root.append(nav_element);\n",
       "\n",
       "    // Define a callback function for later on.\n",
       "    function toolbar_event(event) {\n",
       "        return fig.toolbar_button_onclick(event['data']);\n",
       "    }\n",
       "    function toolbar_mouse_event(event) {\n",
       "        return fig.toolbar_button_onmouseover(event['data']);\n",
       "    }\n",
       "\n",
       "    for(var toolbar_ind in mpl.toolbar_items) {\n",
       "        var name = mpl.toolbar_items[toolbar_ind][0];\n",
       "        var tooltip = mpl.toolbar_items[toolbar_ind][1];\n",
       "        var image = mpl.toolbar_items[toolbar_ind][2];\n",
       "        var method_name = mpl.toolbar_items[toolbar_ind][3];\n",
       "\n",
       "        if (!name) {\n",
       "            // put a spacer in here.\n",
       "            continue;\n",
       "        }\n",
       "        var button = $('<button/>');\n",
       "        button.addClass('ui-button ui-widget ui-state-default ui-corner-all ' +\n",
       "                        'ui-button-icon-only');\n",
       "        button.attr('role', 'button');\n",
       "        button.attr('aria-disabled', 'false');\n",
       "        button.click(method_name, toolbar_event);\n",
       "        button.mouseover(tooltip, toolbar_mouse_event);\n",
       "\n",
       "        var icon_img = $('<span/>');\n",
       "        icon_img.addClass('ui-button-icon-primary ui-icon');\n",
       "        icon_img.addClass(image);\n",
       "        icon_img.addClass('ui-corner-all');\n",
       "\n",
       "        var tooltip_span = $('<span/>');\n",
       "        tooltip_span.addClass('ui-button-text');\n",
       "        tooltip_span.html(tooltip);\n",
       "\n",
       "        button.append(icon_img);\n",
       "        button.append(tooltip_span);\n",
       "\n",
       "        nav_element.append(button);\n",
       "    }\n",
       "\n",
       "    var fmt_picker_span = $('<span/>');\n",
       "\n",
       "    var fmt_picker = $('<select/>');\n",
       "    fmt_picker.addClass('mpl-toolbar-option ui-widget ui-widget-content');\n",
       "    fmt_picker_span.append(fmt_picker);\n",
       "    nav_element.append(fmt_picker_span);\n",
       "    this.format_dropdown = fmt_picker[0];\n",
       "\n",
       "    for (var ind in mpl.extensions) {\n",
       "        var fmt = mpl.extensions[ind];\n",
       "        var option = $(\n",
       "            '<option/>', {selected: fmt === mpl.default_extension}).html(fmt);\n",
       "        fmt_picker.append(option)\n",
       "    }\n",
       "\n",
       "    // Add hover states to the ui-buttons\n",
       "    $( \".ui-button\" ).hover(\n",
       "        function() { $(this).addClass(\"ui-state-hover\");},\n",
       "        function() { $(this).removeClass(\"ui-state-hover\");}\n",
       "    );\n",
       "\n",
       "    var status_bar = $('<span class=\"mpl-message\"/>');\n",
       "    nav_element.append(status_bar);\n",
       "    this.message = status_bar[0];\n",
       "}\n",
       "\n",
       "mpl.figure.prototype.request_resize = function(x_pixels, y_pixels) {\n",
       "    // Request matplotlib to resize the figure. Matplotlib will then trigger a resize in the client,\n",
       "    // which will in turn request a refresh of the image.\n",
       "    this.send_message('resize', {'width': x_pixels, 'height': y_pixels});\n",
       "}\n",
       "\n",
       "mpl.figure.prototype.send_message = function(type, properties) {\n",
       "    properties['type'] = type;\n",
       "    properties['figure_id'] = this.id;\n",
       "    this.ws.send(JSON.stringify(properties));\n",
       "}\n",
       "\n",
       "mpl.figure.prototype.send_draw_message = function() {\n",
       "    if (!this.waiting) {\n",
       "        this.waiting = true;\n",
       "        this.ws.send(JSON.stringify({type: \"draw\", figure_id: this.id}));\n",
       "    }\n",
       "}\n",
       "\n",
       "\n",
       "mpl.figure.prototype.handle_save = function(fig, msg) {\n",
       "    var format_dropdown = fig.format_dropdown;\n",
       "    var format = format_dropdown.options[format_dropdown.selectedIndex].value;\n",
       "    fig.ondownload(fig, format);\n",
       "}\n",
       "\n",
       "\n",
       "mpl.figure.prototype.handle_resize = function(fig, msg) {\n",
       "    var size = msg['size'];\n",
       "    if (size[0] != fig.canvas.width || size[1] != fig.canvas.height) {\n",
       "        fig._resize_canvas(size[0], size[1]);\n",
       "        fig.send_message(\"refresh\", {});\n",
       "    };\n",
       "}\n",
       "\n",
       "mpl.figure.prototype.handle_rubberband = function(fig, msg) {\n",
       "    var x0 = msg['x0'] / mpl.ratio;\n",
       "    var y0 = (fig.canvas.height - msg['y0']) / mpl.ratio;\n",
       "    var x1 = msg['x1'] / mpl.ratio;\n",
       "    var y1 = (fig.canvas.height - msg['y1']) / mpl.ratio;\n",
       "    x0 = Math.floor(x0) + 0.5;\n",
       "    y0 = Math.floor(y0) + 0.5;\n",
       "    x1 = Math.floor(x1) + 0.5;\n",
       "    y1 = Math.floor(y1) + 0.5;\n",
       "    var min_x = Math.min(x0, x1);\n",
       "    var min_y = Math.min(y0, y1);\n",
       "    var width = Math.abs(x1 - x0);\n",
       "    var height = Math.abs(y1 - y0);\n",
       "\n",
       "    fig.rubberband_context.clearRect(\n",
       "        0, 0, fig.canvas.width, fig.canvas.height);\n",
       "\n",
       "    fig.rubberband_context.strokeRect(min_x, min_y, width, height);\n",
       "}\n",
       "\n",
       "mpl.figure.prototype.handle_figure_label = function(fig, msg) {\n",
       "    // Updates the figure title.\n",
       "    fig.header.textContent = msg['label'];\n",
       "}\n",
       "\n",
       "mpl.figure.prototype.handle_cursor = function(fig, msg) {\n",
       "    var cursor = msg['cursor'];\n",
       "    switch(cursor)\n",
       "    {\n",
       "    case 0:\n",
       "        cursor = 'pointer';\n",
       "        break;\n",
       "    case 1:\n",
       "        cursor = 'default';\n",
       "        break;\n",
       "    case 2:\n",
       "        cursor = 'crosshair';\n",
       "        break;\n",
       "    case 3:\n",
       "        cursor = 'move';\n",
       "        break;\n",
       "    }\n",
       "    fig.rubberband_canvas.style.cursor = cursor;\n",
       "}\n",
       "\n",
       "mpl.figure.prototype.handle_message = function(fig, msg) {\n",
       "    fig.message.textContent = msg['message'];\n",
       "}\n",
       "\n",
       "mpl.figure.prototype.handle_draw = function(fig, msg) {\n",
       "    // Request the server to send over a new figure.\n",
       "    fig.send_draw_message();\n",
       "}\n",
       "\n",
       "mpl.figure.prototype.handle_image_mode = function(fig, msg) {\n",
       "    fig.image_mode = msg['mode'];\n",
       "}\n",
       "\n",
       "mpl.figure.prototype.updated_canvas_event = function() {\n",
       "    // Called whenever the canvas gets updated.\n",
       "    this.send_message(\"ack\", {});\n",
       "}\n",
       "\n",
       "// A function to construct a web socket function for onmessage handling.\n",
       "// Called in the figure constructor.\n",
       "mpl.figure.prototype._make_on_message_function = function(fig) {\n",
       "    return function socket_on_message(evt) {\n",
       "        if (evt.data instanceof Blob) {\n",
       "            /* FIXME: We get \"Resource interpreted as Image but\n",
       "             * transferred with MIME type text/plain:\" errors on\n",
       "             * Chrome.  But how to set the MIME type?  It doesn't seem\n",
       "             * to be part of the websocket stream */\n",
       "            evt.data.type = \"image/png\";\n",
       "\n",
       "            /* Free the memory for the previous frames */\n",
       "            if (fig.imageObj.src) {\n",
       "                (window.URL || window.webkitURL).revokeObjectURL(\n",
       "                    fig.imageObj.src);\n",
       "            }\n",
       "\n",
       "            fig.imageObj.src = (window.URL || window.webkitURL).createObjectURL(\n",
       "                evt.data);\n",
       "            fig.updated_canvas_event();\n",
       "            fig.waiting = false;\n",
       "            return;\n",
       "        }\n",
       "        else if (typeof evt.data === 'string' && evt.data.slice(0, 21) == \"data:image/png;base64\") {\n",
       "            fig.imageObj.src = evt.data;\n",
       "            fig.updated_canvas_event();\n",
       "            fig.waiting = false;\n",
       "            return;\n",
       "        }\n",
       "\n",
       "        var msg = JSON.parse(evt.data);\n",
       "        var msg_type = msg['type'];\n",
       "\n",
       "        // Call the  \"handle_{type}\" callback, which takes\n",
       "        // the figure and JSON message as its only arguments.\n",
       "        try {\n",
       "            var callback = fig[\"handle_\" + msg_type];\n",
       "        } catch (e) {\n",
       "            console.log(\"No handler for the '\" + msg_type + \"' message type: \", msg);\n",
       "            return;\n",
       "        }\n",
       "\n",
       "        if (callback) {\n",
       "            try {\n",
       "                // console.log(\"Handling '\" + msg_type + \"' message: \", msg);\n",
       "                callback(fig, msg);\n",
       "            } catch (e) {\n",
       "                console.log(\"Exception inside the 'handler_\" + msg_type + \"' callback:\", e, e.stack, msg);\n",
       "            }\n",
       "        }\n",
       "    };\n",
       "}\n",
       "\n",
       "// from http://stackoverflow.com/questions/1114465/getting-mouse-location-in-canvas\n",
       "mpl.findpos = function(e) {\n",
       "    //this section is from http://www.quirksmode.org/js/events_properties.html\n",
       "    var targ;\n",
       "    if (!e)\n",
       "        e = window.event;\n",
       "    if (e.target)\n",
       "        targ = e.target;\n",
       "    else if (e.srcElement)\n",
       "        targ = e.srcElement;\n",
       "    if (targ.nodeType == 3) // defeat Safari bug\n",
       "        targ = targ.parentNode;\n",
       "\n",
       "    // jQuery normalizes the pageX and pageY\n",
       "    // pageX,Y are the mouse positions relative to the document\n",
       "    // offset() returns the position of the element relative to the document\n",
       "    var x = e.pageX - $(targ).offset().left;\n",
       "    var y = e.pageY - $(targ).offset().top;\n",
       "\n",
       "    return {\"x\": x, \"y\": y};\n",
       "};\n",
       "\n",
       "/*\n",
       " * return a copy of an object with only non-object keys\n",
       " * we need this to avoid circular references\n",
       " * http://stackoverflow.com/a/24161582/3208463\n",
       " */\n",
       "function simpleKeys (original) {\n",
       "  return Object.keys(original).reduce(function (obj, key) {\n",
       "    if (typeof original[key] !== 'object')\n",
       "        obj[key] = original[key]\n",
       "    return obj;\n",
       "  }, {});\n",
       "}\n",
       "\n",
       "mpl.figure.prototype.mouse_event = function(event, name) {\n",
       "    var canvas_pos = mpl.findpos(event)\n",
       "\n",
       "    if (name === 'button_press')\n",
       "    {\n",
       "        this.canvas.focus();\n",
       "        this.canvas_div.focus();\n",
       "    }\n",
       "\n",
       "    var x = canvas_pos.x * mpl.ratio;\n",
       "    var y = canvas_pos.y * mpl.ratio;\n",
       "\n",
       "    this.send_message(name, {x: x, y: y, button: event.button,\n",
       "                             step: event.step,\n",
       "                             guiEvent: simpleKeys(event)});\n",
       "\n",
       "    /* This prevents the web browser from automatically changing to\n",
       "     * the text insertion cursor when the button is pressed.  We want\n",
       "     * to control all of the cursor setting manually through the\n",
       "     * 'cursor' event from matplotlib */\n",
       "    event.preventDefault();\n",
       "    return false;\n",
       "}\n",
       "\n",
       "mpl.figure.prototype._key_event_extra = function(event, name) {\n",
       "    // Handle any extra behaviour associated with a key event\n",
       "}\n",
       "\n",
       "mpl.figure.prototype.key_event = function(event, name) {\n",
       "\n",
       "    // Prevent repeat events\n",
       "    if (name == 'key_press')\n",
       "    {\n",
       "        if (event.which === this._key)\n",
       "            return;\n",
       "        else\n",
       "            this._key = event.which;\n",
       "    }\n",
       "    if (name == 'key_release')\n",
       "        this._key = null;\n",
       "\n",
       "    var value = '';\n",
       "    if (event.ctrlKey && event.which != 17)\n",
       "        value += \"ctrl+\";\n",
       "    if (event.altKey && event.which != 18)\n",
       "        value += \"alt+\";\n",
       "    if (event.shiftKey && event.which != 16)\n",
       "        value += \"shift+\";\n",
       "\n",
       "    value += 'k';\n",
       "    value += event.which.toString();\n",
       "\n",
       "    this._key_event_extra(event, name);\n",
       "\n",
       "    this.send_message(name, {key: value,\n",
       "                             guiEvent: simpleKeys(event)});\n",
       "    return false;\n",
       "}\n",
       "\n",
       "mpl.figure.prototype.toolbar_button_onclick = function(name) {\n",
       "    if (name == 'download') {\n",
       "        this.handle_save(this, null);\n",
       "    } else {\n",
       "        this.send_message(\"toolbar_button\", {name: name});\n",
       "    }\n",
       "};\n",
       "\n",
       "mpl.figure.prototype.toolbar_button_onmouseover = function(tooltip) {\n",
       "    this.message.textContent = tooltip;\n",
       "};\n",
       "mpl.toolbar_items = [[\"Home\", \"Reset original view\", \"fa fa-home icon-home\", \"home\"], [\"Back\", \"Back to  previous view\", \"fa fa-arrow-left icon-arrow-left\", \"back\"], [\"Forward\", \"Forward to next view\", \"fa fa-arrow-right icon-arrow-right\", \"forward\"], [\"\", \"\", \"\", \"\"], [\"Pan\", \"Pan axes with left mouse, zoom with right\", \"fa fa-arrows icon-move\", \"pan\"], [\"Zoom\", \"Zoom to rectangle\", \"fa fa-square-o icon-check-empty\", \"zoom\"], [\"\", \"\", \"\", \"\"], [\"Download\", \"Download plot\", \"fa fa-floppy-o icon-save\", \"download\"]];\n",
       "\n",
       "mpl.extensions = [\"eps\", \"jpeg\", \"pdf\", \"png\", \"ps\", \"raw\", \"svg\", \"tif\"];\n",
       "\n",
       "mpl.default_extension = \"png\";var comm_websocket_adapter = function(comm) {\n",
       "    // Create a \"websocket\"-like object which calls the given IPython comm\n",
       "    // object with the appropriate methods. Currently this is a non binary\n",
       "    // socket, so there is still some room for performance tuning.\n",
       "    var ws = {};\n",
       "\n",
       "    ws.close = function() {\n",
       "        comm.close()\n",
       "    };\n",
       "    ws.send = function(m) {\n",
       "        //console.log('sending', m);\n",
       "        comm.send(m);\n",
       "    };\n",
       "    // Register the callback with on_msg.\n",
       "    comm.on_msg(function(msg) {\n",
       "        //console.log('receiving', msg['content']['data'], msg);\n",
       "        // Pass the mpl event to the overriden (by mpl) onmessage function.\n",
       "        ws.onmessage(msg['content']['data'])\n",
       "    });\n",
       "    return ws;\n",
       "}\n",
       "\n",
       "mpl.mpl_figure_comm = function(comm, msg) {\n",
       "    // This is the function which gets called when the mpl process\n",
       "    // starts-up an IPython Comm through the \"matplotlib\" channel.\n",
       "\n",
       "    var id = msg.content.data.id;\n",
       "    // Get hold of the div created by the display call when the Comm\n",
       "    // socket was opened in Python.\n",
       "    var element = $(\"#\" + id);\n",
       "    var ws_proxy = comm_websocket_adapter(comm)\n",
       "\n",
       "    function ondownload(figure, format) {\n",
       "        window.open(figure.imageObj.src);\n",
       "    }\n",
       "\n",
       "    var fig = new mpl.figure(id, ws_proxy,\n",
       "                           ondownload,\n",
       "                           element.get(0));\n",
       "\n",
       "    // Call onopen now - mpl needs it, as it is assuming we've passed it a real\n",
       "    // web socket which is closed, not our websocket->open comm proxy.\n",
       "    ws_proxy.onopen();\n",
       "\n",
       "    fig.parent_element = element.get(0);\n",
       "    fig.cell_info = mpl.find_output_cell(\"<div id='\" + id + \"'></div>\");\n",
       "    if (!fig.cell_info) {\n",
       "        console.error(\"Failed to find cell for figure\", id, fig);\n",
       "        return;\n",
       "    }\n",
       "\n",
       "    var output_index = fig.cell_info[2]\n",
       "    var cell = fig.cell_info[0];\n",
       "\n",
       "};\n",
       "\n",
       "mpl.figure.prototype.handle_close = function(fig, msg) {\n",
       "    var width = fig.canvas.width/mpl.ratio\n",
       "    fig.root.unbind('remove')\n",
       "\n",
       "    // Update the output cell to use the data from the current canvas.\n",
       "    fig.push_to_output();\n",
       "    var dataURL = fig.canvas.toDataURL();\n",
       "    // Re-enable the keyboard manager in IPython - without this line, in FF,\n",
       "    // the notebook keyboard shortcuts fail.\n",
       "    IPython.keyboard_manager.enable()\n",
       "    $(fig.parent_element).html('<img src=\"' + dataURL + '\" width=\"' + width + '\">');\n",
       "    fig.close_ws(fig, msg);\n",
       "}\n",
       "\n",
       "mpl.figure.prototype.close_ws = function(fig, msg){\n",
       "    fig.send_message('closing', msg);\n",
       "    // fig.ws.close()\n",
       "}\n",
       "\n",
       "mpl.figure.prototype.push_to_output = function(remove_interactive) {\n",
       "    // Turn the data on the canvas into data in the output cell.\n",
       "    var width = this.canvas.width/mpl.ratio\n",
       "    var dataURL = this.canvas.toDataURL();\n",
       "    this.cell_info[1]['text/html'] = '<img src=\"' + dataURL + '\" width=\"' + width + '\">';\n",
       "}\n",
       "\n",
       "mpl.figure.prototype.updated_canvas_event = function() {\n",
       "    // Tell IPython that the notebook contents must change.\n",
       "    IPython.notebook.set_dirty(true);\n",
       "    this.send_message(\"ack\", {});\n",
       "    var fig = this;\n",
       "    // Wait a second, then push the new image to the DOM so\n",
       "    // that it is saved nicely (might be nice to debounce this).\n",
       "    setTimeout(function () { fig.push_to_output() }, 1000);\n",
       "}\n",
       "\n",
       "mpl.figure.prototype._init_toolbar = function() {\n",
       "    var fig = this;\n",
       "\n",
       "    var nav_element = $('<div/>')\n",
       "    nav_element.attr('style', 'width: 100%');\n",
       "    this.root.append(nav_element);\n",
       "\n",
       "    // Define a callback function for later on.\n",
       "    function toolbar_event(event) {\n",
       "        return fig.toolbar_button_onclick(event['data']);\n",
       "    }\n",
       "    function toolbar_mouse_event(event) {\n",
       "        return fig.toolbar_button_onmouseover(event['data']);\n",
       "    }\n",
       "\n",
       "    for(var toolbar_ind in mpl.toolbar_items){\n",
       "        var name = mpl.toolbar_items[toolbar_ind][0];\n",
       "        var tooltip = mpl.toolbar_items[toolbar_ind][1];\n",
       "        var image = mpl.toolbar_items[toolbar_ind][2];\n",
       "        var method_name = mpl.toolbar_items[toolbar_ind][3];\n",
       "\n",
       "        if (!name) { continue; };\n",
       "\n",
       "        var button = $('<button class=\"btn btn-default\" href=\"#\" title=\"' + name + '\"><i class=\"fa ' + image + ' fa-lg\"></i></button>');\n",
       "        button.click(method_name, toolbar_event);\n",
       "        button.mouseover(tooltip, toolbar_mouse_event);\n",
       "        nav_element.append(button);\n",
       "    }\n",
       "\n",
       "    // Add the status bar.\n",
       "    var status_bar = $('<span class=\"mpl-message\" style=\"text-align:right; float: right;\"/>');\n",
       "    nav_element.append(status_bar);\n",
       "    this.message = status_bar[0];\n",
       "\n",
       "    // Add the close button to the window.\n",
       "    var buttongrp = $('<div class=\"btn-group inline pull-right\"></div>');\n",
       "    var button = $('<button class=\"btn btn-mini btn-primary\" href=\"#\" title=\"Stop Interaction\"><i class=\"fa fa-power-off icon-remove icon-large\"></i></button>');\n",
       "    button.click(function (evt) { fig.handle_close(fig, {}); } );\n",
       "    button.mouseover('Stop Interaction', toolbar_mouse_event);\n",
       "    buttongrp.append(button);\n",
       "    var titlebar = this.root.find($('.ui-dialog-titlebar'));\n",
       "    titlebar.prepend(buttongrp);\n",
       "}\n",
       "\n",
       "mpl.figure.prototype._root_extra_style = function(el){\n",
       "    var fig = this\n",
       "    el.on(\"remove\", function(){\n",
       "\tfig.close_ws(fig, {});\n",
       "    });\n",
       "}\n",
       "\n",
       "mpl.figure.prototype._canvas_extra_style = function(el){\n",
       "    // this is important to make the div 'focusable\n",
       "    el.attr('tabindex', 0)\n",
       "    // reach out to IPython and tell the keyboard manager to turn it's self\n",
       "    // off when our div gets focus\n",
       "\n",
       "    // location in version 3\n",
       "    if (IPython.notebook.keyboard_manager) {\n",
       "        IPython.notebook.keyboard_manager.register_events(el);\n",
       "    }\n",
       "    else {\n",
       "        // location in version 2\n",
       "        IPython.keyboard_manager.register_events(el);\n",
       "    }\n",
       "\n",
       "}\n",
       "\n",
       "mpl.figure.prototype._key_event_extra = function(event, name) {\n",
       "    var manager = IPython.notebook.keyboard_manager;\n",
       "    if (!manager)\n",
       "        manager = IPython.keyboard_manager;\n",
       "\n",
       "    // Check for shift+enter\n",
       "    if (event.shiftKey && event.which == 13) {\n",
       "        this.canvas_div.blur();\n",
       "        event.shiftKey = false;\n",
       "        // Send a \"J\" for go to next cell\n",
       "        event.which = 74;\n",
       "        event.keyCode = 74;\n",
       "        manager.command_mode();\n",
       "        manager.handle_keydown(event);\n",
       "    }\n",
       "}\n",
       "\n",
       "mpl.figure.prototype.handle_save = function(fig, msg) {\n",
       "    fig.ondownload(fig, null);\n",
       "}\n",
       "\n",
       "\n",
       "mpl.find_output_cell = function(html_output) {\n",
       "    // Return the cell and output element which can be found *uniquely* in the notebook.\n",
       "    // Note - this is a bit hacky, but it is done because the \"notebook_saving.Notebook\"\n",
       "    // IPython event is triggered only after the cells have been serialised, which for\n",
       "    // our purposes (turning an active figure into a static one), is too late.\n",
       "    var cells = IPython.notebook.get_cells();\n",
       "    var ncells = cells.length;\n",
       "    for (var i=0; i<ncells; i++) {\n",
       "        var cell = cells[i];\n",
       "        if (cell.cell_type === 'code'){\n",
       "            for (var j=0; j<cell.output_area.outputs.length; j++) {\n",
       "                var data = cell.output_area.outputs[j];\n",
       "                if (data.data) {\n",
       "                    // IPython >= 3 moved mimebundle to data attribute of output\n",
       "                    data = data.data;\n",
       "                }\n",
       "                if (data['text/html'] == html_output) {\n",
       "                    return [cell, data, j];\n",
       "                }\n",
       "            }\n",
       "        }\n",
       "    }\n",
       "}\n",
       "\n",
       "// Register the function which deals with the matplotlib target/channel.\n",
       "// The kernel may be null if the page has been refreshed.\n",
       "if (IPython.notebook.kernel != null) {\n",
       "    IPython.notebook.kernel.comm_manager.register_target('matplotlib', mpl.mpl_figure_comm);\n",
       "}\n"
      ],
      "text/plain": [
       "<IPython.core.display.Javascript object>"
      ]
     },
     "metadata": {},
     "output_type": "display_data"
    },
    {
     "data": {
      "text/html": [
       "<img src=\"data:image/png;base64,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\" width=\"432\">"
      ],
      "text/plain": [
       "<IPython.core.display.HTML object>"
      ]
     },
     "metadata": {},
     "output_type": "display_data"
    },
    {
     "data": {
      "text/plain": [
       "(array([102.,  84.,  74.,  72.,  67.,  57.,  56.,  51.,  50.,  42.,  40.,\n",
       "         43.,  31.,  38.,  19.,  25.,  23.,  22.,  21.,  21.,   9.,  11.,\n",
       "         14.,  19.,  13.,   9.,   5.,   7.,   4.,   8.,   5.,   4.,   4.,\n",
       "          4.,   2.,   2.,   3.,   1.,   0.,   1.]),\n",
       " array([0.        , 0.02329282, 0.04658565, 0.06987847, 0.0931713 ,\n",
       "        0.11646412, 0.13975694, 0.16304977, 0.18634259, 0.20963542,\n",
       "        0.23292824, 0.25622106, 0.27951389, 0.30280671, 0.32609954,\n",
       "        0.34939236, 0.37268519, 0.39597801, 0.41927083, 0.44256366,\n",
       "        0.46585648, 0.48914931, 0.51244213, 0.53573495, 0.55902778,\n",
       "        0.5823206 , 0.60561343, 0.62890625, 0.65219907, 0.6754919 ,\n",
       "        0.69878472, 0.72207755, 0.74537037, 0.76866319, 0.79195602,\n",
       "        0.81524884, 0.83854167, 0.86183449, 0.88512731, 0.90842014,\n",
       "        0.93171296]),\n",
       " <a list of 40 Patch objects>)"
      ]
     },
     "execution_count": 81,
     "metadata": {},
     "output_type": "execute_result"
    }
   ],
   "source": [
    "fig = plt.figure()\n",
    "plt.hist(PC*PO,bins = 40,)"
   ]
  },
  {
   "cell_type": "code",
   "execution_count": 84,
   "metadata": {},
   "outputs": [],
   "source": [
    "import scipy.stats"
   ]
  },
  {
   "cell_type": "code",
   "execution_count": 96,
   "metadata": {},
   "outputs": [
    {
     "data": {
      "text/plain": [
       "AndersonResult(statistic=15.621994220517536, critical_values=array([0.426, 0.563, 0.66 , 0.769, 0.906, 1.01 ]), significance_level=array([25. , 10. ,  5. ,  2.5,  1. ,  0.5]))"
      ]
     },
     "execution_count": 96,
     "metadata": {},
     "output_type": "execute_result"
    }
   ],
   "source": [
    "scipy.stats.anderson(PC,dist='logistic')"
   ]
  },
  {
   "cell_type": "code",
   "execution_count": 90,
   "metadata": {},
   "outputs": [
    {
     "data": {
      "text/plain": [
       "1063"
      ]
     },
     "execution_count": 90,
     "metadata": {},
     "output_type": "execute_result"
    }
   ],
   "source": [
    "(len(PC*PO))"
   ]
  },
  {
   "cell_type": "code",
   "execution_count": 86,
   "metadata": {},
   "outputs": [],
   "source": [
    "ss = bytearray([0xee,0x33,0xe])"
   ]
  },
  {
   "cell_type": "code",
   "execution_count": 90,
   "metadata": {},
   "outputs": [
    {
     "data": {
      "text/plain": [
       "3"
      ]
     },
     "execution_count": 90,
     "metadata": {},
     "output_type": "execute_result"
    }
   ],
   "source": [
    "len(b'\\xee\\x33\\x0e')"
   ]
  },
  {
   "cell_type": "code",
   "execution_count": 91,
   "metadata": {},
   "outputs": [
    {
     "data": {
      "text/plain": [
       "'fffffffff'"
      ]
     },
     "execution_count": 91,
     "metadata": {},
     "output_type": "execute_result"
    }
   ],
   "source": [
    "hex(63+63*64+63*64**2+63*64**3+63*64**4+63*64**5)[2:]"
   ]
  },
  {
   "cell_type": "code",
   "execution_count": 45,
   "metadata": {},
   "outputs": [
    {
     "data": {
      "text/plain": [
       "'261 = a + 64+b + 64*2+c'"
      ]
     },
     "execution_count": 45,
     "metadata": {},
     "output_type": "execute_result"
    }
   ],
   "source": [
    "a*64^0+b*64^1+c*64^2"
   ]
  },
  {
   "cell_type": "code",
   "execution_count": null,
   "metadata": {
    "collapsed": true
   },
   "outputs": [],
   "source": [
    "def f(x):\n",
    "    if x>63:\n",
    "        "
   ]
  },
  {
   "cell_type": "code",
   "execution_count": 147,
   "metadata": {
    "collapsed": true
   },
   "outputs": [],
   "source": [
    "import BPAT"
   ]
  },
  {
   "cell_type": "code",
   "execution_count": 162,
   "metadata": {},
   "outputs": [
    {
     "data": {
      "text/plain": [
       "2"
      ]
     },
     "execution_count": 162,
     "metadata": {},
     "output_type": "execute_result"
    }
   ],
   "source": [
    "a"
   ]
  },
  {
   "cell_type": "code",
   "execution_count": 163,
   "metadata": {},
   "outputs": [
    {
     "data": {
      "text/plain": [
       "<frame at 0x7fdff0036f68>"
      ]
     },
     "execution_count": 163,
     "metadata": {},
     "output_type": "execute_result"
    }
   ],
   "source": [
    "b"
   ]
  },
  {
   "cell_type": "code",
   "execution_count": 168,
   "metadata": {},
   "outputs": [
    {
     "data": {
      "text/plain": [
       "1"
      ]
     },
     "execution_count": 168,
     "metadata": {},
     "output_type": "execute_result"
    }
   ],
   "source": [
    "BPAT.load('BCOM').count('0x88')"
   ]
  },
  {
   "cell_type": "code",
   "execution_count": 7,
   "metadata": {
    "collapsed": true
   },
   "outputs": [],
   "source": [
    "from importlib import reload"
   ]
  },
  {
   "cell_type": "code",
   "execution_count": 134,
   "metadata": {},
   "outputs": [],
   "source": [
    "signal = reload(signal)\n",
    "BPAT = reload(BPAT)\n",
    "sg = signal.getsignal(signal.SIGINT)"
   ]
  },
  {
   "cell_type": "code",
   "execution_count": null,
   "metadata": {
    "collapsed": true
   },
   "outputs": [],
   "source": []
  },
  {
   "cell_type": "code",
   "execution_count": 46,
   "metadata": {},
   "outputs": [],
   "source": [
    "l = 13.6100\n",
    "h = 14.480\n",
    "o = 13.94\n",
    "c = 14.48"
   ]
  },
  {
   "cell_type": "code",
   "execution_count": 40,
   "metadata": {},
   "outputs": [
    {
     "data": {
      "text/plain": [
       "{'current_key': (b'ng\\\\\\xb8', ['0x3e', '0x37', '0x2c', '0x88']),\n",
       " 'k_in_D': (False, b'Cng\\\\'),\n",
       " 'scode': 'AMBCW',\n",
       " 'since': 1553379607.3517616,\n",
       " 'step': 64,\n",
       " 'step_since': 1553379607.361533}"
      ]
     },
     "execution_count": 40,
     "metadata": {},
     "output_type": "execute_result"
    }
   ],
   "source": [
    "BPAT.DBGLOG"
   ]
  },
  {
   "cell_type": "code",
   "execution_count": 31,
   "metadata": {},
   "outputs": [
    {
     "data": {
      "text/plain": [
       "{'current_key': '0x390x280x1c0x17',\n",
       " 'exit_time': 1553372664.23632,\n",
       " 'k_in_D': (True, '0x050x390x280x1c'),\n",
       " 'scode': 'AOS',\n",
       " 'since': 1553372628.9383805,\n",
       " 'step': 6841,\n",
       " 'step_since': 1553372664.1932511}"
      ]
     },
     "execution_count": 31,
     "metadata": {},
     "output_type": "execute_result"
    }
   ],
   "source": [
    "BPAT.DBGLOG"
   ]
  },
  {
   "cell_type": "code",
   "execution_count": 32,
   "metadata": {},
   "outputs": [
    {
     "data": {
      "text/plain": [
       "0.043068885803222656"
      ]
     },
     "execution_count": 32,
     "metadata": {},
     "output_type": "execute_result"
    }
   ],
   "source": [
    "1553372664.23632 - 1553372664.1932511 "
   ]
  },
  {
   "cell_type": "code",
   "execution_count": 21,
   "metadata": {},
   "outputs": [
    {
     "data": {
      "text/plain": [
       "0.033738136291503906"
      ]
     },
     "execution_count": 21,
     "metadata": {},
     "output_type": "execute_result"
    }
   ],
   "source": [
    "1553371571.7736087-1553371571.7398705"
   ]
  },
  {
   "cell_type": "code",
   "execution_count": 34,
   "metadata": {},
   "outputs": [],
   "source": [
    "FF.close()"
   ]
  },
  {
   "cell_type": "code",
   "execution_count": 28,
   "metadata": {},
   "outputs": [
    {
     "data": {
      "text/plain": [
       "1534506"
      ]
     },
     "execution_count": 28,
     "metadata": {},
     "output_type": "execute_result"
    }
   ],
   "source": [
    "len(k)"
   ]
  },
  {
   "cell_type": "code",
   "execution_count": 31,
   "metadata": {},
   "outputs": [],
   "source": [
    "i = 0\n",
    "for x in k:\n",
    "    i+=1\n",
    "    if i > 15249024:\n",
    "        print(x)\n",
    "    if i > 15249024+100:\n",
    "        break"
   ]
  },
  {
   "cell_type": "code",
   "execution_count": 423,
   "metadata": {},
   "outputs": [],
   "source": [
    "z = pd.read_csv('/home/hanghang/Downloads/ticker_list.csv')['Ticker']"
   ]
  },
  {
   "cell_type": "code",
   "execution_count": 431,
   "metadata": {},
   "outputs": [],
   "source": [
    "with open('scodes','w') as f:\n",
    "    f.write(str(z.to_list()).replace('.','_'))"
   ]
  },
  {
   "cell_type": "code",
   "execution_count": 384,
   "metadata": {},
   "outputs": [
    {
     "name": "stdout",
     "output_type": "stream",
     "text": [
      "    |    \n",
      "    |--| \n",
      "    |  | \n",
      "    |  | \n",
      "    |  | \n",
      "    |  | \n",
      " |  |  | \n",
      " |--|  | \n",
      " |     |-\n",
      " |       \n",
      " |       \n",
      " |       \n",
      " |       \n",
      "-|       \n"
     ]
    }
   ],
   "source": [
    "BPAT.translates('0x0f0x0f0x38')"
   ]
  },
  {
   "cell_type": "code",
   "execution_count": 266,
   "metadata": {},
   "outputs": [
    {
     "name": "stdout",
     "output_type": "stream",
     "text": [
      "1\n",
      "2\n"
     ]
    }
   ],
   "source": [
    "x = [(1,2),(2,3)]\n",
    "for a,b in x:\n",
    "    print(a)"
   ]
  },
  {
   "cell_type": "code",
   "execution_count": 161,
   "metadata": {},
   "outputs": [
    {
     "data": {
      "text/plain": [
       "'0x3f0x3f0x3f0x3f0x3f'"
      ]
     },
     "execution_count": 161,
     "metadata": {},
     "output_type": "execute_result"
    }
   ],
   "source": [
    "max(w)"
   ]
  },
  {
   "cell_type": "code",
   "execution_count": 170,
   "metadata": {},
   "outputs": [
    {
     "name": "stdout",
     "output_type": "stream",
     "text": [
      "0x160x240x3c 0x1d\n"
     ]
    }
   ],
   "source": [
    "max_ = 0\n",
    "for k0 in w:\n",
    "    for k1 in w[k0]:\n",
    "        if w[k0][k1]>max_:\n",
    "            max_ = w[k0][k1]\n",
    "            print(k0,k1)"
   ]
  },
  {
   "cell_type": "code",
   "execution_count": 245,
   "metadata": {},
   "outputs": [],
   "source": [
    "k = {}\n",
    "s = 0\n",
    "for z in BPAT.G_DB:\n",
    "    d = BPAT.G_DB[z]\n",
    "    for i in range(len(d)-2):\n",
    "        x = d[i:i+2]\n",
    "        if '0x99' in x:\n",
    "            continue\n",
    "        if ''.join(x) not in k:\n",
    "            k[''.join(x)]=1\n",
    "        else:\n",
    "            k[''.join(x)]+=1\n",
    "        s+=1"
   ]
  },
  {
   "cell_type": "code",
   "execution_count": 244,
   "metadata": {},
   "outputs": [
    {
     "data": {
      "text/plain": [
       "[2]"
      ]
     },
     "execution_count": 244,
     "metadata": {},
     "output_type": "execute_result"
    }
   ],
   "source": [
    "dd = [1,2,3,4,5]\n",
    "dd[1:2]"
   ]
  },
  {
   "cell_type": "code",
   "execution_count": 3,
   "metadata": {
    "collapsed": true
   },
   "outputs": [],
   "source": [
    "quandl.ApiConfig.api_key = 'rixaXs71r2KgkmPHW9jZ'"
   ]
  },
  {
   "cell_type": "code",
   "execution_count": 247,
   "metadata": {},
   "outputs": [
    {
     "data": {
      "text/plain": [
       "<Container object of 4095 artists>"
      ]
     },
     "execution_count": 247,
     "metadata": {},
     "output_type": "execute_result"
    },
    {
     "data": {
      "image/png": "[encoded data removed]",
      "text/plain": [
       "<matplotlib.figure.Figure at 0x7f4b03aa01d0>"
      ]
     },
     "metadata": {},
     "output_type": "display_data"
    }
   ],
   "source": [
    "plt.bar(range(len(k)),sorted(k.values(),reverse = True))"
   ]
  },
  {
   "cell_type": "code",
   "execution_count": 203,
   "metadata": {},
   "outputs": [
    {
     "data": {
      "text/plain": [
       "('0x3f', '0x00')"
      ]
     },
     "execution_count": 203,
     "metadata": {},
     "output_type": "execute_result"
    }
   ],
   "source": [
    "max(k),min(k)"
   ]
  },
  {
   "cell_type": "code",
   "execution_count": 258,
   "metadata": {},
   "outputs": [
    {
     "name": "stdout",
     "output_type": "stream",
     "text": [
      " | \n",
      " |-\n",
      "-| \n",
      " | \n",
      " | \n",
      " | \n",
      " | \n",
      " | \n",
      "\n",
      " | \n",
      "-|-\n",
      " | \n",
      " | \n",
      " | \n",
      " | \n",
      " | \n",
      " | \n"
     ]
    }
   ],
   "source": [
    "BPAT.translate(0x0a)\n",
    "print()\n",
    "BPAT.translate(0x09)"
   ]
  },
  {
   "cell_type": "code",
   "execution_count": 205,
   "metadata": {},
   "outputs": [
    {
     "data": {
      "text/plain": [
       "(0.012191838775431714, 0.011220722279912311)"
      ]
     },
     "execution_count": 205,
     "metadata": {},
     "output_type": "execute_result"
    }
   ],
   "source": [
    "k['0x3f']/s,k['0x00']/s"
   ]
  },
  {
   "cell_type": "code",
   "execution_count": 214,
   "metadata": {},
   "outputs": [
    {
     "data": {
      "text/plain": [
       "'0x38'"
      ]
     },
     "execution_count": 214,
     "metadata": {},
     "output_type": "execute_result"
    }
   ],
   "source": [
    "max(k,key=lambda x:k[x])"
   ]
  },
  {
   "cell_type": "code",
   "execution_count": 233,
   "metadata": {},
   "outputs": [
    {
     "data": {
      "text/plain": [
       "0.0581900696127072"
      ]
     },
     "execution_count": 233,
     "metadata": {},
     "output_type": "execute_result"
    }
   ],
   "source": [
    "6052/s"
   ]
  },
  {
   "cell_type": "code",
   "execution_count": 248,
   "metadata": {},
   "outputs": [],
   "source": [
    "g = sorted(k,key=lambda x:k[x],reverse=True)\n"
   ]
  },
  {
   "cell_type": "code",
   "execution_count": 254,
   "metadata": {},
   "outputs": [
    {
     "data": {
      "text/plain": [
       "'0x0a0x09'"
      ]
     },
     "execution_count": 254,
     "metadata": {},
     "output_type": "execute_result"
    }
   ],
   "source": [
    "g[-1]"
   ]
  },
  {
   "cell_type": "code",
   "execution_count": 253,
   "metadata": {},
   "outputs": [
    {
     "name": "stdout",
     "output_type": "stream",
     "text": [
      " | \n",
      " |-\n",
      " | \n",
      " | \n",
      " | \n",
      " | \n",
      " | \n",
      "-| \n",
      "\n",
      " |-\n",
      " | \n",
      " | \n",
      " | \n",
      " | \n",
      " | \n",
      " | \n",
      "-| \n"
     ]
    }
   ],
   "source": [
    "BPAT.translate(0x0f)\n",
    "print()\n",
    "BPAT.translate(0x07)"
   ]
  },
  {
   "cell_type": "code",
   "execution_count": 19,
   "metadata": {},
   "outputs": [
    {
     "data": {
      "text/plain": [
       "2"
      ]
     },
     "execution_count": 19,
     "metadata": {},
     "output_type": "execute_result"
    }
   ],
   "source": [
    "A.w"
   ]
  },
  {
   "cell_type": "code",
   "execution_count": 258,
   "metadata": {},
   "outputs": [
    {
     "data": {
      "text/plain": [
       "[<matplotlib.lines.Line2D at 0x11cd1fb38>,\n",
       " <matplotlib.lines.Line2D at 0x11cd30f60>]"
      ]
     },
     "execution_count": 258,
     "metadata": {},
     "output_type": "execute_result"
    },
    {
     "data": {
      "image/png": "[encoded data removed]",
      "text/plain": [
       "<Figure size 432x288 with 1 Axes>"
      ]
     },
     "metadata": {},
     "output_type": "display_data"
    }
   ],
   "source": [
    "plt.plot(w.am_ret())\n"
   ]
  },
  {
   "cell_type": "code",
   "execution_count": 366,
   "metadata": {
    "collapsed": true
   },
   "outputs": [],
   "source": [
    "u = ALGS.HW_HMA_VOTER(C=q.Adj_Close)"
   ]
  },
  {
   "cell_type": "code",
   "execution_count": 345,
   "metadata": {
    "collapsed": true
   },
   "outputs": [],
   "source": [
    "#(u.Y == u.Y.max(axis = 1))"
   ]
  },
  {
   "cell_type": "code",
   "execution_count": 368,
   "metadata": {},
   "outputs": [
    {
     "data": {
      "text/plain": [
       "[<matplotlib.lines.Line2D at 0x11d8f8400>,\n",
       " <matplotlib.lines.Line2D at 0x11d900898>]"
      ]
     },
     "execution_count": 368,
     "metadata": {},
     "output_type": "execute_result"
    },
    {
     "data": {
      "image/png": "[encoded data removed]",
      "text/plain": [
       "<Figure size 432x288 with 1 Axes>"
      ]
     },
     "metadata": {},
     "output_type": "display_data"
    }
   ],
   "source": [
    "plt.plot(u.c_ret())"
   ]
  },
  {
   "cell_type": "code",
   "execution_count": 369,
   "metadata": {},
   "outputs": [
    {
     "data": {
      "text/plain": [
       "[<matplotlib.lines.Line2D at 0x11d9bb6d8>]"
      ]
     },
     "execution_count": 369,
     "metadata": {},
     "output_type": "execute_result"
    },
    {
     "data": {
      "image/png": "[encoded data removed]",
      "text/plain": [
       "<Figure size 432x288 with 1 Axes>"
      ]
     },
     "metadata": {},
     "output_type": "display_data"
    }
   ],
   "source": [
    "plt.plot(u())"
   ]
  },
  {
   "cell_type": "code",
   "execution_count": 291,
   "metadata": {},
   "outputs": [
    {
     "data": {
      "text/plain": [
       "0    1.0\n",
       "1    2.0\n",
       "2    3.0\n",
       "3    4.0\n",
       "4    5.0\n",
       "5    6.0\n",
       "6    7.0\n",
       "7    8.0\n",
       "dtype: float64"
      ]
     },
     "execution_count": 291,
     "metadata": {},
     "output_type": "execute_result"
    }
   ],
   "source": [
    "pd.Series(range(0,15,2)).rank(method = 'first')"
   ]
  },
  {
   "cell_type": "code",
   "execution_count": 305,
   "metadata": {},
   "outputs": [
    {
     "data": {
      "text/plain": [
       "29.0"
      ]
     },
     "execution_count": 305,
     "metadata": {},
     "output_type": "execute_result"
    }
   ],
   "source": [
    "u.Y.iloc[5].rank(method = 'first').max()"
   ]
  },
  {
   "cell_type": "code",
   "execution_count": null,
   "metadata": {
    "collapsed": true
   },
   "outputs": [],
   "source": []
  },
  {
   "cell_type": "code",
   "execution_count": 244,
   "metadata": {
    "collapsed": true
   },
   "outputs": [],
   "source": [
    "w = ALGS.HW_HMA_VOTER(C = q.Adj_Close)"
   ]
  },
  {
   "cell_type": "code",
   "execution_count": 245,
   "metadata": {},
   "outputs": [
    {
     "data": {
      "text/plain": [
       "[<matplotlib.lines.Line2D at 0x117d160b8>]"
      ]
     },
     "execution_count": 245,
     "metadata": {},
     "output_type": "execute_result"
    },
    {
     "data": {
      "image/png": "[encoded data removed]",
      "text/plain": [
       "<Figure size 432x288 with 1 Axes>"
      ]
     },
     "metadata": {},
     "output_type": "display_data"
    }
   ],
   "source": [
    "plt.plot(w())"
   ]
  },
  {
   "cell_type": "code",
   "execution_count": 248,
   "metadata": {},
   "outputs": [
    {
     "data": {
      "text/plain": [
       "alg    1.003093\n",
       "alg    1.001760\n",
       "alg    1.003615\n",
       "alg    1.003417\n",
       "alg    1.002571\n",
       "alg    1.003140\n",
       "alg    1.004290\n",
       "alg    1.004372\n",
       "alg    1.004474\n",
       "alg    1.004533\n",
       "alg    1.005151\n",
       "alg    1.003478\n",
       "alg    1.003902\n",
       "alg    1.003361\n",
       "alg    1.002411\n",
       "alg    1.002090\n",
       "alg    1.001702\n",
       "alg    1.001954\n",
       "alg    1.001827\n",
       "alg    1.001743\n",
       "alg    1.001673\n",
       "alg    1.001662\n",
       "alg    1.002047\n",
       "alg    1.002001\n",
       "alg    1.001698\n",
       "alg    1.001591\n",
       "alg    1.001529\n",
       "alg    1.001663\n",
       "alg    1.001330\n",
       "dtype: float64"
      ]
     },
     "execution_count": 248,
     "metadata": {},
     "output_type": "execute_result"
    }
   ],
   "source": [
    "w.Y.mean()"
   ]
  },
  {
   "cell_type": "code",
   "execution_count": 176,
   "metadata": {},
   "outputs": [
    {
     "data": {
      "text/plain": [
       "[<matplotlib.lines.Line2D at 0x11b5f4048>]"
      ]
     },
     "execution_count": 176,
     "metadata": {},
     "output_type": "execute_result"
    },
    {
     "data": {
      "image/png": "[encoded data removed]",
      "text/plain": [
       "<Figure size 432x288 with 1 Axes>"
      ]
     },
     "metadata": {},
     "output_type": "display_data"
    }
   ],
   "source": [
    "plt.plot(w0().iloc[-30:])\n",
    "plt.plot(w3().iloc[-30:])"
   ]
  },
  {
   "cell_type": "code",
   "execution_count": 177,
   "metadata": {},
   "outputs": [
    {
     "data": {
      "text/plain": [
       "[<matplotlib.lines.Line2D at 0x11b62c198>]"
      ]
     },
     "execution_count": 177,
     "metadata": {},
     "output_type": "execute_result"
    },
    {
     "data": {
      "image/png": "[encoded data removed]",
      "text/plain": [
       "<Figure size 432x288 with 1 Axes>"
      ]
     },
     "metadata": {},
     "output_type": "display_data"
    }
   ],
   "source": [
    "# plt.plot(w0.c_ret()['alg'],color = 'green')\n",
    "#plt.plot(w1.c_ret()['alg'],color = 'yellow')\n",
    "# plt.plot(w2.c_ret()['alg'])\n",
    "plt.plot(w0.c_ret()['alg'])\n",
    "#plt.plot(w4.c_ret()['alg'])\n",
    "plt.plot(w0.c_ret()['bch'],color = 'black')"
   ]
  },
  {
   "cell_type": "code",
   "execution_count": 132,
   "metadata": {},
   "outputs": [
    {
     "data": {
      "text/plain": [
       "[<matplotlib.lines.Line2D at 0x11afb9668>]"
      ]
     },
     "execution_count": 132,
     "metadata": {},
     "output_type": "execute_result"
    },
    {
     "data": {
      "image/png": "[encoded data removed]",
      "text/plain": [
       "<Figure size 432x288 with 1 Axes>"
      ]
     },
     "metadata": {},
     "output_type": "display_data"
    }
   ],
   "source": [
    "# plt.plot(w0.c_ret())\n",
    "# plt.plot(w1.c_ret()['alg'])\n",
    "# plt.plot(w2.c_ret()['alg'])\n",
    "plt.plot(w3.c_ret().iloc[-40:])\n",
    "plt.plot((w3()*w3.c_ret()['alg'].max()).iloc[-40:])"
   ]
  },
  {
   "cell_type": "code",
   "execution_count": 113,
   "metadata": {},
   "outputs": [
    {
     "data": {
      "text/plain": [
       "3.0"
      ]
     },
     "execution_count": 113,
     "metadata": {},
     "output_type": "execute_result"
    }
   ],
   "source": [
    "27**(1/3)"
   ]
  },
  {
   "cell_type": "code",
   "execution_count": 365,
   "metadata": {
    "collapsed": true
   },
   "outputs": [],
   "source": [
    "q = quandl.get('EOD/BABA')"
   ]
  },
  {
   "cell_type": "code",
   "execution_count": 30,
   "metadata": {
    "collapsed": true
   },
   "outputs": [],
   "source": [
    "U = (q.Adj_Close.rolling(window = N,center = False).apply(lambda x:abs(x[0]-x[-1])))"
   ]
  },
  {
   "cell_type": "code",
   "execution_count": 29,
   "metadata": {
    "collapsed": true
   },
   "outputs": [],
   "source": [
    "D = q.Adj_Close.rolling(window = N,center = False).apply(lambda x:sum([abs(x[i]-x[i-1]) for i in range(1,N)]))"
   ]
  },
  {
   "cell_type": "code",
   "execution_count": 65,
   "metadata": {},
   "outputs": [
    {
     "data": {
      "text/plain": [
       "[<matplotlib.lines.Line2D at 0x7fa0f7625710>]"
      ]
     },
     "execution_count": 65,
     "metadata": {},
     "output_type": "execute_result"
    },
    {
     "data": {
      "image/png": "[encoded data removed]",
      "text/plain": [
       "<matplotlib.figure.Figure at 0x7fa0f7717a20>"
      ]
     },
     "metadata": {},
     "output_type": "display_data"
    }
   ],
   "source": [
    "plt.plot(IND.KAMA(40)(q.Adj_Close))\n",
    "plt.plot(q.Adj_Close)"
   ]
  },
  {
   "cell_type": "code",
   "execution_count": 79,
   "metadata": {},
   "outputs": [
    {
     "data": {
      "text/plain": [
       "[<matplotlib.lines.Line2D at 0x7fa0fbf9ddd8>]"
      ]
     },
     "execution_count": 79,
     "metadata": {},
     "output_type": "execute_result"
    },
    {
     "data": {
      "image/png": "[encoded data removed]",
      "text/plain": [
       "<matplotlib.figure.Figure at 0x7fa0f76d1320>"
      ]
     },
     "metadata": {},
     "output_type": "display_data"
    }
   ],
   "source": [
    "plt.plot(IND.SMA(4)(IND.EXPSIM(20)(q.Adj_Close)))"
   ]
  },
  {
   "cell_type": "code",
   "execution_count": 86,
   "metadata": {},
   "outputs": [
    {
     "data": {
      "text/plain": [
       "[<matplotlib.lines.Line2D at 0x7fa0f6333828>]"
      ]
     },
     "execution_count": 86,
     "metadata": {},
     "output_type": "execute_result"
    },
    {
     "data": {
      "image/png": "[encoded data removed]",
      "text/plain": [
       "<matplotlib.figure.Figure at 0x7fa0f6380208>"
      ]
     },
     "metadata": {},
     "output_type": "display_data"
    }
   ],
   "source": [
    "plt.plot(q.Adj_Close.rolling(window = N,center=False).std()/q.Adj_Close.rolling(window = N,center= False).mean())"
   ]
  },
  {
   "cell_type": "code",
   "execution_count": 252,
   "metadata": {},
   "outputs": [
    {
     "data": {
      "text/plain": [
       "[<matplotlib.lines.Line2D at 0x7fa0c7e6b320>]"
      ]
     },
     "execution_count": 252,
     "metadata": {},
     "output_type": "execute_result"
    },
    {
     "data": {
      "image/png": "[encoded data removed]",
      "text/plain": [
       "<matplotlib.figure.Figure at 0x7fa0c7f48e80>"
      ]
     },
     "metadata": {},
     "output_type": "display_data"
    }
   ],
   "source": [
    "IND = reload(IND)\n",
    "sss = IND.AMA(60,p=1)(q.Adj_Close)\n",
    "plt.plot(sss[120:300]  ,color = 'red')\n",
    "plt.plot(q.Adj_Close[120:300])\n",
    "plt.plot(IND.SMA(60)(q.Adj_Close)[120:300])"
   ]
  },
  {
   "cell_type": "code",
   "execution_count": 255,
   "metadata": {},
   "outputs": [
    {
     "data": {
      "text/plain": [
       "[<matplotlib.lines.Line2D at 0x7fa0c7d5d5c0>]"
      ]
     },
     "execution_count": 255,
     "metadata": {},
     "output_type": "execute_result"
    },
    {
     "data": {
      "image/png": "[encoded data removed]",
      "text/plain": [
       "<matplotlib.figure.Figure at 0x7fa0c7dd8550>"
      ]
     },
     "metadata": {},
     "output_type": "display_data"
    }
   ],
   "source": [
    "IND = reload(IND)\n",
    "sss = IND.SMA(12)(IND.AMA(60,p=1)(q.Adj_Close))\n",
    "plt.plot(sss[120:300]  ,color = 'red')\n",
    "plt.plot(q.Adj_Close[120:300])\n",
    "plt.plot(IND.SMA(60)(q.Adj_Close)[120:300])"
   ]
  },
  {
   "cell_type": "code",
   "execution_count": 257,
   "metadata": {
    "collapsed": true
   },
   "outputs": [],
   "source": [
    "import ALGS"
   ]
  },
  {
   "cell_type": "code",
   "execution_count": 276,
   "metadata": {
    "collapsed": true
   },
   "outputs": [],
   "source": [
    "q = ALGS.UD_ALG(idc =IND.SMA(12)( IND.HMA(120)(pp.Adj_Close)) )"
   ]
  },
  {
   "cell_type": "code",
   "execution_count": 264,
   "metadata": {
    "collapsed": true
   },
   "outputs": [],
   "source": [
    "pp = quandl.get('EOD/YRD')"
   ]
  },
  {
   "cell_type": "code",
   "execution_count": 277,
   "metadata": {},
   "outputs": [
    {
     "data": {
      "text/plain": [
       "[<matplotlib.lines.Line2D at 0x7fa0c78d4780>]"
      ]
     },
     "execution_count": 277,
     "metadata": {},
     "output_type": "execute_result"
    },
    {
     "data": {
      "image/png": "[encoded data removed]",
      "text/plain": [
       "<matplotlib.figure.Figure at 0x7fa0c797df98>"
      ]
     },
     "metadata": {},
     "output_type": "display_data"
    }
   ],
   "source": [
    "plt.plot(pp.Adj_Close)\n",
    "plt.plot(pp.Adj_Close.max()*q())"
   ]
  },
  {
   "cell_type": "code",
   "execution_count": 246,
   "metadata": {},
   "outputs": [
    {
     "data": {
      "text/plain": [
       "[<matplotlib.lines.Line2D at 0x7fa0f4054080>]"
      ]
     },
     "execution_count": 246,
     "metadata": {},
     "output_type": "execute_result"
    },
    {
     "data": {
      "image/png": "[encoded data removed]",
      "text/plain": [
       "<matplotlib.figure.Figure at 0x7fa0f45a0208>"
      ]
     },
     "metadata": {},
     "output_type": "display_data"
    }
   ],
   "source": [
    "IND = reload(IND)\n",
    "plt.plot((IND.AMA(40,p=1,F = 10)(q.Adj_Close)))\n",
    "plt.plot((IND.SMA(40)(q.Adj_Close)),color = 'red')\n",
    "#plt.plot(q.Adj_Close)\n",
    "#plt.plot(q.Adj_Close)\n"
   ]
  },
  {
   "cell_type": "code",
   "execution_count": 352,
   "metadata": {
    "collapsed": true
   },
   "outputs": [],
   "source": [
    "IND = reload(IND)\n",
    "ALGS = reload(ALGS)"
   ]
  },
  {
   "cell_type": "code",
   "execution_count": 313,
   "metadata": {
    "collapsed": true
   },
   "outputs": [],
   "source": [
    "w = ALGS.CROS_ALG(F = IND.SMA(7)(pp.Adj_Close),S = IND.SMA(33)(pp.Adj_Close))"
   ]
  },
  {
   "cell_type": "code",
   "execution_count": 317,
   "metadata": {},
   "outputs": [
    {
     "data": {
      "text/plain": [
       "[<matplotlib.lines.Line2D at 0x7fa0c74dedd8>]"
      ]
     },
     "execution_count": 317,
     "metadata": {},
     "output_type": "execute_result"
    },
    {
     "data": {
      "image/png": "[encoded data removed]",
      "text/plain": [
       "<matplotlib.figure.Figure at 0x7fa0c74def60>"
      ]
     },
     "metadata": {},
     "output_type": "display_data"
    }
   ],
   "source": [
    "plt.plot(pp.Adj_Close)\n",
    "plt.plot(IND.SMA(5)(w()).fillna(0).apply(lambda x:np.floor(x))*pp.Adj_Close.max())"
   ]
  },
  {
   "cell_type": "code",
   "execution_count": 318,
   "metadata": {
    "collapsed": true
   },
   "outputs": [],
   "source": [
    "F = IND.SMA(7)(pp.Adj_Close)\n",
    "S = IND.SMA(33)(pp.Adj_Close)"
   ]
  },
  {
   "cell_type": "code",
   "execution_count": 320,
   "metadata": {
    "collapsed": true
   },
   "outputs": [],
   "source": [
    "T = IND.SMA(120)(pp.Adj_Close)"
   ]
  },
  {
   "cell_type": "code",
   "execution_count": 323,
   "metadata": {
    "collapsed": true
   },
   "outputs": [],
   "source": [
    "ss = (T>F) & (T>S)"
   ]
  },
  {
   "cell_type": "code",
   "execution_count": 325,
   "metadata": {
    "collapsed": true
   },
   "outputs": [],
   "source": [
    "qq = (T<F) & (T<S)"
   ]
  },
  {
   "cell_type": "code",
   "execution_count": 344,
   "metadata": {
    "collapsed": true
   },
   "outputs": [],
   "source": [
    "D = F-S\n",
    "DD = D*ss"
   ]
  },
  {
   "cell_type": "code",
   "execution_count": 348,
   "metadata": {},
   "outputs": [
    {
     "data": {
      "text/plain": [
       "[<matplotlib.lines.Line2D at 0x7fa0c706deb8>]"
      ]
     },
     "execution_count": 348,
     "metadata": {},
     "output_type": "execute_result"
    },
    {
     "data": {
      "image/png": "[encoded data removed]",
      "text/plain": [
       "<matplotlib.figure.Figure at 0x7fa0c721de10>"
      ]
     },
     "metadata": {},
     "output_type": "display_data"
    }
   ],
   "source": [
    "plt.plot(DD.cumsum())\n",
    "plt.plot(D.cumsum())"
   ]
  },
  {
   "cell_type": "code",
   "execution_count": 354,
   "metadata": {},
   "outputs": [
    {
     "data": {
      "text/plain": [
       "[<matplotlib.lines.Line2D at 0x7fa0c6e42358>]"
      ]
     },
     "execution_count": 354,
     "metadata": {},
     "output_type": "execute_result"
    },
    {
     "data": {
      "image/png": "[encoded data removed]",
      "text/plain": [
       "<matplotlib.figure.Figure at 0x7fa0c6f3a588>"
      ]
     },
     "metadata": {},
     "output_type": "display_data"
    }
   ],
   "source": [
    "plt.plot(ALGS.UD_ALG(idc = D.cumsum()*qq )()*pp.Adj_Close.max())\n",
    "plt.plot(F)\n",
    "plt.plot(S)\n",
    "plt.plot(T)"
   ]
  },
  {
   "cell_type": "code",
   "execution_count": 567,
   "metadata": {
    "collapsed": true
   },
   "outputs": [],
   "source": [
    "ALGS = reload(ALGS)"
   ]
  },
  {
   "cell_type": "code",
   "execution_count": 388,
   "metadata": {
    "collapsed": true
   },
   "outputs": [],
   "source": [
    "a = [ALGS.UD_ALG(idc = IND.HMA(i)(pp.Adj_Close) ) for i in range(5,100,2)]"
   ]
  },
  {
   "cell_type": "code",
   "execution_count": null,
   "metadata": {
    "collapsed": true
   },
   "outputs": [],
   "source": [
    "ALGS.HMA_ALG()"
   ]
  },
  {
   "cell_type": "code",
   "execution_count": 403,
   "metadata": {
    "collapsed": true
   },
   "outputs": [],
   "source": [
    "w = ALGS.HMA_VOTER(pp.Adj_Close)"
   ]
  },
  {
   "cell_type": "code",
   "execution_count": 422,
   "metadata": {},
   "outputs": [
    {
     "data": {
      "text/plain": [
       "[<matplotlib.lines.Line2D at 0x7fa0c634e4e0>]"
      ]
     },
     "execution_count": 422,
     "metadata": {},
     "output_type": "execute_result"
    },
    {
     "data": {
      "image/png": "[encoded data removed]",
      "text/plain": [
       "<matplotlib.figure.Figure at 0x7fa0c6d23a90>"
      ]
     },
     "metadata": {},
     "output_type": "display_data"
    }
   ],
   "source": [
    "plt.plot(ALGS.SIM_ALG(pp.Adj_Close,N=70,tau = 0.5)()*pp.Adj_Close.max())\n",
    "plt.plot(pp.Adj_Close)"
   ]
  },
  {
   "cell_type": "code",
   "execution_count": 425,
   "metadata": {
    "collapsed": true
   },
   "outputs": [],
   "source": [
    "x = ALGS.SIM_VOTER(C=pp.Adj_Close)"
   ]
  },
  {
   "cell_type": "code",
   "execution_count": 430,
   "metadata": {
    "collapsed": true
   },
   "outputs": [],
   "source": [
    "def a(**x):\n",
    "    return x"
   ]
  },
  {
   "cell_type": "code",
   "execution_count": 436,
   "metadata": {
    "collapsed": true
   },
   "outputs": [],
   "source": [
    "class A:\n",
    "    def __init__(self):\n",
    "        self.a = 1\n",
    "    def __call__(self):\n",
    "        return self.a\n",
    "class B:\n",
    "    def __init__(self):\n",
    "        self.a = 2\n",
    "    def x(self):\n",
    "        return self.__call__()\n",
    "class C(A,B):\n",
    "    def __init__(self):\n",
    "        A.__init__(self)\n",
    "        B.__init__(self)"
   ]
  },
  {
   "cell_type": "code",
   "execution_count": 438,
   "metadata": {
    "collapsed": true
   },
   "outputs": [],
   "source": [
    "def f(a):\n",
    "    a.append(1)"
   ]
  },
  {
   "cell_type": "code",
   "execution_count": 462,
   "metadata": {
    "collapsed": true
   },
   "outputs": [],
   "source": [
    "from matplotlib.widgets import TextBox"
   ]
  },
  {
   "cell_type": "code",
   "execution_count": null,
   "metadata": {
    "collapsed": true
   },
   "outputs": [],
   "source": []
  },
  {
   "cell_type": "code",
   "execution_count": 463,
   "metadata": {},
   "outputs": [
    {
     "data": {
      "image/png": "[encoded data removed]",
      "text/plain": [
       "<matplotlib.figure.Figure at 0x7fa0c61ce588>"
      ]
     },
     "metadata": {},
     "output_type": "display_data"
    }
   ],
   "source": [
    "f = plt.figure(figsize = [1,1])\n",
    "p = f.add_axes([0,0,1,1])\n",
    "a = TextBox(p,'w')"
   ]
  },
  {
   "cell_type": "code",
   "execution_count": 465,
   "metadata": {
    "collapsed": true
   },
   "outputs": [],
   "source": [
    "import re"
   ]
  },
  {
   "cell_type": "code",
   "execution_count": 511,
   "metadata": {},
   "outputs": [
    {
     "data": {
      "text/plain": [
       "'asd'"
      ]
     },
     "execution_count": 511,
     "metadata": {},
     "output_type": "execute_result"
    }
   ],
   "source": [
    "s = re.match(r'load ([a-zA-Z_]+)','load asd')\n",
    "s.group(1)"
   ]
  },
  {
   "cell_type": "code",
   "execution_count": 517,
   "metadata": {},
   "outputs": [
    {
     "data": {
      "text/plain": [
       "<bound method TextBox.on_submit of <matplotlib.widgets.TextBox object at 0x7fa0c61ea0f0>>"
      ]
     },
     "execution_count": 517,
     "metadata": {},
     "output_type": "execute_result"
    }
   ],
   "source": [
    "a.__getattribute__('on_submit')"
   ]
  },
  {
   "cell_type": "code",
   "execution_count": 552,
   "metadata": {},
   "outputs": [
    {
     "data": {
      "text/plain": [
       "[<matplotlib.lines.Line2D at 0x7fa0c60bb6a0>]"
      ]
     },
     "execution_count": 552,
     "metadata": {},
     "output_type": "execute_result"
    },
    {
     "data": {
      "image/png": "[encoded data removed]",
      "text/plain": [
       "<matplotlib.figure.Figure at 0x7fa0c611f668>"
      ]
     },
     "metadata": {},
     "output_type": "display_data"
    }
   ],
   "source": [
    "plt.plot(ALGS.HMA_ALG(pp.Close,124)() - ALGS.HMA_ALG(pp.Close,34)())"
   ]
  },
  {
   "cell_type": "code",
   "execution_count": 522,
   "metadata": {
    "collapsed": true
   },
   "outputs": [],
   "source": [
    "def f(a= 2,**args):\n",
    "    return args"
   ]
  },
  {
   "cell_type": "code",
   "execution_count": 562,
   "metadata": {
    "collapsed": true
   },
   "outputs": [],
   "source": [
    "s = pp.Adj_Close.cumsum()/pd.Series(range(1,len(pp.Adj_Close)+1),index=pp.Adj_Close.index)"
   ]
  },
  {
   "cell_type": "code",
   "execution_count": 600,
   "metadata": {
    "collapsed": true
   },
   "outputs": [],
   "source": [
    "w = ALGS.HMA_ALG(C=pp.Close,N = 120)"
   ]
  },
  {
   "cell_type": "code",
   "execution_count": 603,
   "metadata": {},
   "outputs": [
    {
     "data": {
      "text/plain": [
       "[<matplotlib.lines.Line2D at 0x7fa0c5d7fe48>]"
      ]
     },
     "execution_count": 603,
     "metadata": {},
     "output_type": "execute_result"
    },
    {
     "data": {
      "image/png": "[encoded data removed]",
      "text/plain": [
       "<matplotlib.figure.Figure at 0x7fa0c5d63a20>"
      ]
     },
     "metadata": {},
     "output_type": "display_data"
    }
   ],
   "source": [
    "plt.plot(w.ret().cumprod())"
   ]
  },
  {
   "cell_type": "code",
   "execution_count": 602,
   "metadata": {},
   "outputs": [
    {
     "data": {
      "text/plain": [
       "[<matplotlib.lines.Line2D at 0x7fa0c5d8b748>]"
      ]
     },
     "execution_count": 602,
     "metadata": {},
     "output_type": "execute_result"
    },
    {
     "data": {
      "image/png": "[encoded data removed]",
      "text/plain": [
       "<matplotlib.figure.Figure at 0x7fa0c6619e10>"
      ]
     },
     "metadata": {},
     "output_type": "display_data"
    }
   ],
   "source": [
    "plt.plot(w.m_ret())"
   ]
  },
  {
   "cell_type": "code",
   "execution_count": 599,
   "metadata": {
    "collapsed": true
   },
   "outputs": [],
   "source": [
    "ALGS = reload(ALGS)"
   ]
  },
  {
   "cell_type": "code",
   "execution_count": null,
   "metadata": {
    "collapsed": true
   },
   "outputs": [],
   "source": []
  },
  {
   "cell_type": "code",
   "execution_count": 542,
   "metadata": {},
   "outputs": [
    {
     "data": {
      "text/plain": [
       "'[sad]+[f]'"
      ]
     },
     "execution_count": 542,
     "metadata": {},
     "output_type": "execute_result"
    }
   ],
   "source": [
    "re.sub(r'\\$([a-zA-Z][a-zA-Z0-9_]*)', r'[\\1]', '$sad+$f',re.M) "
   ]
  },
  {
   "cell_type": "code",
   "execution_count": 548,
   "metadata": {},
   "outputs": [
    {
     "data": {
      "text/plain": [
       "False"
      ]
     },
     "execution_count": 548,
     "metadata": {},
     "output_type": "execute_result"
    }
   ],
   "source": [
    "type(pd.DataFrame()) is pd.Series"
   ]
  },
  {
   "cell_type": "code",
   "execution_count": null,
   "metadata": {
    "collapsed": true
   },
   "outputs": [],
   "source": [
    "inspect.getsource"
   ]
  },
  {
   "cell_type": "code",
   "execution_count": 428,
   "metadata": {},
   "outputs": [
    {
     "data": {
      "text/plain": [
       "[<matplotlib.lines.Line2D at 0x7fa0c63126d8>]"
      ]
     },
     "execution_count": 428,
     "metadata": {},
     "output_type": "execute_result"
    },
    {
     "data": {
      "image/png": "[encoded data removed]",
      "text/plain": [
       "<matplotlib.figure.Figure at 0x7fa0c62fdc18>"
      ]
     },
     "metadata": {},
     "output_type": "display_data"
    }
   ],
   "source": [
    "plt.plot(u)"
   ]
  },
  {
   "cell_type": "code",
   "execution_count": 406,
   "metadata": {},
   "outputs": [
    {
     "data": {
      "text/plain": [
       "[<matplotlib.lines.Line2D at 0x7fa0c6b87eb8>]"
      ]
     },
     "execution_count": 406,
     "metadata": {},
     "output_type": "execute_result"
    },
    {
     "data": {
      "image/png": "[encoded data removed]",
      "text/plain": [
       "<matplotlib.figure.Figure at 0x7fa0c6b85e80>"
      ]
     },
     "metadata": {},
     "output_type": "display_data"
    }
   ],
   "source": [
    "plt.plot(g)"
   ]
  },
  {
   "cell_type": "code",
   "execution_count": 395,
   "metadata": {},
   "outputs": [
    {
     "data": {
      "text/plain": [
       "[<matplotlib.lines.Line2D at 0x7fa0c6c35828>]"
      ]
     },
     "execution_count": 395,
     "metadata": {},
     "output_type": "execute_result"
    },
    {
     "data": {
      "image/png": "[encoded data removed]",
      "text/plain": [
       "<matplotlib.figure.Figure at 0x7fa0c6cfd5f8>"
      ]
     },
     "metadata": {},
     "output_type": "display_data"
    }
   ],
   "source": [
    "plt.plot(IND.SMA(12)(g)*pp.Adj_Close.max())\n",
    "plt.plot(pp.Adj_Close)"
   ]
  },
  {
   "cell_type": "code",
   "execution_count": 383,
   "metadata": {
    "collapsed": true
   },
   "outputs": [],
   "source": [
    "we = np.ones(len(w.voters))"
   ]
  },
  {
   "cell_type": "code",
   "execution_count": 382,
   "metadata": {},
   "outputs": [
    {
     "data": {
      "text/plain": [
       "Date\n",
       "2019-02-19    48.0\n",
       "2019-02-20    48.0\n",
       "2019-02-21    46.0\n",
       "2019-02-22    48.0\n",
       "2019-02-25    48.0\n",
       "dtype: float64"
      ]
     },
     "execution_count": 382,
     "metadata": {},
     "output_type": "execute_result"
    }
   ],
   "source": [
    "g.sum().tail()"
   ]
  },
  {
   "cell_type": "code",
   "execution_count": 386,
   "metadata": {},
   "outputs": [
    {
     "data": {
      "text/plain": [
       "Date\n",
       "2015-12-18    0.000000\n",
       "2015-12-21    0.000000\n",
       "2015-12-22    0.000000\n",
       "2015-12-23    0.000000\n",
       "2015-12-24    0.000000\n",
       "2015-12-28    0.000000\n",
       "2015-12-29    0.020833\n",
       "2015-12-30    0.000000\n",
       "2015-12-31    0.000000\n",
       "2016-01-04    0.000000\n",
       "2016-01-05    0.000000\n",
       "2016-01-06    0.000000\n",
       "2016-01-07    0.000000\n",
       "2016-01-08    0.000000\n",
       "2016-01-11    0.000000\n",
       "2016-01-12    0.000000\n",
       "2016-01-13    0.041667\n",
       "2016-01-14    0.104167\n",
       "2016-01-15    0.125000\n",
       "2016-01-19    0.104167\n",
       "2016-01-20    0.104167\n",
       "2016-01-21    0.062500\n",
       "2016-01-22    0.083333\n",
       "2016-01-25    0.083333\n",
       "2016-01-26    0.062500\n",
       "2016-01-27    0.041667\n",
       "2016-01-28    0.041667\n",
       "2016-01-29    0.020833\n",
       "2016-02-01    0.000000\n",
       "2016-02-02    0.000000\n",
       "                ...   \n",
       "2019-01-11    0.437500\n",
       "2019-01-14    0.458333\n",
       "2019-01-15    0.479167\n",
       "2019-01-16    0.520833\n",
       "2019-01-17    0.479167\n",
       "2019-01-18    0.458333\n",
       "2019-01-22    0.375000\n",
       "2019-01-23    0.312500\n",
       "2019-01-24    0.270833\n",
       "2019-01-25    0.333333\n",
       "2019-01-28    0.354167\n",
       "2019-01-29    0.354167\n",
       "2019-01-30    0.354167\n",
       "2019-01-31    0.479167\n",
       "2019-02-01    0.541667\n",
       "2019-02-04    0.479167\n",
       "2019-02-05    0.458333\n",
       "2019-02-06    0.458333\n",
       "2019-02-07    0.333333\n",
       "2019-02-08    0.291667\n",
       "2019-02-11    0.333333\n",
       "2019-02-12    0.395833\n",
       "2019-02-13    0.791667\n",
       "2019-02-14    0.958333\n",
       "2019-02-15    1.000000\n",
       "2019-02-19    1.000000\n",
       "2019-02-20    1.000000\n",
       "2019-02-21    0.958333\n",
       "2019-02-22    1.000000\n",
       "2019-02-25    1.000000\n",
       "Length: 800, dtype: float64"
      ]
     },
     "execution_count": 386,
     "metadata": {},
     "output_type": "execute_result"
    }
   ],
   "source": [
    "g.apply(lambda x:np.dot(we,x)/sum(we))"
   ]
  },
  {
   "cell_type": "code",
   "execution_count": null,
   "metadata": {
    "collapsed": true
   },
   "outputs": [],
   "source": []
  },
  {
   "cell_type": "code",
   "execution_count": null,
   "metadata": {
    "collapsed": true
   },
   "outputs": [],
   "source": []
  },
  {
   "cell_type": "code",
   "execution_count": null,
   "metadata": {
    "collapsed": true
   },
   "outputs": [],
   "source": []
  },
  {
   "cell_type": "code",
   "execution_count": null,
   "metadata": {
    "collapsed": true
   },
   "outputs": [],
   "source": []
  },
  {
   "cell_type": "code",
   "execution_count": null,
   "metadata": {
    "collapsed": true
   },
   "outputs": [],
   "source": []
  },
  {
   "cell_type": "code",
   "execution_count": null,
   "metadata": {
    "collapsed": true
   },
   "outputs": [],
   "source": []
  },
  {
   "cell_type": "code",
   "execution_count": null,
   "metadata": {
    "collapsed": true
   },
   "outputs": [],
   "source": []
  }
 ],
 "metadata": {
  "kernelspec": {
   "display_name": "Python 3",
   "language": "python",
   "name": "python3"
  },
  "language_info": {
   "codemirror_mode": {
    "name": "ipython",
    "version": 3
   },
   "file_extension": ".py",
   "mimetype": "text/x-python",
   "name": "python",
   "nbconvert_exporter": "python",
   "pygments_lexer": "ipython3",
   "version": "3.6.8"
  },
  "latex_envs": {
   "LaTeX_envs_menu_present": true,
   "autocomplete": true,
   "bibliofile": "biblio.bib",
   "cite_by": "apalike",
   "current_citInitial": 1,
   "eqLabelWithNumbers": true,
   "eqNumInitial": 1,
   "hotkeys": {
    "equation": "Ctrl-E",
    "itemize": "Ctrl-I"
   },
   "labels_anchors": false,
   "latex_user_defs": false,
   "report_style_numbering": true,
   "user_envs_cfg": false
  }
 },
 "nbformat": 4,
 "nbformat_minor": 2
}
